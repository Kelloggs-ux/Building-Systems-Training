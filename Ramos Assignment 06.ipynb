{
  "nbformat": 4,
  "nbformat_minor": 0,
  "metadata": {
    "colab": {
      "name": "Ramos_Assignment 6.ipynb",
      "provenance": [],
      "collapsed_sections": []
    },
    "kernelspec": {
      "name": "python3",
      "display_name": "Python 3"
    }
  },
  "cells": [
    {
      "cell_type": "markdown",
      "metadata": {
        "id": "Na9u6WtU-tMm"
      },
      "source": [
        "# Assignment 6"
      ]
    },
    {
      "cell_type": "code",
      "metadata": {
        "id": "R3rE4Mzc-Zd3"
      },
      "source": [
        "import numpy as np\n",
        "import pandas as pd"
      ],
      "execution_count": 179,
      "outputs": []
    },
    {
      "cell_type": "markdown",
      "metadata": {
        "id": "qpWlFcmd-sp2"
      },
      "source": [
        "## Data"
      ]
    },
    {
      "cell_type": "code",
      "metadata": {
        "id": "RoyQJPPz-4da"
      },
      "source": [
        "Wall_Heigh = 3\n",
        "Wall_Wide = 5\n",
        "Area_Total = Wall_Heigh * Wall_Wide\n",
        "Unit_Depth = 1\n",
        "Unit_Heigh = 0.25\n",
        "Unit_Area = Unit_Depth * Unit_Heigh\n",
        "Temperature_Indoor = 20\n",
        "Temperature_Outdoor = -10\n",
        "\n",
        "Categories = [\"Type\",\"Area\",\"h\",\"k\",\"L\",\"RValue\"]\n",
        "\n",
        "Resistances_Wall_Names = [\"R_Internal\",\"R_Foam\",\"R_Plaster1\",\"R_Parallel\",\"R_Plaster2\",\"R_External\"]\n",
        "Resistances_Wall_Type = [\"conv\",\"cond\",\"cond\",\"cond\",\"cond\",\"conv\"]\n",
        "Resistances_Wall_Area = [Unit_Area,Unit_Area,Unit_Area,Unit_Area,Unit_Area,Unit_Area]\n",
        "Resistances_Wall_h = [10,None,None,None,None,25]  \n",
        "Resistances_Wall_k = [None,0.026,0.22,None,0.22,None]\n",
        "Resistances_Wall_L = [None,0.03,0.02,0.16,0.02,None]\n",
        "Resistances_Wall_RValue = [0,0,0,0,0,0]\n",
        "\n",
        "resistance_ListOfLists_Wall = [Resistances_Wall_Type,Resistances_Wall_Area,Resistances_Wall_h,Resistances_Wall_k,Resistances_Wall_L,Resistances_Wall_RValue]\n",
        "resistances_DF_Wall = pd.DataFrame(resistance_ListOfLists_Wall,index=Categories,columns=Resistances_Wall_Names)\n",
        "resistances_DF_Wall = resistances_DF_Wall.transpose()\n",
        "\n",
        "Resistance_Parallel_Names = [\"R_Plaster_Brick1\",\"R_Brick\",\"R_Plaster_Brick2\"]\n",
        "Resistance_Parallel_Type = [\"cond\",\"cond\",\"cond\"]\n",
        "Resistance_Parallel_Area = [Unit_Depth*0.015,Unit_Depth*0.22,Unit_Depth*0.015]\n",
        "Resistance_Parallel_k = [0.22,0.72,0.22]\n",
        "Resistance_Parallel_L = [0.16,0.16,0.16]\n",
        "Resistance_Parallel_h = [None,None,None]\n",
        "Resistance_Parallel_RValue = [0,0,0]\n",
        "\n",
        "resistance_ListOfLists_Parallel = [Resistance_Parallel_Type,Resistance_Parallel_Area,Resistance_Parallel_h,Resistance_Parallel_k,Resistance_Parallel_L,Resistance_Parallel_RValue]\n",
        "resistances_DF_Parallel = pd.DataFrame(resistance_ListOfLists_Parallel,index=Categories,columns=Resistance_Parallel_Names)\n",
        "resistances_DF_Parallel = resistances_DF_Parallel.transpose()"
      ],
      "execution_count": 196,
      "outputs": []
    },
    {
      "cell_type": "code",
      "metadata": {
        "id": "gzrYPbqKC2b4",
        "outputId": "38d24a15-aab7-4084-e0a9-a1f69462f60a",
        "colab": {
          "base_uri": "https://localhost:8080/",
          "height": 225
        }
      },
      "source": [
        "resistances_DF_Wall"
      ],
      "execution_count": 201,
      "outputs": [
        {
          "output_type": "execute_result",
          "data": {
            "text/html": [
              "<div>\n",
              "<style scoped>\n",
              "    .dataframe tbody tr th:only-of-type {\n",
              "        vertical-align: middle;\n",
              "    }\n",
              "\n",
              "    .dataframe tbody tr th {\n",
              "        vertical-align: top;\n",
              "    }\n",
              "\n",
              "    .dataframe thead th {\n",
              "        text-align: right;\n",
              "    }\n",
              "</style>\n",
              "<table border=\"1\" class=\"dataframe\">\n",
              "  <thead>\n",
              "    <tr style=\"text-align: right;\">\n",
              "      <th></th>\n",
              "      <th>Type</th>\n",
              "      <th>Area</th>\n",
              "      <th>h</th>\n",
              "      <th>k</th>\n",
              "      <th>L</th>\n",
              "      <th>RValue</th>\n",
              "    </tr>\n",
              "  </thead>\n",
              "  <tbody>\n",
              "    <tr>\n",
              "      <th>R_Internal</th>\n",
              "      <td>conv</td>\n",
              "      <td>0.25</td>\n",
              "      <td>10</td>\n",
              "      <td>None</td>\n",
              "      <td>None</td>\n",
              "      <td>0</td>\n",
              "    </tr>\n",
              "    <tr>\n",
              "      <th>R_Foam</th>\n",
              "      <td>cond</td>\n",
              "      <td>0.25</td>\n",
              "      <td>None</td>\n",
              "      <td>0.026</td>\n",
              "      <td>0.03</td>\n",
              "      <td>0</td>\n",
              "    </tr>\n",
              "    <tr>\n",
              "      <th>R_Plaster1</th>\n",
              "      <td>cond</td>\n",
              "      <td>0.25</td>\n",
              "      <td>None</td>\n",
              "      <td>0.22</td>\n",
              "      <td>0.02</td>\n",
              "      <td>0</td>\n",
              "    </tr>\n",
              "    <tr>\n",
              "      <th>R_Parallel</th>\n",
              "      <td>cond</td>\n",
              "      <td>0.25</td>\n",
              "      <td>None</td>\n",
              "      <td>None</td>\n",
              "      <td>0.16</td>\n",
              "      <td>0</td>\n",
              "    </tr>\n",
              "    <tr>\n",
              "      <th>R_Plaster2</th>\n",
              "      <td>cond</td>\n",
              "      <td>0.25</td>\n",
              "      <td>None</td>\n",
              "      <td>0.22</td>\n",
              "      <td>0.02</td>\n",
              "      <td>0</td>\n",
              "    </tr>\n",
              "    <tr>\n",
              "      <th>R_External</th>\n",
              "      <td>conv</td>\n",
              "      <td>0.25</td>\n",
              "      <td>25</td>\n",
              "      <td>None</td>\n",
              "      <td>None</td>\n",
              "      <td>0</td>\n",
              "    </tr>\n",
              "  </tbody>\n",
              "</table>\n",
              "</div>"
            ],
            "text/plain": [
              "            Type  Area     h      k     L RValue\n",
              "R_Internal  conv  0.25    10   None  None      0\n",
              "R_Foam      cond  0.25  None  0.026  0.03      0\n",
              "R_Plaster1  cond  0.25  None   0.22  0.02      0\n",
              "R_Parallel  cond  0.25  None   None  0.16      0\n",
              "R_Plaster2  cond  0.25  None   0.22  0.02      0\n",
              "R_External  conv  0.25    25   None  None      0"
            ]
          },
          "metadata": {
            "tags": []
          },
          "execution_count": 201
        }
      ]
    },
    {
      "cell_type": "code",
      "metadata": {
        "id": "PyM7ZSE7C450",
        "outputId": "2a46fd62-1b9c-416e-fe53-34b090bd8a79",
        "colab": {
          "base_uri": "https://localhost:8080/",
          "height": 136
        }
      },
      "source": [
        "resistances_DF_Parallel"
      ],
      "execution_count": 202,
      "outputs": [
        {
          "output_type": "execute_result",
          "data": {
            "text/html": [
              "<div>\n",
              "<style scoped>\n",
              "    .dataframe tbody tr th:only-of-type {\n",
              "        vertical-align: middle;\n",
              "    }\n",
              "\n",
              "    .dataframe tbody tr th {\n",
              "        vertical-align: top;\n",
              "    }\n",
              "\n",
              "    .dataframe thead th {\n",
              "        text-align: right;\n",
              "    }\n",
              "</style>\n",
              "<table border=\"1\" class=\"dataframe\">\n",
              "  <thead>\n",
              "    <tr style=\"text-align: right;\">\n",
              "      <th></th>\n",
              "      <th>Type</th>\n",
              "      <th>Area</th>\n",
              "      <th>h</th>\n",
              "      <th>k</th>\n",
              "      <th>L</th>\n",
              "      <th>RValue</th>\n",
              "    </tr>\n",
              "  </thead>\n",
              "  <tbody>\n",
              "    <tr>\n",
              "      <th>R_Plaster_Brick1</th>\n",
              "      <td>cond</td>\n",
              "      <td>0.015</td>\n",
              "      <td>None</td>\n",
              "      <td>0.22</td>\n",
              "      <td>0.16</td>\n",
              "      <td>0</td>\n",
              "    </tr>\n",
              "    <tr>\n",
              "      <th>R_Brick</th>\n",
              "      <td>cond</td>\n",
              "      <td>0.22</td>\n",
              "      <td>None</td>\n",
              "      <td>0.72</td>\n",
              "      <td>0.16</td>\n",
              "      <td>0</td>\n",
              "    </tr>\n",
              "    <tr>\n",
              "      <th>R_Plaster_Brick2</th>\n",
              "      <td>cond</td>\n",
              "      <td>0.015</td>\n",
              "      <td>None</td>\n",
              "      <td>0.22</td>\n",
              "      <td>0.16</td>\n",
              "      <td>0</td>\n",
              "    </tr>\n",
              "  </tbody>\n",
              "</table>\n",
              "</div>"
            ],
            "text/plain": [
              "                  Type   Area     h     k     L RValue\n",
              "R_Plaster_Brick1  cond  0.015  None  0.22  0.16      0\n",
              "R_Brick           cond   0.22  None  0.72  0.16      0\n",
              "R_Plaster_Brick2  cond  0.015  None  0.22  0.16      0"
            ]
          },
          "metadata": {
            "tags": []
          },
          "execution_count": 202
        }
      ]
    },
    {
      "cell_type": "markdown",
      "metadata": {
        "id": "nVrOHIS-A2DP"
      },
      "source": [
        "## Calculating the Resistance Value of the Parallel Resistances"
      ]
    },
    {
      "cell_type": "code",
      "metadata": {
        "id": "54EVL5Eu1Wkc"
      },
      "source": [
        "IsCond = (resistances_DF_Wall.loc[:,\"Type\"] == \"cond\") & (resistances_DF_Wall.loc[:,\"k\"].notna())\n",
        "IsConv = (resistances_DF_Wall.loc[:,\"Type\"] == \"conv\") & (resistances_DF_Wall.loc[:,\"h\"].notna())"
      ],
      "execution_count": 269,
      "outputs": []
    },
    {
      "cell_type": "code",
      "metadata": {
        "id": "4wZfxsZQrblh"
      },
      "source": [
        "def   RValue_cond (Serie):\n",
        "    RValue = Serie[\"L\"]/(Serie[\"Area\"]*Serie[\"k\"])\n",
        "    return RValue\n",
        "\n",
        "def   RValue_conv (Serie):\n",
        "    RValue = 1./(Serie[\"Area\"]*Serie[\"h\"])\n",
        "    return RValue"
      ],
      "execution_count": 270,
      "outputs": []
    },
    {
      "cell_type": "code",
      "metadata": {
        "id": "JLbaHXpV0wEx"
      },
      "source": [
        "for i in resistances_DF_Wall[IsCond].index:\n",
        "  resistances_DF_Wall.loc[i,\"RValue\"] = RValue_cond(resistances_DF_Wall.loc[i,:])\n",
        "\n",
        "for i in resistances_DF_Wall[IsConv].index:\n",
        "  resistances_DF_Wall.loc[i,\"RValue\"] = RValue_conv(resistances_DF_Wall.loc[i,:])"
      ],
      "execution_count": 271,
      "outputs": []
    },
    {
      "cell_type": "code",
      "metadata": {
        "id": "zG7K8VPRDXDD"
      },
      "source": [
        "#We can do this defining a function and using a for or with the next definitions:\n",
        "#resistances_DF_Wall.loc[IsCond,\"RValue\"] = resistances_DF_Wall[IsCond][\"L\"]/(resistances_DF_Wall[IsCond][\"Area\"] * resistances_DF_Wall[IsCond][\"k\"])\n",
        "#resistances_DF_Wall.loc[IsConv,\"RValue\"] = 1./(resistances_DF_Wall[IsConv][\"Area\"] * resistances_DF_Wall[IsConv][\"h\"])\n",
        "\n",
        "for i in resistances_DF_Parallel.index:\n",
        "  if resistances_DF_Parallel.loc[i,\"Type\"] == \"cond\":\n",
        "    RValue_i = RValue_cond(resistances_DF_Parallel.loc[i,:])\n",
        "    resistances_DF_Parallel.loc[i,\"RValue\"] = RValue_i\n",
        "\n",
        "resistances_DF_Wall.loc[\"R_Parallel\",\"RValue\"] = 1./(np.power(resistances_DF_Parallel.loc[:,\"RValue\"],-1).sum())"
      ],
      "execution_count": 273,
      "outputs": []
    },
    {
      "cell_type": "code",
      "metadata": {
        "id": "mcmeF7jIJ3sZ",
        "outputId": "03aefce0-1002-467f-87ab-eef85304ac61",
        "colab": {
          "base_uri": "https://localhost:8080/",
          "height": 136
        }
      },
      "source": [
        "resistances_DF_Parallel"
      ],
      "execution_count": 274,
      "outputs": [
        {
          "output_type": "execute_result",
          "data": {
            "text/html": [
              "<div>\n",
              "<style scoped>\n",
              "    .dataframe tbody tr th:only-of-type {\n",
              "        vertical-align: middle;\n",
              "    }\n",
              "\n",
              "    .dataframe tbody tr th {\n",
              "        vertical-align: top;\n",
              "    }\n",
              "\n",
              "    .dataframe thead th {\n",
              "        text-align: right;\n",
              "    }\n",
              "</style>\n",
              "<table border=\"1\" class=\"dataframe\">\n",
              "  <thead>\n",
              "    <tr style=\"text-align: right;\">\n",
              "      <th></th>\n",
              "      <th>Type</th>\n",
              "      <th>Area</th>\n",
              "      <th>h</th>\n",
              "      <th>k</th>\n",
              "      <th>L</th>\n",
              "      <th>RValue</th>\n",
              "    </tr>\n",
              "  </thead>\n",
              "  <tbody>\n",
              "    <tr>\n",
              "      <th>R_Plaster_Brick1</th>\n",
              "      <td>cond</td>\n",
              "      <td>0.015</td>\n",
              "      <td>None</td>\n",
              "      <td>0.22</td>\n",
              "      <td>0.16</td>\n",
              "      <td>48.4848</td>\n",
              "    </tr>\n",
              "    <tr>\n",
              "      <th>R_Brick</th>\n",
              "      <td>cond</td>\n",
              "      <td>0.22</td>\n",
              "      <td>None</td>\n",
              "      <td>0.72</td>\n",
              "      <td>0.16</td>\n",
              "      <td>1.0101</td>\n",
              "    </tr>\n",
              "    <tr>\n",
              "      <th>R_Plaster_Brick2</th>\n",
              "      <td>cond</td>\n",
              "      <td>0.015</td>\n",
              "      <td>None</td>\n",
              "      <td>0.22</td>\n",
              "      <td>0.16</td>\n",
              "      <td>48.4848</td>\n",
              "    </tr>\n",
              "  </tbody>\n",
              "</table>\n",
              "</div>"
            ],
            "text/plain": [
              "                  Type   Area     h     k     L   RValue\n",
              "R_Plaster_Brick1  cond  0.015  None  0.22  0.16  48.4848\n",
              "R_Brick           cond   0.22  None  0.72  0.16   1.0101\n",
              "R_Plaster_Brick2  cond  0.015  None  0.22  0.16  48.4848"
            ]
          },
          "metadata": {
            "tags": []
          },
          "execution_count": 274
        }
      ]
    },
    {
      "cell_type": "code",
      "metadata": {
        "id": "4Jh8rTHWKtsl",
        "outputId": "bc6063b8-4239-4461-9cb0-829273708c23",
        "colab": {
          "base_uri": "https://localhost:8080/",
          "height": 225
        }
      },
      "source": [
        "resistances_DF_Wall"
      ],
      "execution_count": 275,
      "outputs": [
        {
          "output_type": "execute_result",
          "data": {
            "text/html": [
              "<div>\n",
              "<style scoped>\n",
              "    .dataframe tbody tr th:only-of-type {\n",
              "        vertical-align: middle;\n",
              "    }\n",
              "\n",
              "    .dataframe tbody tr th {\n",
              "        vertical-align: top;\n",
              "    }\n",
              "\n",
              "    .dataframe thead th {\n",
              "        text-align: right;\n",
              "    }\n",
              "</style>\n",
              "<table border=\"1\" class=\"dataframe\">\n",
              "  <thead>\n",
              "    <tr style=\"text-align: right;\">\n",
              "      <th></th>\n",
              "      <th>Type</th>\n",
              "      <th>Area</th>\n",
              "      <th>h</th>\n",
              "      <th>k</th>\n",
              "      <th>L</th>\n",
              "      <th>RValue</th>\n",
              "    </tr>\n",
              "  </thead>\n",
              "  <tbody>\n",
              "    <tr>\n",
              "      <th>R_Internal</th>\n",
              "      <td>conv</td>\n",
              "      <td>0.25</td>\n",
              "      <td>10</td>\n",
              "      <td>None</td>\n",
              "      <td>None</td>\n",
              "      <td>0.4</td>\n",
              "    </tr>\n",
              "    <tr>\n",
              "      <th>R_Foam</th>\n",
              "      <td>cond</td>\n",
              "      <td>0.25</td>\n",
              "      <td>None</td>\n",
              "      <td>0.026</td>\n",
              "      <td>0.03</td>\n",
              "      <td>4.61538</td>\n",
              "    </tr>\n",
              "    <tr>\n",
              "      <th>R_Plaster1</th>\n",
              "      <td>cond</td>\n",
              "      <td>0.25</td>\n",
              "      <td>None</td>\n",
              "      <td>0.22</td>\n",
              "      <td>0.02</td>\n",
              "      <td>0.363636</td>\n",
              "    </tr>\n",
              "    <tr>\n",
              "      <th>R_Parallel</th>\n",
              "      <td>cond</td>\n",
              "      <td>0.25</td>\n",
              "      <td>None</td>\n",
              "      <td>None</td>\n",
              "      <td>0.16</td>\n",
              "      <td>0.969697</td>\n",
              "    </tr>\n",
              "    <tr>\n",
              "      <th>R_Plaster2</th>\n",
              "      <td>cond</td>\n",
              "      <td>0.25</td>\n",
              "      <td>None</td>\n",
              "      <td>0.22</td>\n",
              "      <td>0.02</td>\n",
              "      <td>0.363636</td>\n",
              "    </tr>\n",
              "    <tr>\n",
              "      <th>R_External</th>\n",
              "      <td>conv</td>\n",
              "      <td>0.25</td>\n",
              "      <td>25</td>\n",
              "      <td>None</td>\n",
              "      <td>None</td>\n",
              "      <td>0.16</td>\n",
              "    </tr>\n",
              "  </tbody>\n",
              "</table>\n",
              "</div>"
            ],
            "text/plain": [
              "            Type  Area     h      k     L    RValue\n",
              "R_Internal  conv  0.25    10   None  None       0.4\n",
              "R_Foam      cond  0.25  None  0.026  0.03   4.61538\n",
              "R_Plaster1  cond  0.25  None   0.22  0.02  0.363636\n",
              "R_Parallel  cond  0.25  None   None  0.16  0.969697\n",
              "R_Plaster2  cond  0.25  None   0.22  0.02  0.363636\n",
              "R_External  conv  0.25    25   None  None      0.16"
            ]
          },
          "metadata": {
            "tags": []
          },
          "execution_count": 275
        }
      ]
    },
    {
      "cell_type": "code",
      "metadata": {
        "id": "TjyvXNyJKv3-",
        "outputId": "0548d000-8e89-45e6-d6c5-94999a45444d",
        "colab": {
          "base_uri": "https://localhost:8080/",
          "height": 34
        }
      },
      "source": [
        "R_Total_Wall = resistances_DF_Wall[\"RValue\"].sum()\n",
        "#R_Total_Wall = np.sum(resistances_DF_Wall[\"RValue\"])\n",
        "R_Total_Wall"
      ],
      "execution_count": 292,
      "outputs": [
        {
          "output_type": "execute_result",
          "data": {
            "text/plain": [
              "6.872354312354313"
            ]
          },
          "metadata": {
            "tags": []
          },
          "execution_count": 292
        }
      ]
    },
    {
      "cell_type": "code",
      "metadata": {
        "id": "LOx3vK7FDLif"
      },
      "source": [
        "Q_Unit = (Temperature_Indoor - Temperature_Outdoor)/R_Total_Wall\n",
        "Q_Total = Q_Unit * Wall_Heigh/Unit_Heigh * Wall_Wide"
      ],
      "execution_count": 293,
      "outputs": []
    },
    {
      "cell_type": "code",
      "metadata": {
        "id": "73VVD_mbBrX8",
        "outputId": "55cb61bd-1070-4f24-ae0c-ddafda1a6a28",
        "colab": {
          "base_uri": "https://localhost:8080/",
          "height": 34
        }
      },
      "source": [
        "print(\"The Rate of Heat Transfer through the wall is \"+str(round(Q_Total,2))+\" Watts\")"
      ],
      "execution_count": 290,
      "outputs": [
        {
          "output_type": "stream",
          "text": [
            "The Rate of Heat Transfer through the wall is 261.92 Watts\n"
          ],
          "name": "stdout"
        }
      ]
    },
    {
      "cell_type": "code",
      "metadata": {
        "id": "xhx7sz01CunN"
      },
      "source": [
        ""
      ],
      "execution_count": null,
      "outputs": []
    }
  ]
}