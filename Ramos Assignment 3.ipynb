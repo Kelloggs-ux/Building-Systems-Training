{
  "nbformat": 4,
  "nbformat_minor": 0,
  "metadata": {
    "colab": {
      "name": "Ramos_Assignment 3.ipynb",
      "provenance": []
    },
    "kernelspec": {
      "name": "python3",
      "display_name": "Python 3"
    }
  },
  "cells": [
    {
      "cell_type": "markdown",
      "metadata": {
        "id": "6k5wdVAvHNeZ"
      },
      "source": [
        "# Assignment 3\n",
        "\n",
        "## Part 1\n",
        "\n",
        "### Data"
      ]
    },
    {
      "cell_type": "code",
      "metadata": {
        "id": "ZUUVHXjTIE4Z"
      },
      "source": [
        "Area = round (0.8*1.5,4)\n",
        "R_int = {\"Name\":\"Internal Resistance\",\"Type\":\"convective\",\"k\":10,\"Area\":Area}\n",
        "R_glass = {\"Name\":\"Glass Resistance\",\"Type\":\"conductive\",\"Length\":0.004,\"Conductivity\":0.78,\"Area\":Area}\n",
        "R_air = {\"Name\":\"Air Resistance\",\"Type\":\"conductive\",\"Length\":0.01,\"Conductivity\":0.026,\"Area\":Area}\n",
        "R_out = {\"Name\":\"External Resistance\",\"Type\":\"convective\",\"k\":40,\"Area\":Area}\n",
        "\n",
        "ResistanceList = [R_int,R_glass,R_air,R_glass,R_out]\n",
        "\n",
        "T_out = -10\n",
        "T_in = 20"
      ],
      "execution_count": 13,
      "outputs": []
    },
    {
      "cell_type": "markdown",
      "metadata": {
        "id": "6sOpGrCRJ2Y4"
      },
      "source": [
        "### Solving with For Loop\n",
        "\n",
        "#### Steady Heat Transfer Rate Q"
      ]
    },
    {
      "cell_type": "code",
      "metadata": {
        "id": "PKfaj5xFJvsj"
      },
      "source": [
        "R_tot = 0\n",
        "ResistancesResults = {\"Total Resistance\":0}\n",
        "for resist in ResistanceList:\n",
        "  if resist[\"Type\"] == \"conductive\":\n",
        "    R_value = round(float(resist[\"Length\"])/(resist[\"Conductivity\"]*resist[\"Area\"]),4)\n",
        "  elif resist[\"Type\"] == \"convective\":\n",
        "    R_value = round(1/(resist[\"k\"]*resist[\"Area\"]),4)\n",
        "  else:\n",
        "    print(\"I don't have data on this type of resistance\")\n",
        "    R_value = 0\n",
        "  R_tot = R_tot + R_value\n",
        "  resist[\"Resistance Value\"] = R_value\n",
        "  ResistancesResults[resist[\"Name\"]] = R_value\n",
        "ResistancesResults[\"Total Resistance\"] = round(R_tot,4)"
      ],
      "execution_count": 16,
      "outputs": []
    },
    {
      "cell_type": "code",
      "metadata": {
        "id": "mo9De1gMLbIU",
        "outputId": "8bd4d640-4491-46be-fe61-adda7213fb02",
        "colab": {
          "base_uri": "https://localhost:8080/",
          "height": 34
        }
      },
      "source": [
        "deltaT = T_in - T_out\n",
        "Q = deltaT/ResistancesResults[\"Total Resistance\"]\n",
        "\n",
        "print(\"The Total Resistance of the Double Pane Window is \"+str(ResistancesResults[\"Total Resistance\"])+\" °C/W. With a temperature gradient of \"+str(deltaT)+\" °C, we have a Steady Heat Transfer Rate of \"+str(round(Q,2))+\" Watts \")"
      ],
      "execution_count": 19,
      "outputs": [
        {
          "output_type": "stream",
          "text": [
            "The Total Resistance of the Double Pane Window is 0.4332 °C/W. With a temperature gradient of 30 °C, we have a Steady Heat Transfer Rate of 69.25 Watts \n"
          ],
          "name": "stdout"
        }
      ]
    },
    {
      "cell_type": "markdown",
      "metadata": {
        "id": "ztJTiPMWNyzK"
      },
      "source": [
        "#### Temperature of the inner surface T1"
      ]
    },
    {
      "cell_type": "code",
      "metadata": {
        "id": "CK3UW38SNHvS",
        "outputId": "4652a978-998a-413a-e0a4-dffb3e364c88",
        "colab": {
          "base_uri": "https://localhost:8080/",
          "height": 34
        }
      },
      "source": [
        "T1 = T_in - Q*R_int[\"Resistance Value\"]\n",
        "print(\"The temperature of the inner surface is \"+str(round(T1,2))+\" °C\")"
      ],
      "execution_count": 24,
      "outputs": [
        {
          "output_type": "stream",
          "text": [
            "The temperature of the inner surface is 14.23 °C\n"
          ],
          "name": "stdout"
        }
      ]
    },
    {
      "cell_type": "markdown",
      "metadata": {
        "id": "ll3BhaUqPGjp"
      },
      "source": [
        "## Part 2\n",
        "\n",
        "### Data"
      ]
    },
    {
      "cell_type": "code",
      "metadata": {
        "id": "anJibCcJONem"
      },
      "source": [
        "Area_House = 50*2.5\n",
        "T_in = 22\n",
        "T_out = -2\n",
        "GlazingPerc = 0.2\n",
        "Frame_InsulatedCavity=0.75\n",
        "Frame_Studs=0.21+0.04\n",
        "\n",
        "R_int = {\"Name\":\"Internal Resistance\",\"Type\":\"convective\",\"Component\":\"InsideSurface\"}\n",
        "R_Gypsum = {\"Name\":\"Gypsum Wallboard Resistance\",\"Type\":\"conductive\",\"Length\":0.013,\"Component\":\"GypsumBoard\"}\n",
        "R_WoodStuds = {\"Name\":\"Wood Studs Resistance\",\"Type\":\"conductive\",\"Length\":0.09,\"Component\":\"WoodStud\"}\n",
        "R_GlassFiber = {\"Name\":\"Glass Fiber Resistance\",\"Type\":\"conductive\",\"Length\":0.09,\"Component\":\"Insulation_GlassFiber\"}\n",
        "R_WoodFiber = {\"Name\":\"Wood Fiberboard Resistance\",\"Type\":\"conductive\",\"Length\":0.013,\"Component\":\"WoodFiberboard\"}\n",
        "R_WoodBevel = {\"Name\":\"Wood Bevel Lapped Siding Resistance\",\"Type\":\"conductive\",\"Length\":0.013,\"Component\":\"WoodBevelLappedSiding\"}\n",
        "R_out = {\"Name\":\"External Resistance\",\"Type\":\"convective\",\"Component\":\"OutsideSurface_Winter\"}\n",
        "\n",
        "Resistance_List = [R_int,R_Gypsum,R_WoodStuds,R_GlassFiber,R_WoodFiber,R_WoodBevel,R_out]\n",
        "Resistance_withWood = [R_int,R_Gypsum,R_WoodStuds,R_WoodFiber,R_WoodBevel,R_out]\n",
        "Resistance_withInsulation = [R_int,R_Gypsum,R_GlassFiber,R_WoodFiber,R_WoodBevel,R_out]"
      ],
      "execution_count": 66,
      "outputs": []
    },
    {
      "cell_type": "markdown",
      "metadata": {
        "id": "tYzmA42SVGrd"
      },
      "source": [
        "#### Material Library"
      ]
    },
    {
      "cell_type": "code",
      "metadata": {
        "id": "GzFFNkphVIYd"
      },
      "source": [
        "OutsideSurface_Winter = {\"Unit Thermal Resistance\":0.03}\n",
        "OutsideSurface_Summer = {\"Unit Thermal Resistance\":0.044}\n",
        "InsideSurface = {\"Unit Thermal Resistance\":0.12}\n",
        "Insulation_GlassFiber = {\"Standard Length\":0.025,\"Unit Thermal Resistance\":0.7}\n",
        "Insulation_MineralFiberBatt = {\"Standard Length\":0.025,\"Unit Thermal Resistance\":0.66}\n",
        "Insulation_UrethaneRigidFoam = {\"Standard Length\":0.025,\"Unit Thermal Resistance\":0.98}\n",
        "Stucco = {\"Standard Length\":0.025,\"Unit Thermal Resistance\":0.037}\n",
        "FaceBrick = {\"Standard Length\":0.1,\"Unit Thermal Resistance\":0.075}\n",
        "CommonBrick = {\"Standard Length\":0.1,\"Unit Thermal Resistance\":0.12}\n",
        "Slag = {\"Standard Length\":0.013,\"Unit Thermal Resistance\":0.067}\n",
        "Wood = {\"Standard Length\":0.025,\"Unit Thermal Resistance\":0.22}\n",
        "WoodStud = {\"Standard Length\":0.09,\"Unit Thermal Resistance\":0.63}\n",
        "ClayTile = {\"Standard Length\":0.1,\"Unit Thermal Resistance\":0.18}\n",
        "ConcreteBlock_Light = {\"Standard Length\":0.1,\"Unit Thermal Resistance\":0.27}\n",
        "ConcreteBlock_Heavy = {\"Standard Length\":0.1,\"Unit Thermal Resistance\":0.13}\n",
        "Plaster = {\"Standard Length\":0.013,\"Unit Thermal Resistance\":0.079}\n",
        "GypsumBoard = {\"Standard Length\":0.013,\"Unit Thermal Resistance\":0.079}\n",
        "WoodFiberboard= {\"Standard Length\":0.013,\"Unit Thermal Resistance\":0.23}\n",
        "Plywood = {\"Standard Length\":0.013,\"Unit Thermal Resistance\":0.11}\n",
        "Concrete_Light = {\"Standard Length\":0.2,\"Unit Thermal Resistance\":1.17}\n",
        "Concrete_Heavy = {\"Standard Length\":0.2,\"Unit Thermal Resistance\":0.12}\n",
        "CementMortar = {\"Standard Length\":0.013,\"Unit Thermal Resistance\":0.018}\n",
        "WoodBevelLappedSiding = {\"Standard Length\":0.013,\"Unit Thermal Resistance\":0.14}\n",
        "\n",
        "ThermalResistanceLibrary = {\"OutsideSurface_Winter\":OutsideSurface_Winter,\"OutsideSurface_Summer\":OutsideSurface_Summer,\"InsideSurface\":InsideSurface,\"Insulation_GlassFiber\":Insulation_GlassFiber,\"Insulation_MineralFiberBatt\":Insulation_MineralFiberBatt,\"Insulation_UrethaneRigidFoam\":Insulation_UrethaneRigidFoam,\"Stucco\":Stucco,\"FaceBrick\":FaceBrick,\"CommonBrick\":CommonBrick,\"Slag\":Slag,\"Wood\":Wood,\"WoodStud\":WoodStud,\"ClayTile\":ClayTile,\"ConcreteBlock_Light\":ConcreteBlock_Light,\"ConcreteBlock_Heavy\":ConcreteBlock_Heavy,\"Plaster\":Plaster,\"GypsumBoard\":GypsumBoard,\"WoodFiberboard\":WoodFiberboard,\"Plywood\":Plywood,\"Concrete_Light\":Concrete_Light,\"Concrete_Heavy\":Concrete_Heavy,\"CementMortar\":CementMortar,\"WoodBevelLappedSiding\":WoodBevelLappedSiding}"
      ],
      "execution_count": 59,
      "outputs": []
    },
    {
      "cell_type": "markdown",
      "metadata": {
        "id": "62N-PiFpbgjj"
      },
      "source": [
        "### Overall Unit Thermal Resistance and Unit Heat Transfer Coefficient"
      ]
    },
    {
      "cell_type": "code",
      "metadata": {
        "id": "6NXyKD5kacyO"
      },
      "source": [
        "UnitThermalResistances = {}\n",
        "for resist in Resistance_List:\n",
        "  if resist[\"Component\"] in ThermalResistanceLibrary:\n",
        "    if resist[\"Type\"] == \"conductive\":\n",
        "      resist[\"Unit Thermal Resistance\"] = float(ThermalResistanceLibrary[resist[\"Component\"]][\"Unit Thermal Resistance\"]*resist[\"Length\"])/(ThermalResistanceLibrary[resist[\"Component\"]][\"Standard Length\"])\n",
        "    elif resist[\"Type\"] == \"convective\":\n",
        "      resist[\"Unit Thermal Resistance\"] = ThermalResistanceLibrary[resist[\"Component\"]][\"Unit Thermal Resistance\"]\n",
        "    else:\n",
        "      print(\"I don't have data on this type of resistance\")"
      ],
      "execution_count": 60,
      "outputs": []
    },
    {
      "cell_type": "code",
      "metadata": {
        "id": "_holldfwcCLW",
        "outputId": "1ead1908-05ba-4341-f1b3-2b15ce8d9480",
        "colab": {
          "base_uri": "https://localhost:8080/",
          "height": 70
        }
      },
      "source": [
        "R_Tot_withWood = 0\n",
        "R_Tot_withInsulation = 0\n",
        "R_Tot = 0\n",
        "U_Tot = 0\n",
        "\n",
        "for i in Resistance_withWood:\n",
        "  R_Tot_withWood = R_Tot_withWood + i[\"Unit Thermal Resistance\"]\n",
        "\n",
        "for i in Resistance_withInsulation:\n",
        "  R_Tot_withInsulation = R_Tot_withInsulation + i[\"Unit Thermal Resistance\"]\n",
        "\n",
        "R_Tot = 1/(Frame_InsulatedCavity/R_Tot_withInsulation + Frame_Studs/R_Tot_withWood)\n",
        "U_Tot = 1/R_Tot\n",
        "\n",
        "print(\"The Overall Thermal Resistance of the wood frame considering it all made of wood is \"+str(round(R_Tot_withWood,4))+\" m\\u00b2°C/W and considering it all made of insulation is \"+str(round(R_Tot_withInsulation,4))+\"m\\u00b2°C/W\")\n",
        "print(\"Taking into account that the insulated cavity constitutes \"+str(100*Frame_InsulatedCavity)+\"% of the heat transmission area and the rest can be treated as studs, the Overall Unit Thermal Resistance is \"+str(round(R_Tot,4))+\" m\\u00b2°C/W and the Overall Unit Heat Transfer Coefficient \"+str(round(U_Tot,4))+\" W/m\\u00b2°C\")"
      ],
      "execution_count": 65,
      "outputs": [
        {
          "output_type": "stream",
          "text": [
            "The Overall Thermal Resistance of the wood frame considering it all made of wood is 1.229 m²°C/W and considering it all made of insulation is 3.119m²°C/W\n",
            "Taking into account that the insulated cavity constitutes 75.0% of the heat transmission area and the rest can be treated as studs, the Overall Unit Thermal Resistance is 2.253 m²°C/W and the Overall Unit Heat Transfer Coefficient 0.444 W/m²°C\n"
          ],
          "name": "stdout"
        }
      ]
    },
    {
      "cell_type": "markdown",
      "metadata": {
        "id": "-Vq_M2F_ow2P"
      },
      "source": [
        "### Rate Heat Loss of the House in Winter"
      ]
    },
    {
      "cell_type": "code",
      "metadata": {
        "id": "AW2WRQ8pgHnb",
        "outputId": "cdac2efc-f2f1-49ce-bc27-a0d8be9f92df",
        "colab": {
          "base_uri": "https://localhost:8080/",
          "height": 34
        }
      },
      "source": [
        "A_Walls = Area_House * (1-GlazingPerc)\n",
        "deltaT = T_in - T_out\n",
        "\n",
        "Q = U_Tot * A_Walls * deltaT\n",
        "\n",
        "print(\"The total Heat Loss through the walls is \"+str(round(Q,2))+\" Watts\")"
      ],
      "execution_count": 67,
      "outputs": [
        {
          "output_type": "stream",
          "text": [
            "The total Heat Loss through the walls is 1065.31 Watts\n"
          ],
          "name": "stdout"
        }
      ]
    },
    {
      "cell_type": "code",
      "metadata": {
        "id": "uGRrM0fWp4pI"
      },
      "source": [
        ""
      ],
      "execution_count": null,
      "outputs": []
    }
  ]
}