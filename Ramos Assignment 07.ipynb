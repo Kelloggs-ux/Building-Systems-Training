{
  "nbformat": 4,
  "nbformat_minor": 0,
  "metadata": {
    "colab": {
      "name": "Ramos_Assignment 7.ipynb",
      "provenance": [],
      "collapsed_sections": []
    },
    "kernelspec": {
      "name": "python3",
      "display_name": "Python 3"
    }
  },
  "cells": [
    {
      "cell_type": "markdown",
      "metadata": {
        "id": "xbO58J_PpA1o"
      },
      "source": [
        "#  Week 7 (Class)"
      ]
    },
    {
      "cell_type": "code",
      "metadata": {
        "id": "8rw1wDMepFOy"
      },
      "source": [
        "!pip install -U -q PyDrive\n"
      ],
      "execution_count": 4,
      "outputs": []
    },
    {
      "cell_type": "code",
      "metadata": {
        "id": "Xp1L03tEpIsi"
      },
      "source": [
        "from pydrive.auth import GoogleAuth\n",
        "from pydrive.drive import GoogleDrive\n",
        "from google.colab import auth\n",
        "from oauth2client.client import GoogleCredentials\n",
        "# 1. Authenticate and create the PyDrive client.\n",
        "auth.authenticate_user()\n",
        "gauth = GoogleAuth()\n",
        "gauth.credentials = GoogleCredentials.get_application_default()\n",
        "drive = GoogleDrive(gauth)\n",
        "\n",
        "\n",
        "\n",
        "# After a specific amount of time Pydrive logs out, the enxt function checks for that and if it has happend trys log in again\n",
        "# you will not to log in to your account just the first time, the next times it will be automatic, we will use this function later on.\n",
        "def authorizeIfLoggedOut():\n",
        "  try:\n",
        "    file_list_GDrive = drive.ListFile({'q': \"'root' in parents and trashed=false\"}).GetList()\n",
        "\n",
        "  except:    \n",
        "    auth.authenticate_user()\n",
        "    gauth = GoogleAuth()\n",
        "    gauth.credentials = GoogleCredentials.get_application_default()\n",
        "    drive = GoogleDrive(gauth)\n"
      ],
      "execution_count": 5,
      "outputs": []
    },
    {
      "cell_type": "markdown",
      "metadata": {
        "id": "xCObw4ZSpRFq"
      },
      "source": [
        "## Importing Modules"
      ]
    },
    {
      "cell_type": "code",
      "metadata": {
        "id": "at4f7IQupVmj"
      },
      "source": [
        "import pandas as pd\n",
        "import numpy as np\n",
        "import matplotlib.pyplot as plt\n",
        "import os"
      ],
      "execution_count": 6,
      "outputs": []
    },
    {
      "cell_type": "code",
      "metadata": {
        "id": "1zyZTjhlpZ0R",
        "outputId": "9247f1f0-46e9-4df8-a9fe-4469d7e66bd4",
        "colab": {
          "base_uri": "https://localhost:8080/"
        }
      },
      "source": [
        "\n",
        "# this will just check if we are logged out it logs in\n",
        "authorizeIfLoggedOut()\n",
        "\n",
        "file_list_GDrive = drive.ListFile({'q': \"'root' in parents and trashed=false\"}).GetList()\n",
        "\n",
        "for file1 in file_list_GDrive:  \n",
        "    if \"EETBS\" in file1['title']:\n",
        "        Folder_ID_EETBS= file1['id']\n",
        "\n",
        "print(Folder_ID_EETBS)\n",
        "\n",
        "file_list_EETBS = drive.ListFile({'q': \"'%s' in parents and trashed=false\" % Folder_ID_EETBS}).GetList()\n",
        "print(file_list_EETBS)\n",
        "for file2 in file_list_EETBS:\n",
        "    print(file2['title'])  \n",
        "    if \"Data\" in file2['title']:\n",
        "        Folder_ID_Data= file2['id']\n",
        "\n",
        "        \n",
        "file_list_Data = drive.ListFile({'q': \"'%s' in parents and trashed=false\" % Folder_ID_Data}).GetList()\n",
        "\n",
        "for file3 in file_list_Data:  \n",
        "    if \"BeamIrradiance.csv\" in file3['title']:\n",
        "        print(\"BeamIrradiance.csv\")\n",
        "        ID_BeamIrradiance= file3['id']\n",
        "        file_BeamIrradiance = drive.CreateFile({'id': ID_BeamIrradiance})\n",
        "        file_BeamIrradiance.GetContentFile('BeamIrradiance.csv') \n",
        "    if \"DiffuseIrradiance.csv\" in file3['title']:\n",
        "        print(\"DiffuseIrradiance.csv\")\n",
        "        ID_DiffuseIrradiance= file3['id']\n",
        "        file_DiffuseIrradiance = drive.CreateFile({'id': ID_DiffuseIrradiance})\n",
        "        file_DiffuseIrradiance.GetContentFile('DiffuseIrradiance.csv') \n",
        "    if \"FFs.csv\" in file3['title']:\n",
        "        print(\"FFs.csv\")\n",
        "        ID_FFs= file3['id']\n",
        "        file_FFs = drive.CreateFile({'id': ID_FFs})\n",
        "        file_FFs.GetContentFile('FFs.csv') \n",
        "    if \"SLF.csv\" in file3['title']:\n",
        "        print(\"SLF.csv\")\n",
        "        ID_SLF= file3['id']\n",
        "        file_SLF = drive.CreateFile({'id': ID_SLF})\n",
        "        file_SLF.GetContentFile('SLF.csv') \n",
        "    if \"windows.csv\" in file3['title']:\n",
        "        print(\"windows.csv exists\")\n",
        "        ID_windows= file3['id']\n",
        "        file_windows = drive.CreateFile({'id': ID_windows})\n",
        "        file_windows.GetContentFile('windows.csv') \n",
        "    if \"IAC_cl.csv\" in file3['title']:\n",
        "        print(\"IAC_cl.csv exists\")\n",
        "        ID_IAC_cl= file3['id']\n",
        "        file_IAC_cl = drive.CreateFile({'id': ID_IAC_cl})\n",
        "        file_IAC_cl.GetContentFile('IAC_cl.csv') \n"
      ],
      "execution_count": 7,
      "outputs": [
        {
          "output_type": "stream",
          "text": [
            "1caB1_U3vNNcNT6p9OE8ue7GbyOAxs2Oj\n",
            "[GoogleDriveFile({'kind': 'drive#file', 'id': '1_lXe6zcPSqAFHVNuSB9n5iExCe7HBHfS', 'etag': '\"MTYwMzk2MzE4OTE0Nw\"', 'selfLink': 'https://www.googleapis.com/drive/v2/files/1_lXe6zcPSqAFHVNuSB9n5iExCe7HBHfS', 'alternateLink': 'https://drive.google.com/drive/folders/1_lXe6zcPSqAFHVNuSB9n5iExCe7HBHfS', 'embedLink': 'https://drive.google.com/embeddedfolderview?id=1_lXe6zcPSqAFHVNuSB9n5iExCe7HBHfS', 'iconLink': 'https://drive-thirdparty.googleusercontent.com/16/type/application/vnd.google-apps.folder+shared', 'title': 'Data', 'mimeType': 'application/vnd.google-apps.folder', 'labels': {'starred': False, 'hidden': False, 'trashed': False, 'restricted': False, 'viewed': True}, 'copyRequiresWriterPermission': False, 'createdDate': '2020-10-29T09:19:49.147Z', 'modifiedDate': '2020-10-29T09:19:49.147Z', 'lastViewedByMeDate': '2020-11-03T20:03:51.796Z', 'markedViewedByMeDate': '1970-01-01T00:00:00.000Z', 'version': '110', 'parents': [{'kind': 'drive#parentReference', 'id': '1caB1_U3vNNcNT6p9OE8ue7GbyOAxs2Oj', 'selfLink': 'https://www.googleapis.com/drive/v2/files/1_lXe6zcPSqAFHVNuSB9n5iExCe7HBHfS/parents/1caB1_U3vNNcNT6p9OE8ue7GbyOAxs2Oj', 'parentLink': 'https://www.googleapis.com/drive/v2/files/1caB1_U3vNNcNT6p9OE8ue7GbyOAxs2Oj', 'isRoot': False}], 'userPermission': {'kind': 'drive#permission', 'etag': '\"anZkSKG5f9LI92D2I4UiOT_FlNg\"', 'id': 'me', 'selfLink': 'https://www.googleapis.com/drive/v2/files/1_lXe6zcPSqAFHVNuSB9n5iExCe7HBHfS/permissions/me', 'role': 'writer', 'type': 'user'}, 'quotaBytesUsed': '0', 'ownerNames': ['behzad najafi'], 'owners': [{'kind': 'drive#user', 'displayName': 'behzad najafi', 'picture': {'url': 'https://lh3.googleusercontent.com/a-/AOh14Gj7TYFdzQ0nGJP5Yr7YrDCfwbcj72sLkn0KY3elOg=s64'}, 'isAuthenticatedUser': False, 'permissionId': '04318511758293595284', 'emailAddress': 'b.najafi87@gmail.com'}], 'lastModifyingUserName': 'behzad najafi', 'lastModifyingUser': {'kind': 'drive#user', 'displayName': 'behzad najafi', 'picture': {'url': 'https://lh3.googleusercontent.com/a-/AOh14Gj7TYFdzQ0nGJP5Yr7YrDCfwbcj72sLkn0KY3elOg=s64'}, 'isAuthenticatedUser': False, 'permissionId': '04318511758293595284', 'emailAddress': 'b.najafi87@gmail.com'}, 'capabilities': {'canCopy': False, 'canEdit': True}, 'editable': True, 'copyable': False, 'writersCanShare': True, 'shared': True, 'explicitlyTrashed': False, 'appDataContents': False, 'spaces': ['drive']}), GoogleDriveFile({'kind': 'drive#file', 'id': '1atXeNVulMt8IEK07HDfvuJZNLNPpCzIh', 'etag': '\"MTYwMzk2Mjc1NzI2Mw\"', 'selfLink': 'https://www.googleapis.com/drive/v2/files/1atXeNVulMt8IEK07HDfvuJZNLNPpCzIh', 'alternateLink': 'https://drive.google.com/drive/folders/1atXeNVulMt8IEK07HDfvuJZNLNPpCzIh', 'embedLink': 'https://drive.google.com/embeddedfolderview?id=1atXeNVulMt8IEK07HDfvuJZNLNPpCzIh', 'iconLink': 'https://drive-thirdparty.googleusercontent.com/16/type/application/vnd.google-apps.folder+shared', 'title': 'Week 7', 'mimeType': 'application/vnd.google-apps.folder', 'labels': {'starred': False, 'hidden': False, 'trashed': False, 'restricted': False, 'viewed': True}, 'copyRequiresWriterPermission': False, 'createdDate': '2020-10-29T09:12:37.263Z', 'modifiedDate': '2020-10-29T09:12:37.263Z', 'lastViewedByMeDate': '2020-11-03T14:50:04.583Z', 'markedViewedByMeDate': '1970-01-01T00:00:00.000Z', 'version': '191', 'parents': [{'kind': 'drive#parentReference', 'id': '1caB1_U3vNNcNT6p9OE8ue7GbyOAxs2Oj', 'selfLink': 'https://www.googleapis.com/drive/v2/files/1atXeNVulMt8IEK07HDfvuJZNLNPpCzIh/parents/1caB1_U3vNNcNT6p9OE8ue7GbyOAxs2Oj', 'parentLink': 'https://www.googleapis.com/drive/v2/files/1caB1_U3vNNcNT6p9OE8ue7GbyOAxs2Oj', 'isRoot': False}], 'userPermission': {'kind': 'drive#permission', 'etag': '\"atlz7o28C7GTGE1VRJQiIaevcAo\"', 'id': 'me', 'selfLink': 'https://www.googleapis.com/drive/v2/files/1atXeNVulMt8IEK07HDfvuJZNLNPpCzIh/permissions/me', 'role': 'writer', 'type': 'user'}, 'quotaBytesUsed': '0', 'ownerNames': ['behzad najafi'], 'owners': [{'kind': 'drive#user', 'displayName': 'behzad najafi', 'picture': {'url': 'https://lh3.googleusercontent.com/a-/AOh14Gj7TYFdzQ0nGJP5Yr7YrDCfwbcj72sLkn0KY3elOg=s64'}, 'isAuthenticatedUser': False, 'permissionId': '04318511758293595284', 'emailAddress': 'b.najafi87@gmail.com'}], 'lastModifyingUserName': 'behzad najafi', 'lastModifyingUser': {'kind': 'drive#user', 'displayName': 'behzad najafi', 'picture': {'url': 'https://lh3.googleusercontent.com/a-/AOh14Gj7TYFdzQ0nGJP5Yr7YrDCfwbcj72sLkn0KY3elOg=s64'}, 'isAuthenticatedUser': False, 'permissionId': '04318511758293595284', 'emailAddress': 'b.najafi87@gmail.com'}, 'capabilities': {'canCopy': False, 'canEdit': True}, 'editable': True, 'copyable': False, 'writersCanShare': True, 'shared': True, 'explicitlyTrashed': False, 'appDataContents': False, 'spaces': ['drive']}), GoogleDriveFile({'kind': 'drive#file', 'id': '11dcmkx3XVn5EGxf1CsrjgwL4GzLEDZOF', 'etag': '\"MTYwMzM1OTU3Mzg4Mw\"', 'selfLink': 'https://www.googleapis.com/drive/v2/files/11dcmkx3XVn5EGxf1CsrjgwL4GzLEDZOF', 'alternateLink': 'https://drive.google.com/drive/folders/11dcmkx3XVn5EGxf1CsrjgwL4GzLEDZOF', 'embedLink': 'https://drive.google.com/embeddedfolderview?id=11dcmkx3XVn5EGxf1CsrjgwL4GzLEDZOF', 'iconLink': 'https://drive-thirdparty.googleusercontent.com/16/type/application/vnd.google-apps.folder+shared', 'title': 'Week 6', 'mimeType': 'application/vnd.google-apps.folder', 'labels': {'starred': False, 'hidden': False, 'trashed': False, 'restricted': False, 'viewed': True}, 'copyRequiresWriterPermission': False, 'createdDate': '2020-10-22T09:39:33.883Z', 'modifiedDate': '2020-10-22T09:39:33.883Z', 'lastViewedByMeDate': '2020-11-02T17:15:20.387Z', 'markedViewedByMeDate': '1970-01-01T00:00:00.000Z', 'version': '152', 'parents': [{'kind': 'drive#parentReference', 'id': '1caB1_U3vNNcNT6p9OE8ue7GbyOAxs2Oj', 'selfLink': 'https://www.googleapis.com/drive/v2/files/11dcmkx3XVn5EGxf1CsrjgwL4GzLEDZOF/parents/1caB1_U3vNNcNT6p9OE8ue7GbyOAxs2Oj', 'parentLink': 'https://www.googleapis.com/drive/v2/files/1caB1_U3vNNcNT6p9OE8ue7GbyOAxs2Oj', 'isRoot': False}], 'userPermission': {'kind': 'drive#permission', 'etag': '\"-rKi2I_c9wqmEj-Lo9kilPDHSZs\"', 'id': 'me', 'selfLink': 'https://www.googleapis.com/drive/v2/files/11dcmkx3XVn5EGxf1CsrjgwL4GzLEDZOF/permissions/me', 'role': 'writer', 'type': 'user'}, 'quotaBytesUsed': '0', 'ownerNames': ['behzad najafi'], 'owners': [{'kind': 'drive#user', 'displayName': 'behzad najafi', 'picture': {'url': 'https://lh3.googleusercontent.com/a-/AOh14Gj7TYFdzQ0nGJP5Yr7YrDCfwbcj72sLkn0KY3elOg=s64'}, 'isAuthenticatedUser': False, 'permissionId': '04318511758293595284', 'emailAddress': 'b.najafi87@gmail.com'}], 'lastModifyingUserName': 'behzad najafi', 'lastModifyingUser': {'kind': 'drive#user', 'displayName': 'behzad najafi', 'picture': {'url': 'https://lh3.googleusercontent.com/a-/AOh14Gj7TYFdzQ0nGJP5Yr7YrDCfwbcj72sLkn0KY3elOg=s64'}, 'isAuthenticatedUser': False, 'permissionId': '04318511758293595284', 'emailAddress': 'b.najafi87@gmail.com'}, 'capabilities': {'canCopy': False, 'canEdit': True}, 'editable': True, 'copyable': False, 'writersCanShare': True, 'shared': True, 'explicitlyTrashed': False, 'appDataContents': False, 'spaces': ['drive']}), GoogleDriveFile({'kind': 'drive#file', 'id': '1TDplZlPHy8tkpyEABOM_Fmi0KJDuawfj', 'etag': '\"MTYwMjc1MzE1OTk1Mw\"', 'selfLink': 'https://www.googleapis.com/drive/v2/files/1TDplZlPHy8tkpyEABOM_Fmi0KJDuawfj', 'alternateLink': 'https://drive.google.com/drive/folders/1TDplZlPHy8tkpyEABOM_Fmi0KJDuawfj', 'embedLink': 'https://drive.google.com/embeddedfolderview?id=1TDplZlPHy8tkpyEABOM_Fmi0KJDuawfj', 'iconLink': 'https://drive-thirdparty.googleusercontent.com/16/type/application/vnd.google-apps.folder+shared', 'title': 'Week 5', 'mimeType': 'application/vnd.google-apps.folder', 'labels': {'starred': False, 'hidden': False, 'trashed': False, 'restricted': False, 'viewed': True}, 'copyRequiresWriterPermission': False, 'createdDate': '2020-10-15T09:12:39.953Z', 'modifiedDate': '2020-10-15T09:12:39.953Z', 'lastViewedByMeDate': '2020-10-25T03:30:00.468Z', 'markedViewedByMeDate': '1970-01-01T00:00:00.000Z', 'version': '185', 'parents': [{'kind': 'drive#parentReference', 'id': '1caB1_U3vNNcNT6p9OE8ue7GbyOAxs2Oj', 'selfLink': 'https://www.googleapis.com/drive/v2/files/1TDplZlPHy8tkpyEABOM_Fmi0KJDuawfj/parents/1caB1_U3vNNcNT6p9OE8ue7GbyOAxs2Oj', 'parentLink': 'https://www.googleapis.com/drive/v2/files/1caB1_U3vNNcNT6p9OE8ue7GbyOAxs2Oj', 'isRoot': False}], 'userPermission': {'kind': 'drive#permission', 'etag': '\"oIkc7c9iywVwqy6SJ3uVyHsAVTY\"', 'id': 'me', 'selfLink': 'https://www.googleapis.com/drive/v2/files/1TDplZlPHy8tkpyEABOM_Fmi0KJDuawfj/permissions/me', 'role': 'writer', 'type': 'user'}, 'quotaBytesUsed': '0', 'ownerNames': ['behzad najafi'], 'owners': [{'kind': 'drive#user', 'displayName': 'behzad najafi', 'picture': {'url': 'https://lh3.googleusercontent.com/a-/AOh14Gj7TYFdzQ0nGJP5Yr7YrDCfwbcj72sLkn0KY3elOg=s64'}, 'isAuthenticatedUser': False, 'permissionId': '04318511758293595284', 'emailAddress': 'b.najafi87@gmail.com'}], 'lastModifyingUserName': 'behzad najafi', 'lastModifyingUser': {'kind': 'drive#user', 'displayName': 'behzad najafi', 'picture': {'url': 'https://lh3.googleusercontent.com/a-/AOh14Gj7TYFdzQ0nGJP5Yr7YrDCfwbcj72sLkn0KY3elOg=s64'}, 'isAuthenticatedUser': False, 'permissionId': '04318511758293595284', 'emailAddress': 'b.najafi87@gmail.com'}, 'capabilities': {'canCopy': False, 'canEdit': True}, 'editable': True, 'copyable': False, 'writersCanShare': True, 'shared': True, 'explicitlyTrashed': False, 'appDataContents': False, 'spaces': ['drive']}), GoogleDriveFile({'kind': 'drive#file', 'id': '1VnurdssPEg0LcijEoAysxxr_7F69hAmu', 'etag': '\"MTYwMjA3Nzk5NjY3OA\"', 'selfLink': 'https://www.googleapis.com/drive/v2/files/1VnurdssPEg0LcijEoAysxxr_7F69hAmu', 'alternateLink': 'https://drive.google.com/drive/folders/1VnurdssPEg0LcijEoAysxxr_7F69hAmu', 'embedLink': 'https://drive.google.com/embeddedfolderview?id=1VnurdssPEg0LcijEoAysxxr_7F69hAmu', 'iconLink': 'https://drive-thirdparty.googleusercontent.com/16/type/application/vnd.google-apps.folder+shared', 'title': 'Week 4', 'mimeType': 'application/vnd.google-apps.folder', 'labels': {'starred': False, 'hidden': False, 'trashed': False, 'restricted': False, 'viewed': True}, 'copyRequiresWriterPermission': False, 'createdDate': '2020-10-07T13:39:56.678Z', 'modifiedDate': '2020-10-07T13:39:56.678Z', 'lastViewedByMeDate': '2020-10-25T22:35:07.503Z', 'markedViewedByMeDate': '1970-01-01T00:00:00.000Z', 'version': '252', 'parents': [{'kind': 'drive#parentReference', 'id': '1caB1_U3vNNcNT6p9OE8ue7GbyOAxs2Oj', 'selfLink': 'https://www.googleapis.com/drive/v2/files/1VnurdssPEg0LcijEoAysxxr_7F69hAmu/parents/1caB1_U3vNNcNT6p9OE8ue7GbyOAxs2Oj', 'parentLink': 'https://www.googleapis.com/drive/v2/files/1caB1_U3vNNcNT6p9OE8ue7GbyOAxs2Oj', 'isRoot': False}], 'userPermission': {'kind': 'drive#permission', 'etag': '\"y0pL1D2bNXAaSf09ziTJYZiWkM0\"', 'id': 'me', 'selfLink': 'https://www.googleapis.com/drive/v2/files/1VnurdssPEg0LcijEoAysxxr_7F69hAmu/permissions/me', 'role': 'writer', 'type': 'user'}, 'quotaBytesUsed': '0', 'ownerNames': ['behzad najafi'], 'owners': [{'kind': 'drive#user', 'displayName': 'behzad najafi', 'picture': {'url': 'https://lh3.googleusercontent.com/a-/AOh14Gj7TYFdzQ0nGJP5Yr7YrDCfwbcj72sLkn0KY3elOg=s64'}, 'isAuthenticatedUser': False, 'permissionId': '04318511758293595284', 'emailAddress': 'b.najafi87@gmail.com'}], 'lastModifyingUserName': 'behzad najafi', 'lastModifyingUser': {'kind': 'drive#user', 'displayName': 'behzad najafi', 'picture': {'url': 'https://lh3.googleusercontent.com/a-/AOh14Gj7TYFdzQ0nGJP5Yr7YrDCfwbcj72sLkn0KY3elOg=s64'}, 'isAuthenticatedUser': False, 'permissionId': '04318511758293595284', 'emailAddress': 'b.najafi87@gmail.com'}, 'capabilities': {'canCopy': False, 'canEdit': True}, 'editable': True, 'copyable': False, 'writersCanShare': True, 'shared': True, 'explicitlyTrashed': False, 'appDataContents': False, 'spaces': ['drive']}), GoogleDriveFile({'kind': 'drive#file', 'id': '1o2-Hv89PwTFBjfQtDECabH42zN0ssHPp', 'etag': '\"MTYwMTM3NTE2MzAyOQ\"', 'selfLink': 'https://www.googleapis.com/drive/v2/files/1o2-Hv89PwTFBjfQtDECabH42zN0ssHPp', 'alternateLink': 'https://drive.google.com/drive/folders/1o2-Hv89PwTFBjfQtDECabH42zN0ssHPp', 'embedLink': 'https://drive.google.com/embeddedfolderview?id=1o2-Hv89PwTFBjfQtDECabH42zN0ssHPp', 'iconLink': 'https://drive-thirdparty.googleusercontent.com/16/type/application/vnd.google-apps.folder+shared', 'title': 'Week 3', 'mimeType': 'application/vnd.google-apps.folder', 'labels': {'starred': False, 'hidden': False, 'trashed': False, 'restricted': False, 'viewed': True}, 'copyRequiresWriterPermission': False, 'createdDate': '2020-09-29T10:26:03.029Z', 'modifiedDate': '2020-09-29T10:26:03.029Z', 'lastViewedByMeDate': '2020-10-25T02:51:24.473Z', 'markedViewedByMeDate': '1970-01-01T00:00:00.000Z', 'version': '226', 'parents': [{'kind': 'drive#parentReference', 'id': '1caB1_U3vNNcNT6p9OE8ue7GbyOAxs2Oj', 'selfLink': 'https://www.googleapis.com/drive/v2/files/1o2-Hv89PwTFBjfQtDECabH42zN0ssHPp/parents/1caB1_U3vNNcNT6p9OE8ue7GbyOAxs2Oj', 'parentLink': 'https://www.googleapis.com/drive/v2/files/1caB1_U3vNNcNT6p9OE8ue7GbyOAxs2Oj', 'isRoot': False}], 'userPermission': {'kind': 'drive#permission', 'etag': '\"GY8dV3QPg87hCQ9kfuJkkcflXcI\"', 'id': 'me', 'selfLink': 'https://www.googleapis.com/drive/v2/files/1o2-Hv89PwTFBjfQtDECabH42zN0ssHPp/permissions/me', 'role': 'writer', 'type': 'user'}, 'quotaBytesUsed': '0', 'ownerNames': ['behzad najafi'], 'owners': [{'kind': 'drive#user', 'displayName': 'behzad najafi', 'picture': {'url': 'https://lh3.googleusercontent.com/a-/AOh14Gj7TYFdzQ0nGJP5Yr7YrDCfwbcj72sLkn0KY3elOg=s64'}, 'isAuthenticatedUser': False, 'permissionId': '04318511758293595284', 'emailAddress': 'b.najafi87@gmail.com'}], 'lastModifyingUserName': 'behzad najafi', 'lastModifyingUser': {'kind': 'drive#user', 'displayName': 'behzad najafi', 'picture': {'url': 'https://lh3.googleusercontent.com/a-/AOh14Gj7TYFdzQ0nGJP5Yr7YrDCfwbcj72sLkn0KY3elOg=s64'}, 'isAuthenticatedUser': False, 'permissionId': '04318511758293595284', 'emailAddress': 'b.najafi87@gmail.com'}, 'capabilities': {'canCopy': False, 'canEdit': True}, 'editable': True, 'copyable': False, 'writersCanShare': True, 'shared': True, 'explicitlyTrashed': False, 'appDataContents': False, 'spaces': ['drive']}), GoogleDriveFile({'kind': 'drive#file', 'id': '1fPclNCc7tD4_Y9ItWUmQtgNs4F8GfLtc', 'etag': '\"MTYwMDkzNjQ3MDA2NQ\"', 'selfLink': 'https://www.googleapis.com/drive/v2/files/1fPclNCc7tD4_Y9ItWUmQtgNs4F8GfLtc', 'alternateLink': 'https://drive.google.com/drive/folders/1fPclNCc7tD4_Y9ItWUmQtgNs4F8GfLtc', 'embedLink': 'https://drive.google.com/embeddedfolderview?id=1fPclNCc7tD4_Y9ItWUmQtgNs4F8GfLtc', 'iconLink': 'https://drive-thirdparty.googleusercontent.com/16/type/application/vnd.google-apps.folder+shared', 'title': 'Week 2', 'mimeType': 'application/vnd.google-apps.folder', 'labels': {'starred': False, 'hidden': False, 'trashed': False, 'restricted': False, 'viewed': True}, 'copyRequiresWriterPermission': False, 'createdDate': '2020-09-24T08:34:30.065Z', 'modifiedDate': '2020-09-24T08:34:30.065Z', 'lastViewedByMeDate': '2020-10-25T02:50:30.608Z', 'markedViewedByMeDate': '1970-01-01T00:00:00.000Z', 'version': '238', 'parents': [{'kind': 'drive#parentReference', 'id': '1caB1_U3vNNcNT6p9OE8ue7GbyOAxs2Oj', 'selfLink': 'https://www.googleapis.com/drive/v2/files/1fPclNCc7tD4_Y9ItWUmQtgNs4F8GfLtc/parents/1caB1_U3vNNcNT6p9OE8ue7GbyOAxs2Oj', 'parentLink': 'https://www.googleapis.com/drive/v2/files/1caB1_U3vNNcNT6p9OE8ue7GbyOAxs2Oj', 'isRoot': False}], 'userPermission': {'kind': 'drive#permission', 'etag': '\"Ia4lASSiVmvF-2B7lX3Z7b2AWOU\"', 'id': 'me', 'selfLink': 'https://www.googleapis.com/drive/v2/files/1fPclNCc7tD4_Y9ItWUmQtgNs4F8GfLtc/permissions/me', 'role': 'writer', 'type': 'user'}, 'quotaBytesUsed': '0', 'ownerNames': ['behzad najafi'], 'owners': [{'kind': 'drive#user', 'displayName': 'behzad najafi', 'picture': {'url': 'https://lh3.googleusercontent.com/a-/AOh14Gj7TYFdzQ0nGJP5Yr7YrDCfwbcj72sLkn0KY3elOg=s64'}, 'isAuthenticatedUser': False, 'permissionId': '04318511758293595284', 'emailAddress': 'b.najafi87@gmail.com'}], 'lastModifyingUserName': 'behzad najafi', 'lastModifyingUser': {'kind': 'drive#user', 'displayName': 'behzad najafi', 'picture': {'url': 'https://lh3.googleusercontent.com/a-/AOh14Gj7TYFdzQ0nGJP5Yr7YrDCfwbcj72sLkn0KY3elOg=s64'}, 'isAuthenticatedUser': False, 'permissionId': '04318511758293595284', 'emailAddress': 'b.najafi87@gmail.com'}, 'capabilities': {'canCopy': False, 'canEdit': True}, 'editable': True, 'copyable': False, 'writersCanShare': True, 'shared': True, 'explicitlyTrashed': False, 'appDataContents': False, 'spaces': ['drive']}), GoogleDriveFile({'kind': 'drive#file', 'id': '1_kzG2imBnYwcTwMd9Vfgxw-TC0gzrg4Z', 'etag': '\"MTYwMDI4MzI5MDA2Mw\"', 'selfLink': 'https://www.googleapis.com/drive/v2/files/1_kzG2imBnYwcTwMd9Vfgxw-TC0gzrg4Z', 'alternateLink': 'https://drive.google.com/drive/folders/1_kzG2imBnYwcTwMd9Vfgxw-TC0gzrg4Z', 'embedLink': 'https://drive.google.com/embeddedfolderview?id=1_kzG2imBnYwcTwMd9Vfgxw-TC0gzrg4Z', 'iconLink': 'https://drive-thirdparty.googleusercontent.com/16/type/application/vnd.google-apps.folder+shared', 'title': 'Week 1', 'mimeType': 'application/vnd.google-apps.folder', 'labels': {'starred': False, 'hidden': False, 'trashed': False, 'restricted': False, 'viewed': True}, 'copyRequiresWriterPermission': False, 'createdDate': '2020-09-16T19:08:10.063Z', 'modifiedDate': '2020-09-16T19:08:10.063Z', 'lastViewedByMeDate': '2020-10-25T02:49:51.803Z', 'markedViewedByMeDate': '1970-01-01T00:00:00.000Z', 'version': '327', 'parents': [{'kind': 'drive#parentReference', 'id': '1caB1_U3vNNcNT6p9OE8ue7GbyOAxs2Oj', 'selfLink': 'https://www.googleapis.com/drive/v2/files/1_kzG2imBnYwcTwMd9Vfgxw-TC0gzrg4Z/parents/1caB1_U3vNNcNT6p9OE8ue7GbyOAxs2Oj', 'parentLink': 'https://www.googleapis.com/drive/v2/files/1caB1_U3vNNcNT6p9OE8ue7GbyOAxs2Oj', 'isRoot': False}], 'userPermission': {'kind': 'drive#permission', 'etag': '\"Gzo_0J5UHFTUbZBGdScLFG3Pm9I\"', 'id': 'me', 'selfLink': 'https://www.googleapis.com/drive/v2/files/1_kzG2imBnYwcTwMd9Vfgxw-TC0gzrg4Z/permissions/me', 'role': 'writer', 'type': 'user'}, 'quotaBytesUsed': '0', 'ownerNames': ['behzad najafi'], 'owners': [{'kind': 'drive#user', 'displayName': 'behzad najafi', 'picture': {'url': 'https://lh3.googleusercontent.com/a-/AOh14Gj7TYFdzQ0nGJP5Yr7YrDCfwbcj72sLkn0KY3elOg=s64'}, 'isAuthenticatedUser': False, 'permissionId': '04318511758293595284', 'emailAddress': 'b.najafi87@gmail.com'}], 'lastModifyingUserName': 'behzad najafi', 'lastModifyingUser': {'kind': 'drive#user', 'displayName': 'behzad najafi', 'picture': {'url': 'https://lh3.googleusercontent.com/a-/AOh14Gj7TYFdzQ0nGJP5Yr7YrDCfwbcj72sLkn0KY3elOg=s64'}, 'isAuthenticatedUser': False, 'permissionId': '04318511758293595284', 'emailAddress': 'b.najafi87@gmail.com'}, 'capabilities': {'canCopy': False, 'canEdit': True}, 'editable': True, 'copyable': False, 'writersCanShare': True, 'shared': True, 'explicitlyTrashed': False, 'appDataContents': False, 'spaces': ['drive']})]\n",
            "Data\n",
            "Week 7\n",
            "Week 6\n",
            "Week 5\n",
            "Week 4\n",
            "Week 3\n",
            "Week 2\n",
            "Week 1\n",
            "windows.csv exists\n",
            "BeamIrradiance.csv\n",
            "IAC_cl.csv exists\n",
            "DiffuseIrradiance.csv\n",
            "FFs.csv\n",
            "SLF.csv\n"
          ],
          "name": "stdout"
        }
      ]
    },
    {
      "cell_type": "code",
      "metadata": {
        "id": "JF9WVKy2q4ob",
        "outputId": "4b9adb2d-0047-4d03-a677-3ed1a601fd64",
        "colab": {
          "base_uri": "https://localhost:8080/",
          "height": 266
        }
      },
      "source": [
        "window_DF = pd.read_csv(\"windows.csv\", sep=\";\", index_col = 0, header=0) \n",
        "window_DF"
      ],
      "execution_count": 8,
      "outputs": [
        {
          "output_type": "execute_result",
          "data": {
            "text/html": [
              "<div>\n",
              "<style scoped>\n",
              "    .dataframe tbody tr th:only-of-type {\n",
              "        vertical-align: middle;\n",
              "    }\n",
              "\n",
              "    .dataframe tbody tr th {\n",
              "        vertical-align: top;\n",
              "    }\n",
              "\n",
              "    .dataframe thead th {\n",
              "        text-align: right;\n",
              "    }\n",
              "</style>\n",
              "<table border=\"1\" class=\"dataframe\">\n",
              "  <thead>\n",
              "    <tr style=\"text-align: right;\">\n",
              "      <th></th>\n",
              "      <th>Direction</th>\n",
              "      <th>width</th>\n",
              "      <th>Height</th>\n",
              "      <th>Area</th>\n",
              "      <th>Window_ID</th>\n",
              "      <th>Frame_type</th>\n",
              "      <th>Frame_material</th>\n",
              "      <th>U</th>\n",
              "      <th>SHGC</th>\n",
              "      <th>HF</th>\n",
              "      <th>Q heating</th>\n",
              "      <th>SLF</th>\n",
              "      <th>Doh</th>\n",
              "      <th>Xoh</th>\n",
              "      <th>Fshd</th>\n",
              "      <th>IntShading_ID</th>\n",
              "      <th>IntShading_closeness</th>\n",
              "      <th>IAC_cl</th>\n",
              "      <th>IAC</th>\n",
              "      <th>Tx</th>\n",
              "      <th>Ed</th>\n",
              "      <th>ED</th>\n",
              "      <th>PXI</th>\n",
              "      <th>FFs</th>\n",
              "      <th>C_value</th>\n",
              "      <th>CF</th>\n",
              "      <th>Qcooling</th>\n",
              "    </tr>\n",
              "    <tr>\n",
              "      <th>Name</th>\n",
              "      <th></th>\n",
              "      <th></th>\n",
              "      <th></th>\n",
              "      <th></th>\n",
              "      <th></th>\n",
              "      <th></th>\n",
              "      <th></th>\n",
              "      <th></th>\n",
              "      <th></th>\n",
              "      <th></th>\n",
              "      <th></th>\n",
              "      <th></th>\n",
              "      <th></th>\n",
              "      <th></th>\n",
              "      <th></th>\n",
              "      <th></th>\n",
              "      <th></th>\n",
              "      <th></th>\n",
              "      <th></th>\n",
              "      <th></th>\n",
              "      <th></th>\n",
              "      <th></th>\n",
              "      <th></th>\n",
              "      <th></th>\n",
              "      <th></th>\n",
              "      <th></th>\n",
              "      <th></th>\n",
              "    </tr>\n",
              "  </thead>\n",
              "  <tbody>\n",
              "    <tr>\n",
              "      <th>east</th>\n",
              "      <td>E</td>\n",
              "      <td>8</td>\n",
              "      <td>1.8</td>\n",
              "      <td>0</td>\n",
              "      <td>5c</td>\n",
              "      <td>Fixed</td>\n",
              "      <td>Wood</td>\n",
              "      <td>0</td>\n",
              "      <td>0</td>\n",
              "      <td>0</td>\n",
              "      <td>0</td>\n",
              "      <td>0</td>\n",
              "      <td>0.9</td>\n",
              "      <td>0.3</td>\n",
              "      <td>0</td>\n",
              "      <td>DrapesLightOpen</td>\n",
              "      <td>0.4</td>\n",
              "      <td>0</td>\n",
              "      <td>0</td>\n",
              "      <td>1.00</td>\n",
              "      <td>0</td>\n",
              "      <td>0</td>\n",
              "      <td>0</td>\n",
              "      <td>0</td>\n",
              "      <td>0</td>\n",
              "      <td>0</td>\n",
              "      <td>0</td>\n",
              "    </tr>\n",
              "    <tr>\n",
              "      <th>west</th>\n",
              "      <td>W</td>\n",
              "      <td>8</td>\n",
              "      <td>1.8</td>\n",
              "      <td>0</td>\n",
              "      <td>5c</td>\n",
              "      <td>Fixed</td>\n",
              "      <td>Wood</td>\n",
              "      <td>0</td>\n",
              "      <td>0</td>\n",
              "      <td>0</td>\n",
              "      <td>0</td>\n",
              "      <td>0</td>\n",
              "      <td>0.9</td>\n",
              "      <td>0.3</td>\n",
              "      <td>0</td>\n",
              "      <td>DrapesLightOpen</td>\n",
              "      <td>0.4</td>\n",
              "      <td>0</td>\n",
              "      <td>0</td>\n",
              "      <td>1.00</td>\n",
              "      <td>0</td>\n",
              "      <td>0</td>\n",
              "      <td>0</td>\n",
              "      <td>0</td>\n",
              "      <td>0</td>\n",
              "      <td>0</td>\n",
              "      <td>0</td>\n",
              "    </tr>\n",
              "    <tr>\n",
              "      <th>south-Fixed</th>\n",
              "      <td>S</td>\n",
              "      <td>2</td>\n",
              "      <td>1.8</td>\n",
              "      <td>0</td>\n",
              "      <td>5c</td>\n",
              "      <td>Fixed</td>\n",
              "      <td>Wood</td>\n",
              "      <td>0</td>\n",
              "      <td>0</td>\n",
              "      <td>0</td>\n",
              "      <td>0</td>\n",
              "      <td>0</td>\n",
              "      <td>0.9</td>\n",
              "      <td>0.3</td>\n",
              "      <td>0</td>\n",
              "      <td>DrapesLightOpen</td>\n",
              "      <td>0.4</td>\n",
              "      <td>0</td>\n",
              "      <td>0</td>\n",
              "      <td>1.00</td>\n",
              "      <td>0</td>\n",
              "      <td>0</td>\n",
              "      <td>0</td>\n",
              "      <td>0</td>\n",
              "      <td>0</td>\n",
              "      <td>0</td>\n",
              "      <td>0</td>\n",
              "    </tr>\n",
              "    <tr>\n",
              "      <th>south-Operable</th>\n",
              "      <td>S</td>\n",
              "      <td>2</td>\n",
              "      <td>1.8</td>\n",
              "      <td>0</td>\n",
              "      <td>5c</td>\n",
              "      <td>Operable</td>\n",
              "      <td>Wood</td>\n",
              "      <td>0</td>\n",
              "      <td>0</td>\n",
              "      <td>0</td>\n",
              "      <td>0</td>\n",
              "      <td>0</td>\n",
              "      <td>0.9</td>\n",
              "      <td>0.3</td>\n",
              "      <td>0</td>\n",
              "      <td>DrapesLightOpen</td>\n",
              "      <td>0.4</td>\n",
              "      <td>0</td>\n",
              "      <td>0</td>\n",
              "      <td>0.64</td>\n",
              "      <td>0</td>\n",
              "      <td>0</td>\n",
              "      <td>0</td>\n",
              "      <td>0</td>\n",
              "      <td>0</td>\n",
              "      <td>0</td>\n",
              "      <td>0</td>\n",
              "    </tr>\n",
              "  </tbody>\n",
              "</table>\n",
              "</div>"
            ],
            "text/plain": [
              "               Direction  width  Height  Area  ... FFs C_value CF  Qcooling\n",
              "Name                                           ...                         \n",
              "east                   E      8     1.8     0  ...   0       0  0         0\n",
              "west                   W      8     1.8     0  ...   0       0  0         0\n",
              "south-Fixed            S      2     1.8     0  ...   0       0  0         0\n",
              "south-Operable         S      2     1.8     0  ...   0       0  0         0\n",
              "\n",
              "[4 rows x 27 columns]"
            ]
          },
          "metadata": {
            "tags": []
          },
          "execution_count": 8
        }
      ]
    },
    {
      "cell_type": "code",
      "metadata": {
        "id": "Mrdol95PvLe1",
        "outputId": "ee9b02ca-492d-4c41-c1e8-185ef9623a8d",
        "colab": {
          "base_uri": "https://localhost:8080/"
        }
      },
      "source": [
        "window_DF.loc[:,\"Frame_type\"]"
      ],
      "execution_count": 9,
      "outputs": [
        {
          "output_type": "execute_result",
          "data": {
            "text/plain": [
              "Name\n",
              "east                 Fixed\n",
              "west                 Fixed\n",
              "south-Fixed          Fixed\n",
              "south-Operable    Operable\n",
              "Name: Frame_type, dtype: object"
            ]
          },
          "metadata": {
            "tags": []
          },
          "execution_count": 9
        }
      ]
    },
    {
      "cell_type": "code",
      "metadata": {
        "id": "93HKcXHGvkRz",
        "outputId": "479886c4-931d-49bc-b655-13f2af2bd0c7",
        "colab": {
          "base_uri": "https://localhost:8080/"
        }
      },
      "source": [
        "window_DF.loc[\"south-Operable\",\"Height\"]"
      ],
      "execution_count": 10,
      "outputs": [
        {
          "output_type": "execute_result",
          "data": {
            "text/plain": [
              "1.8"
            ]
          },
          "metadata": {
            "tags": []
          },
          "execution_count": 10
        }
      ]
    },
    {
      "cell_type": "code",
      "metadata": {
        "id": "ykRvNr4yv5BR"
      },
      "source": [
        "window_DF.loc[:,\"UselessColumn\"] = \"useless\""
      ],
      "execution_count": 11,
      "outputs": []
    },
    {
      "cell_type": "code",
      "metadata": {
        "id": "T8jIV5JPv-yS",
        "outputId": "7a35e212-49ad-4405-cd4f-221b6f394fc9",
        "colab": {
          "base_uri": "https://localhost:8080/",
          "height": 266
        }
      },
      "source": [
        "window_DF"
      ],
      "execution_count": 12,
      "outputs": [
        {
          "output_type": "execute_result",
          "data": {
            "text/html": [
              "<div>\n",
              "<style scoped>\n",
              "    .dataframe tbody tr th:only-of-type {\n",
              "        vertical-align: middle;\n",
              "    }\n",
              "\n",
              "    .dataframe tbody tr th {\n",
              "        vertical-align: top;\n",
              "    }\n",
              "\n",
              "    .dataframe thead th {\n",
              "        text-align: right;\n",
              "    }\n",
              "</style>\n",
              "<table border=\"1\" class=\"dataframe\">\n",
              "  <thead>\n",
              "    <tr style=\"text-align: right;\">\n",
              "      <th></th>\n",
              "      <th>Direction</th>\n",
              "      <th>width</th>\n",
              "      <th>Height</th>\n",
              "      <th>Area</th>\n",
              "      <th>Window_ID</th>\n",
              "      <th>Frame_type</th>\n",
              "      <th>Frame_material</th>\n",
              "      <th>U</th>\n",
              "      <th>SHGC</th>\n",
              "      <th>HF</th>\n",
              "      <th>Q heating</th>\n",
              "      <th>SLF</th>\n",
              "      <th>Doh</th>\n",
              "      <th>Xoh</th>\n",
              "      <th>Fshd</th>\n",
              "      <th>IntShading_ID</th>\n",
              "      <th>IntShading_closeness</th>\n",
              "      <th>IAC_cl</th>\n",
              "      <th>IAC</th>\n",
              "      <th>Tx</th>\n",
              "      <th>Ed</th>\n",
              "      <th>ED</th>\n",
              "      <th>PXI</th>\n",
              "      <th>FFs</th>\n",
              "      <th>C_value</th>\n",
              "      <th>CF</th>\n",
              "      <th>Qcooling</th>\n",
              "      <th>UselessColumn</th>\n",
              "    </tr>\n",
              "    <tr>\n",
              "      <th>Name</th>\n",
              "      <th></th>\n",
              "      <th></th>\n",
              "      <th></th>\n",
              "      <th></th>\n",
              "      <th></th>\n",
              "      <th></th>\n",
              "      <th></th>\n",
              "      <th></th>\n",
              "      <th></th>\n",
              "      <th></th>\n",
              "      <th></th>\n",
              "      <th></th>\n",
              "      <th></th>\n",
              "      <th></th>\n",
              "      <th></th>\n",
              "      <th></th>\n",
              "      <th></th>\n",
              "      <th></th>\n",
              "      <th></th>\n",
              "      <th></th>\n",
              "      <th></th>\n",
              "      <th></th>\n",
              "      <th></th>\n",
              "      <th></th>\n",
              "      <th></th>\n",
              "      <th></th>\n",
              "      <th></th>\n",
              "      <th></th>\n",
              "    </tr>\n",
              "  </thead>\n",
              "  <tbody>\n",
              "    <tr>\n",
              "      <th>east</th>\n",
              "      <td>E</td>\n",
              "      <td>8</td>\n",
              "      <td>1.8</td>\n",
              "      <td>0</td>\n",
              "      <td>5c</td>\n",
              "      <td>Fixed</td>\n",
              "      <td>Wood</td>\n",
              "      <td>0</td>\n",
              "      <td>0</td>\n",
              "      <td>0</td>\n",
              "      <td>0</td>\n",
              "      <td>0</td>\n",
              "      <td>0.9</td>\n",
              "      <td>0.3</td>\n",
              "      <td>0</td>\n",
              "      <td>DrapesLightOpen</td>\n",
              "      <td>0.4</td>\n",
              "      <td>0</td>\n",
              "      <td>0</td>\n",
              "      <td>1.00</td>\n",
              "      <td>0</td>\n",
              "      <td>0</td>\n",
              "      <td>0</td>\n",
              "      <td>0</td>\n",
              "      <td>0</td>\n",
              "      <td>0</td>\n",
              "      <td>0</td>\n",
              "      <td>useless</td>\n",
              "    </tr>\n",
              "    <tr>\n",
              "      <th>west</th>\n",
              "      <td>W</td>\n",
              "      <td>8</td>\n",
              "      <td>1.8</td>\n",
              "      <td>0</td>\n",
              "      <td>5c</td>\n",
              "      <td>Fixed</td>\n",
              "      <td>Wood</td>\n",
              "      <td>0</td>\n",
              "      <td>0</td>\n",
              "      <td>0</td>\n",
              "      <td>0</td>\n",
              "      <td>0</td>\n",
              "      <td>0.9</td>\n",
              "      <td>0.3</td>\n",
              "      <td>0</td>\n",
              "      <td>DrapesLightOpen</td>\n",
              "      <td>0.4</td>\n",
              "      <td>0</td>\n",
              "      <td>0</td>\n",
              "      <td>1.00</td>\n",
              "      <td>0</td>\n",
              "      <td>0</td>\n",
              "      <td>0</td>\n",
              "      <td>0</td>\n",
              "      <td>0</td>\n",
              "      <td>0</td>\n",
              "      <td>0</td>\n",
              "      <td>useless</td>\n",
              "    </tr>\n",
              "    <tr>\n",
              "      <th>south-Fixed</th>\n",
              "      <td>S</td>\n",
              "      <td>2</td>\n",
              "      <td>1.8</td>\n",
              "      <td>0</td>\n",
              "      <td>5c</td>\n",
              "      <td>Fixed</td>\n",
              "      <td>Wood</td>\n",
              "      <td>0</td>\n",
              "      <td>0</td>\n",
              "      <td>0</td>\n",
              "      <td>0</td>\n",
              "      <td>0</td>\n",
              "      <td>0.9</td>\n",
              "      <td>0.3</td>\n",
              "      <td>0</td>\n",
              "      <td>DrapesLightOpen</td>\n",
              "      <td>0.4</td>\n",
              "      <td>0</td>\n",
              "      <td>0</td>\n",
              "      <td>1.00</td>\n",
              "      <td>0</td>\n",
              "      <td>0</td>\n",
              "      <td>0</td>\n",
              "      <td>0</td>\n",
              "      <td>0</td>\n",
              "      <td>0</td>\n",
              "      <td>0</td>\n",
              "      <td>useless</td>\n",
              "    </tr>\n",
              "    <tr>\n",
              "      <th>south-Operable</th>\n",
              "      <td>S</td>\n",
              "      <td>2</td>\n",
              "      <td>1.8</td>\n",
              "      <td>0</td>\n",
              "      <td>5c</td>\n",
              "      <td>Operable</td>\n",
              "      <td>Wood</td>\n",
              "      <td>0</td>\n",
              "      <td>0</td>\n",
              "      <td>0</td>\n",
              "      <td>0</td>\n",
              "      <td>0</td>\n",
              "      <td>0.9</td>\n",
              "      <td>0.3</td>\n",
              "      <td>0</td>\n",
              "      <td>DrapesLightOpen</td>\n",
              "      <td>0.4</td>\n",
              "      <td>0</td>\n",
              "      <td>0</td>\n",
              "      <td>0.64</td>\n",
              "      <td>0</td>\n",
              "      <td>0</td>\n",
              "      <td>0</td>\n",
              "      <td>0</td>\n",
              "      <td>0</td>\n",
              "      <td>0</td>\n",
              "      <td>0</td>\n",
              "      <td>useless</td>\n",
              "    </tr>\n",
              "  </tbody>\n",
              "</table>\n",
              "</div>"
            ],
            "text/plain": [
              "               Direction  width  Height  ...  CF Qcooling UselessColumn\n",
              "Name                                     ...                           \n",
              "east                   E      8     1.8  ...   0        0       useless\n",
              "west                   W      8     1.8  ...   0        0       useless\n",
              "south-Fixed            S      2     1.8  ...   0        0       useless\n",
              "south-Operable         S      2     1.8  ...   0        0       useless\n",
              "\n",
              "[4 rows x 28 columns]"
            ]
          },
          "metadata": {
            "tags": []
          },
          "execution_count": 12
        }
      ]
    },
    {
      "cell_type": "code",
      "metadata": {
        "id": "7oi-3fdJwegw",
        "outputId": "778f75b0-0b5a-4cdb-ac96-32a914ac4900",
        "colab": {
          "base_uri": "https://localhost:8080/"
        }
      },
      "source": [
        "window_DF.columns"
      ],
      "execution_count": 13,
      "outputs": [
        {
          "output_type": "execute_result",
          "data": {
            "text/plain": [
              "Index(['Direction', 'width', 'Height', 'Area', 'Window_ID', 'Frame_type',\n",
              "       'Frame_material', 'U', 'SHGC', 'HF', 'Q heating', 'SLF', 'Doh', 'Xoh',\n",
              "       'Fshd', 'IntShading_ID', 'IntShading_closeness', 'IAC_cl', 'IAC', 'Tx',\n",
              "       'Ed', 'ED', 'PXI', 'FFs', 'C_value', 'CF', 'Qcooling', 'UselessColumn'],\n",
              "      dtype='object')"
            ]
          },
          "metadata": {
            "tags": []
          },
          "execution_count": 13
        }
      ]
    },
    {
      "cell_type": "code",
      "metadata": {
        "id": "lpOp1X7wyLIS",
        "outputId": "49b58d4d-ecfe-4a48-f50d-3ed2fac5ab21",
        "colab": {
          "base_uri": "https://localhost:8080/"
        }
      },
      "source": [
        "window_DF.index"
      ],
      "execution_count": 14,
      "outputs": [
        {
          "output_type": "execute_result",
          "data": {
            "text/plain": [
              "Index(['east', 'west', 'south-Fixed', 'south-Operable'], dtype='object', name='Name')"
            ]
          },
          "metadata": {
            "tags": []
          },
          "execution_count": 14
        }
      ]
    },
    {
      "cell_type": "code",
      "metadata": {
        "id": "H5VfIdgPyPJt"
      },
      "source": [
        "window_DF.loc[:,\"Area\"] = window_DF.loc[:,\"width\"] * window_DF.loc[:,\"Height\"]"
      ],
      "execution_count": 15,
      "outputs": []
    },
    {
      "cell_type": "code",
      "metadata": {
        "id": "eYlhiM34zT_f",
        "outputId": "d1eb64cf-bf42-4aab-a940-f48c16bd5a66",
        "colab": {
          "base_uri": "https://localhost:8080/",
          "height": 266
        }
      },
      "source": [
        "window_DF"
      ],
      "execution_count": 16,
      "outputs": [
        {
          "output_type": "execute_result",
          "data": {
            "text/html": [
              "<div>\n",
              "<style scoped>\n",
              "    .dataframe tbody tr th:only-of-type {\n",
              "        vertical-align: middle;\n",
              "    }\n",
              "\n",
              "    .dataframe tbody tr th {\n",
              "        vertical-align: top;\n",
              "    }\n",
              "\n",
              "    .dataframe thead th {\n",
              "        text-align: right;\n",
              "    }\n",
              "</style>\n",
              "<table border=\"1\" class=\"dataframe\">\n",
              "  <thead>\n",
              "    <tr style=\"text-align: right;\">\n",
              "      <th></th>\n",
              "      <th>Direction</th>\n",
              "      <th>width</th>\n",
              "      <th>Height</th>\n",
              "      <th>Area</th>\n",
              "      <th>Window_ID</th>\n",
              "      <th>Frame_type</th>\n",
              "      <th>Frame_material</th>\n",
              "      <th>U</th>\n",
              "      <th>SHGC</th>\n",
              "      <th>HF</th>\n",
              "      <th>Q heating</th>\n",
              "      <th>SLF</th>\n",
              "      <th>Doh</th>\n",
              "      <th>Xoh</th>\n",
              "      <th>Fshd</th>\n",
              "      <th>IntShading_ID</th>\n",
              "      <th>IntShading_closeness</th>\n",
              "      <th>IAC_cl</th>\n",
              "      <th>IAC</th>\n",
              "      <th>Tx</th>\n",
              "      <th>Ed</th>\n",
              "      <th>ED</th>\n",
              "      <th>PXI</th>\n",
              "      <th>FFs</th>\n",
              "      <th>C_value</th>\n",
              "      <th>CF</th>\n",
              "      <th>Qcooling</th>\n",
              "      <th>UselessColumn</th>\n",
              "    </tr>\n",
              "    <tr>\n",
              "      <th>Name</th>\n",
              "      <th></th>\n",
              "      <th></th>\n",
              "      <th></th>\n",
              "      <th></th>\n",
              "      <th></th>\n",
              "      <th></th>\n",
              "      <th></th>\n",
              "      <th></th>\n",
              "      <th></th>\n",
              "      <th></th>\n",
              "      <th></th>\n",
              "      <th></th>\n",
              "      <th></th>\n",
              "      <th></th>\n",
              "      <th></th>\n",
              "      <th></th>\n",
              "      <th></th>\n",
              "      <th></th>\n",
              "      <th></th>\n",
              "      <th></th>\n",
              "      <th></th>\n",
              "      <th></th>\n",
              "      <th></th>\n",
              "      <th></th>\n",
              "      <th></th>\n",
              "      <th></th>\n",
              "      <th></th>\n",
              "      <th></th>\n",
              "    </tr>\n",
              "  </thead>\n",
              "  <tbody>\n",
              "    <tr>\n",
              "      <th>east</th>\n",
              "      <td>E</td>\n",
              "      <td>8</td>\n",
              "      <td>1.8</td>\n",
              "      <td>14.4</td>\n",
              "      <td>5c</td>\n",
              "      <td>Fixed</td>\n",
              "      <td>Wood</td>\n",
              "      <td>0</td>\n",
              "      <td>0</td>\n",
              "      <td>0</td>\n",
              "      <td>0</td>\n",
              "      <td>0</td>\n",
              "      <td>0.9</td>\n",
              "      <td>0.3</td>\n",
              "      <td>0</td>\n",
              "      <td>DrapesLightOpen</td>\n",
              "      <td>0.4</td>\n",
              "      <td>0</td>\n",
              "      <td>0</td>\n",
              "      <td>1.00</td>\n",
              "      <td>0</td>\n",
              "      <td>0</td>\n",
              "      <td>0</td>\n",
              "      <td>0</td>\n",
              "      <td>0</td>\n",
              "      <td>0</td>\n",
              "      <td>0</td>\n",
              "      <td>useless</td>\n",
              "    </tr>\n",
              "    <tr>\n",
              "      <th>west</th>\n",
              "      <td>W</td>\n",
              "      <td>8</td>\n",
              "      <td>1.8</td>\n",
              "      <td>14.4</td>\n",
              "      <td>5c</td>\n",
              "      <td>Fixed</td>\n",
              "      <td>Wood</td>\n",
              "      <td>0</td>\n",
              "      <td>0</td>\n",
              "      <td>0</td>\n",
              "      <td>0</td>\n",
              "      <td>0</td>\n",
              "      <td>0.9</td>\n",
              "      <td>0.3</td>\n",
              "      <td>0</td>\n",
              "      <td>DrapesLightOpen</td>\n",
              "      <td>0.4</td>\n",
              "      <td>0</td>\n",
              "      <td>0</td>\n",
              "      <td>1.00</td>\n",
              "      <td>0</td>\n",
              "      <td>0</td>\n",
              "      <td>0</td>\n",
              "      <td>0</td>\n",
              "      <td>0</td>\n",
              "      <td>0</td>\n",
              "      <td>0</td>\n",
              "      <td>useless</td>\n",
              "    </tr>\n",
              "    <tr>\n",
              "      <th>south-Fixed</th>\n",
              "      <td>S</td>\n",
              "      <td>2</td>\n",
              "      <td>1.8</td>\n",
              "      <td>3.6</td>\n",
              "      <td>5c</td>\n",
              "      <td>Fixed</td>\n",
              "      <td>Wood</td>\n",
              "      <td>0</td>\n",
              "      <td>0</td>\n",
              "      <td>0</td>\n",
              "      <td>0</td>\n",
              "      <td>0</td>\n",
              "      <td>0.9</td>\n",
              "      <td>0.3</td>\n",
              "      <td>0</td>\n",
              "      <td>DrapesLightOpen</td>\n",
              "      <td>0.4</td>\n",
              "      <td>0</td>\n",
              "      <td>0</td>\n",
              "      <td>1.00</td>\n",
              "      <td>0</td>\n",
              "      <td>0</td>\n",
              "      <td>0</td>\n",
              "      <td>0</td>\n",
              "      <td>0</td>\n",
              "      <td>0</td>\n",
              "      <td>0</td>\n",
              "      <td>useless</td>\n",
              "    </tr>\n",
              "    <tr>\n",
              "      <th>south-Operable</th>\n",
              "      <td>S</td>\n",
              "      <td>2</td>\n",
              "      <td>1.8</td>\n",
              "      <td>3.6</td>\n",
              "      <td>5c</td>\n",
              "      <td>Operable</td>\n",
              "      <td>Wood</td>\n",
              "      <td>0</td>\n",
              "      <td>0</td>\n",
              "      <td>0</td>\n",
              "      <td>0</td>\n",
              "      <td>0</td>\n",
              "      <td>0.9</td>\n",
              "      <td>0.3</td>\n",
              "      <td>0</td>\n",
              "      <td>DrapesLightOpen</td>\n",
              "      <td>0.4</td>\n",
              "      <td>0</td>\n",
              "      <td>0</td>\n",
              "      <td>0.64</td>\n",
              "      <td>0</td>\n",
              "      <td>0</td>\n",
              "      <td>0</td>\n",
              "      <td>0</td>\n",
              "      <td>0</td>\n",
              "      <td>0</td>\n",
              "      <td>0</td>\n",
              "      <td>useless</td>\n",
              "    </tr>\n",
              "  </tbody>\n",
              "</table>\n",
              "</div>"
            ],
            "text/plain": [
              "               Direction  width  Height  ...  CF Qcooling UselessColumn\n",
              "Name                                     ...                           \n",
              "east                   E      8     1.8  ...   0        0       useless\n",
              "west                   W      8     1.8  ...   0        0       useless\n",
              "south-Fixed            S      2     1.8  ...   0        0       useless\n",
              "south-Operable         S      2     1.8  ...   0        0       useless\n",
              "\n",
              "[4 rows x 28 columns]"
            ]
          },
          "metadata": {
            "tags": []
          },
          "execution_count": 16
        }
      ]
    },
    {
      "cell_type": "code",
      "metadata": {
        "id": "d0pNCY2mzWOh"
      },
      "source": [
        "name_modified_windows = \"window_modified.csv\"\n",
        "window_DF.to_csv(name_modified_windows,sep = \";\")\n",
        "window_DF.to_excel(\"window_modified.xlsx\")\n",
        "window_DF.to_html(\"window_modified.html\")"
      ],
      "execution_count": 17,
      "outputs": []
    },
    {
      "cell_type": "code",
      "metadata": {
        "id": "T5GbUIEvzcdx",
        "outputId": "0c2b93a0-4d26-4a29-9c7c-320242d0b753",
        "colab": {
          "base_uri": "https://localhost:8080/",
          "height": 254
        }
      },
      "source": [
        "IAC_cl_DF = pd.read_csv(\"IAC_cl.csv\",sep=\";\",index_col=1,header=0)\n",
        "IAC_cl_DF"
      ],
      "execution_count": 18,
      "outputs": [
        {
          "output_type": "execute_result",
          "data": {
            "text/html": [
              "<div>\n",
              "<style scoped>\n",
              "    .dataframe tbody tr th:only-of-type {\n",
              "        vertical-align: middle;\n",
              "    }\n",
              "\n",
              "    .dataframe tbody tr th {\n",
              "        vertical-align: top;\n",
              "    }\n",
              "\n",
              "    .dataframe thead th {\n",
              "        text-align: right;\n",
              "    }\n",
              "</style>\n",
              "<table border=\"1\" class=\"dataframe\">\n",
              "  <thead>\n",
              "    <tr style=\"text-align: right;\">\n",
              "      <th></th>\n",
              "      <th>Type</th>\n",
              "      <th>DrapesLightOpen</th>\n",
              "      <th>DrapesDarkClosed</th>\n",
              "      <th>DrapesLightClosed</th>\n",
              "      <th>RollerOpaqueDark</th>\n",
              "      <th>RollerOpqaueWhite</th>\n",
              "      <th>RollerTranslucentLight</th>\n",
              "      <th>BlindsMedium</th>\n",
              "      <th>BlindsDark</th>\n",
              "    </tr>\n",
              "    <tr>\n",
              "      <th>ID</th>\n",
              "      <th></th>\n",
              "      <th></th>\n",
              "      <th></th>\n",
              "      <th></th>\n",
              "      <th></th>\n",
              "      <th></th>\n",
              "      <th></th>\n",
              "      <th></th>\n",
              "      <th></th>\n",
              "    </tr>\n",
              "  </thead>\n",
              "  <tbody>\n",
              "    <tr>\n",
              "      <th>1a</th>\n",
              "      <td>clear_1Layer</td>\n",
              "      <td>0.64</td>\n",
              "      <td>0.71</td>\n",
              "      <td>0.45</td>\n",
              "      <td>0.64</td>\n",
              "      <td>0.34</td>\n",
              "      <td>0.44</td>\n",
              "      <td>0.74</td>\n",
              "      <td>0.66</td>\n",
              "    </tr>\n",
              "    <tr>\n",
              "      <th>1c</th>\n",
              "      <td>HeatAbsorbing_1Layer</td>\n",
              "      <td>0.68</td>\n",
              "      <td>0.72</td>\n",
              "      <td>0.50</td>\n",
              "      <td>0.67</td>\n",
              "      <td>0.40</td>\n",
              "      <td>0.49</td>\n",
              "      <td>0.76</td>\n",
              "      <td>0.69</td>\n",
              "    </tr>\n",
              "    <tr>\n",
              "      <th>5a</th>\n",
              "      <td>Clear_2Layer</td>\n",
              "      <td>0.72</td>\n",
              "      <td>0.81</td>\n",
              "      <td>0.57</td>\n",
              "      <td>0.76</td>\n",
              "      <td>0.48</td>\n",
              "      <td>0.55</td>\n",
              "      <td>0.82</td>\n",
              "      <td>0.74</td>\n",
              "    </tr>\n",
              "    <tr>\n",
              "      <th>17c</th>\n",
              "      <td>lowEpsillonHighSolar_2Layers</td>\n",
              "      <td>0.76</td>\n",
              "      <td>0.86</td>\n",
              "      <td>0.64</td>\n",
              "      <td>0.82</td>\n",
              "      <td>0.57</td>\n",
              "      <td>0.62</td>\n",
              "      <td>0.86</td>\n",
              "      <td>0.79</td>\n",
              "    </tr>\n",
              "    <tr>\n",
              "      <th>25a</th>\n",
              "      <td>lowEpsillonLowSolar_2Layers</td>\n",
              "      <td>0.79</td>\n",
              "      <td>0.88</td>\n",
              "      <td>0.68</td>\n",
              "      <td>0.85</td>\n",
              "      <td>0.60</td>\n",
              "      <td>0.66</td>\n",
              "      <td>0.88</td>\n",
              "      <td>0.82</td>\n",
              "    </tr>\n",
              "    <tr>\n",
              "      <th>5c</th>\n",
              "      <td>HeatAbsorbing_2Layers</td>\n",
              "      <td>0.73</td>\n",
              "      <td>0.82</td>\n",
              "      <td>0.59</td>\n",
              "      <td>0.77</td>\n",
              "      <td>0.51</td>\n",
              "      <td>0.58</td>\n",
              "      <td>0.83</td>\n",
              "      <td>0.76</td>\n",
              "    </tr>\n",
              "  </tbody>\n",
              "</table>\n",
              "</div>"
            ],
            "text/plain": [
              "                             Type  DrapesLightOpen  ...  BlindsMedium  BlindsDark\n",
              "ID                                                  ...                          \n",
              "1a                   clear_1Layer             0.64  ...          0.74        0.66\n",
              "1c           HeatAbsorbing_1Layer             0.68  ...          0.76        0.69\n",
              "5a                   Clear_2Layer             0.72  ...          0.82        0.74\n",
              "17c  lowEpsillonHighSolar_2Layers             0.76  ...          0.86        0.79\n",
              "25a   lowEpsillonLowSolar_2Layers             0.79  ...          0.88        0.82\n",
              "5c          HeatAbsorbing_2Layers             0.73  ...          0.83        0.76\n",
              "\n",
              "[6 rows x 9 columns]"
            ]
          },
          "metadata": {
            "tags": []
          },
          "execution_count": 18
        }
      ]
    },
    {
      "cell_type": "code",
      "metadata": {
        "id": "QwmyLfE20C0o",
        "outputId": "cf9e29f7-8e11-4636-d532-c0191e624381",
        "colab": {
          "base_uri": "https://localhost:8080/"
        }
      },
      "source": [
        "IAC_cl_DF.index"
      ],
      "execution_count": 19,
      "outputs": [
        {
          "output_type": "execute_result",
          "data": {
            "text/plain": [
              "Index(['1a', '1c', '5a', '17c', '25a', '5c'], dtype='object', name='ID')"
            ]
          },
          "metadata": {
            "tags": []
          },
          "execution_count": 19
        }
      ]
    },
    {
      "cell_type": "code",
      "metadata": {
        "id": "gZSTCPy60LGa",
        "outputId": "7e8a1f79-25df-4d1d-b39b-0882921248b4",
        "colab": {
          "base_uri": "https://localhost:8080/"
        }
      },
      "source": [
        "IAC_cl_DF.columns"
      ],
      "execution_count": 20,
      "outputs": [
        {
          "output_type": "execute_result",
          "data": {
            "text/plain": [
              "Index(['Type', 'DrapesLightOpen', 'DrapesDarkClosed', 'DrapesLightClosed',\n",
              "       'RollerOpaqueDark', 'RollerOpqaueWhite', 'RollerTranslucentLight',\n",
              "       'BlindsMedium', 'BlindsDark'],\n",
              "      dtype='object')"
            ]
          },
          "metadata": {
            "tags": []
          },
          "execution_count": 20
        }
      ]
    },
    {
      "cell_type": "markdown",
      "metadata": {
        "id": "hPpCeTTV0Qvv"
      },
      "source": [
        "Some useful commands for large datasets!"
      ]
    },
    {
      "cell_type": "code",
      "metadata": {
        "id": "h0rhwONv0NLW",
        "outputId": "207bb149-3ed0-4a5f-9206-23cf52786bb0",
        "colab": {
          "base_uri": "https://localhost:8080/",
          "height": 166
        }
      },
      "source": [
        "IAC_cl_DF.head(3) #shows the first three headers"
      ],
      "execution_count": 21,
      "outputs": [
        {
          "output_type": "execute_result",
          "data": {
            "text/html": [
              "<div>\n",
              "<style scoped>\n",
              "    .dataframe tbody tr th:only-of-type {\n",
              "        vertical-align: middle;\n",
              "    }\n",
              "\n",
              "    .dataframe tbody tr th {\n",
              "        vertical-align: top;\n",
              "    }\n",
              "\n",
              "    .dataframe thead th {\n",
              "        text-align: right;\n",
              "    }\n",
              "</style>\n",
              "<table border=\"1\" class=\"dataframe\">\n",
              "  <thead>\n",
              "    <tr style=\"text-align: right;\">\n",
              "      <th></th>\n",
              "      <th>Type</th>\n",
              "      <th>DrapesLightOpen</th>\n",
              "      <th>DrapesDarkClosed</th>\n",
              "      <th>DrapesLightClosed</th>\n",
              "      <th>RollerOpaqueDark</th>\n",
              "      <th>RollerOpqaueWhite</th>\n",
              "      <th>RollerTranslucentLight</th>\n",
              "      <th>BlindsMedium</th>\n",
              "      <th>BlindsDark</th>\n",
              "    </tr>\n",
              "    <tr>\n",
              "      <th>ID</th>\n",
              "      <th></th>\n",
              "      <th></th>\n",
              "      <th></th>\n",
              "      <th></th>\n",
              "      <th></th>\n",
              "      <th></th>\n",
              "      <th></th>\n",
              "      <th></th>\n",
              "      <th></th>\n",
              "    </tr>\n",
              "  </thead>\n",
              "  <tbody>\n",
              "    <tr>\n",
              "      <th>1a</th>\n",
              "      <td>clear_1Layer</td>\n",
              "      <td>0.64</td>\n",
              "      <td>0.71</td>\n",
              "      <td>0.45</td>\n",
              "      <td>0.64</td>\n",
              "      <td>0.34</td>\n",
              "      <td>0.44</td>\n",
              "      <td>0.74</td>\n",
              "      <td>0.66</td>\n",
              "    </tr>\n",
              "    <tr>\n",
              "      <th>1c</th>\n",
              "      <td>HeatAbsorbing_1Layer</td>\n",
              "      <td>0.68</td>\n",
              "      <td>0.72</td>\n",
              "      <td>0.50</td>\n",
              "      <td>0.67</td>\n",
              "      <td>0.40</td>\n",
              "      <td>0.49</td>\n",
              "      <td>0.76</td>\n",
              "      <td>0.69</td>\n",
              "    </tr>\n",
              "    <tr>\n",
              "      <th>5a</th>\n",
              "      <td>Clear_2Layer</td>\n",
              "      <td>0.72</td>\n",
              "      <td>0.81</td>\n",
              "      <td>0.57</td>\n",
              "      <td>0.76</td>\n",
              "      <td>0.48</td>\n",
              "      <td>0.55</td>\n",
              "      <td>0.82</td>\n",
              "      <td>0.74</td>\n",
              "    </tr>\n",
              "  </tbody>\n",
              "</table>\n",
              "</div>"
            ],
            "text/plain": [
              "                    Type  DrapesLightOpen  ...  BlindsMedium  BlindsDark\n",
              "ID                                         ...                          \n",
              "1a          clear_1Layer             0.64  ...          0.74        0.66\n",
              "1c  HeatAbsorbing_1Layer             0.68  ...          0.76        0.69\n",
              "5a          Clear_2Layer             0.72  ...          0.82        0.74\n",
              "\n",
              "[3 rows x 9 columns]"
            ]
          },
          "metadata": {
            "tags": []
          },
          "execution_count": 21
        }
      ]
    },
    {
      "cell_type": "code",
      "metadata": {
        "id": "vqJio_4_0WUk",
        "outputId": "302debf8-144c-4d9a-c282-b97422db57ae",
        "colab": {
          "base_uri": "https://localhost:8080/",
          "height": 166
        }
      },
      "source": [
        "IAC_cl_DF.tail(3) #shows last 3 headers"
      ],
      "execution_count": 22,
      "outputs": [
        {
          "output_type": "execute_result",
          "data": {
            "text/html": [
              "<div>\n",
              "<style scoped>\n",
              "    .dataframe tbody tr th:only-of-type {\n",
              "        vertical-align: middle;\n",
              "    }\n",
              "\n",
              "    .dataframe tbody tr th {\n",
              "        vertical-align: top;\n",
              "    }\n",
              "\n",
              "    .dataframe thead th {\n",
              "        text-align: right;\n",
              "    }\n",
              "</style>\n",
              "<table border=\"1\" class=\"dataframe\">\n",
              "  <thead>\n",
              "    <tr style=\"text-align: right;\">\n",
              "      <th></th>\n",
              "      <th>Type</th>\n",
              "      <th>DrapesLightOpen</th>\n",
              "      <th>DrapesDarkClosed</th>\n",
              "      <th>DrapesLightClosed</th>\n",
              "      <th>RollerOpaqueDark</th>\n",
              "      <th>RollerOpqaueWhite</th>\n",
              "      <th>RollerTranslucentLight</th>\n",
              "      <th>BlindsMedium</th>\n",
              "      <th>BlindsDark</th>\n",
              "    </tr>\n",
              "    <tr>\n",
              "      <th>ID</th>\n",
              "      <th></th>\n",
              "      <th></th>\n",
              "      <th></th>\n",
              "      <th></th>\n",
              "      <th></th>\n",
              "      <th></th>\n",
              "      <th></th>\n",
              "      <th></th>\n",
              "      <th></th>\n",
              "    </tr>\n",
              "  </thead>\n",
              "  <tbody>\n",
              "    <tr>\n",
              "      <th>17c</th>\n",
              "      <td>lowEpsillonHighSolar_2Layers</td>\n",
              "      <td>0.76</td>\n",
              "      <td>0.86</td>\n",
              "      <td>0.64</td>\n",
              "      <td>0.82</td>\n",
              "      <td>0.57</td>\n",
              "      <td>0.62</td>\n",
              "      <td>0.86</td>\n",
              "      <td>0.79</td>\n",
              "    </tr>\n",
              "    <tr>\n",
              "      <th>25a</th>\n",
              "      <td>lowEpsillonLowSolar_2Layers</td>\n",
              "      <td>0.79</td>\n",
              "      <td>0.88</td>\n",
              "      <td>0.68</td>\n",
              "      <td>0.85</td>\n",
              "      <td>0.60</td>\n",
              "      <td>0.66</td>\n",
              "      <td>0.88</td>\n",
              "      <td>0.82</td>\n",
              "    </tr>\n",
              "    <tr>\n",
              "      <th>5c</th>\n",
              "      <td>HeatAbsorbing_2Layers</td>\n",
              "      <td>0.73</td>\n",
              "      <td>0.82</td>\n",
              "      <td>0.59</td>\n",
              "      <td>0.77</td>\n",
              "      <td>0.51</td>\n",
              "      <td>0.58</td>\n",
              "      <td>0.83</td>\n",
              "      <td>0.76</td>\n",
              "    </tr>\n",
              "  </tbody>\n",
              "</table>\n",
              "</div>"
            ],
            "text/plain": [
              "                             Type  DrapesLightOpen  ...  BlindsMedium  BlindsDark\n",
              "ID                                                  ...                          \n",
              "17c  lowEpsillonHighSolar_2Layers             0.76  ...          0.86        0.79\n",
              "25a   lowEpsillonLowSolar_2Layers             0.79  ...          0.88        0.82\n",
              "5c          HeatAbsorbing_2Layers             0.73  ...          0.83        0.76\n",
              "\n",
              "[3 rows x 9 columns]"
            ]
          },
          "metadata": {
            "tags": []
          },
          "execution_count": 22
        }
      ]
    },
    {
      "cell_type": "markdown",
      "metadata": {
        "id": "WHD8mKYs1FG0"
      },
      "source": [
        "IAC_cl_DF"
      ]
    },
    {
      "cell_type": "code",
      "metadata": {
        "id": "12W_S6aS0d90",
        "outputId": "489a9ed6-4a03-40c0-a3d3-76a35eb169f1",
        "colab": {
          "base_uri": "https://localhost:8080/"
        }
      },
      "source": [
        "windowID = \"5c\"\n",
        "IntShadingID = \"DrapesLightOpen\"\n",
        "value_IAC_cl = IAC_cl_DF.loc[windowID,IntShadingID]\n",
        "value_IAC_cl"
      ],
      "execution_count": 23,
      "outputs": [
        {
          "output_type": "execute_result",
          "data": {
            "text/plain": [
              "0.73"
            ]
          },
          "metadata": {
            "tags": []
          },
          "execution_count": 23
        }
      ]
    },
    {
      "cell_type": "markdown",
      "metadata": {
        "id": "d4IGZRoq1H2M"
      },
      "source": [
        "Create a simple function that for the shadin type DrapesLightOpen reads the table and gives you the value being provided with the type of the window"
      ]
    },
    {
      "cell_type": "code",
      "metadata": {
        "id": "G9MUbQKF04xF"
      },
      "source": [
        "def IAC_cl_finder_DrapesLightOpen(windowID):\n",
        "  IntShadingID = \"DrapesLightOpen\"\n",
        "  IAC_cl_DF = pd.read_csv(\"IAC_cl.csv\",sep=\";\",index_col=1,header=0)\n",
        "  value_IAC_cl = IAC_cl_DF.loc[windowID,IntShadingID]\n",
        "  return value_IAC_cl\n"
      ],
      "execution_count": 24,
      "outputs": []
    },
    {
      "cell_type": "code",
      "metadata": {
        "id": "KofxBwKQ10AJ",
        "outputId": "4e53527e-5f54-4131-b9ec-6597d8d99726",
        "colab": {
          "base_uri": "https://localhost:8080/"
        }
      },
      "source": [
        "IAC_cl_finder_DrapesLightOpen(\"5c\")"
      ],
      "execution_count": 25,
      "outputs": [
        {
          "output_type": "execute_result",
          "data": {
            "text/plain": [
              "0.73"
            ]
          },
          "metadata": {
            "tags": []
          },
          "execution_count": 25
        }
      ]
    },
    {
      "cell_type": "code",
      "metadata": {
        "id": "zSLVvulJ12vL",
        "outputId": "f845df9d-22ff-4d64-d8a9-430db0c63223",
        "colab": {
          "base_uri": "https://localhost:8080/"
        }
      },
      "source": [
        "window_DF.loc[:,\"Window_ID\"].apply(IAC_cl_finder_DrapesLightOpen)"
      ],
      "execution_count": 26,
      "outputs": [
        {
          "output_type": "execute_result",
          "data": {
            "text/plain": [
              "Name\n",
              "east              0.73\n",
              "west              0.73\n",
              "south-Fixed       0.73\n",
              "south-Operable    0.73\n",
              "Name: Window_ID, dtype: float64"
            ]
          },
          "metadata": {
            "tags": []
          },
          "execution_count": 26
        }
      ]
    },
    {
      "cell_type": "code",
      "metadata": {
        "id": "vSNkV2JW7w-M",
        "outputId": "b1dff053-0df8-42e4-a2fd-28177e279be7",
        "colab": {
          "base_uri": "https://localhost:8080/"
        }
      },
      "source": [
        "window_DF.loc[:,\"IAC_cl\"] = window_DF.loc[:,\"Window_ID\"].apply(IAC_cl_finder_DrapesLightOpen)\n",
        "window_DF.loc[:,\"IAC_cl\"]"
      ],
      "execution_count": 27,
      "outputs": [
        {
          "output_type": "execute_result",
          "data": {
            "text/plain": [
              "Name\n",
              "east              0.73\n",
              "west              0.73\n",
              "south-Fixed       0.73\n",
              "south-Operable    0.73\n",
              "Name: IAC_cl, dtype: float64"
            ]
          },
          "metadata": {
            "tags": []
          },
          "execution_count": 27
        }
      ]
    },
    {
      "cell_type": "code",
      "metadata": {
        "id": "0bMe0zQ-8DMj",
        "outputId": "5bb2fd61-5d51-403b-fd60-70f0d76e60fa",
        "colab": {
          "base_uri": "https://localhost:8080/",
          "height": 266
        }
      },
      "source": [
        "window_DF"
      ],
      "execution_count": 28,
      "outputs": [
        {
          "output_type": "execute_result",
          "data": {
            "text/html": [
              "<div>\n",
              "<style scoped>\n",
              "    .dataframe tbody tr th:only-of-type {\n",
              "        vertical-align: middle;\n",
              "    }\n",
              "\n",
              "    .dataframe tbody tr th {\n",
              "        vertical-align: top;\n",
              "    }\n",
              "\n",
              "    .dataframe thead th {\n",
              "        text-align: right;\n",
              "    }\n",
              "</style>\n",
              "<table border=\"1\" class=\"dataframe\">\n",
              "  <thead>\n",
              "    <tr style=\"text-align: right;\">\n",
              "      <th></th>\n",
              "      <th>Direction</th>\n",
              "      <th>width</th>\n",
              "      <th>Height</th>\n",
              "      <th>Area</th>\n",
              "      <th>Window_ID</th>\n",
              "      <th>Frame_type</th>\n",
              "      <th>Frame_material</th>\n",
              "      <th>U</th>\n",
              "      <th>SHGC</th>\n",
              "      <th>HF</th>\n",
              "      <th>Q heating</th>\n",
              "      <th>SLF</th>\n",
              "      <th>Doh</th>\n",
              "      <th>Xoh</th>\n",
              "      <th>Fshd</th>\n",
              "      <th>IntShading_ID</th>\n",
              "      <th>IntShading_closeness</th>\n",
              "      <th>IAC_cl</th>\n",
              "      <th>IAC</th>\n",
              "      <th>Tx</th>\n",
              "      <th>Ed</th>\n",
              "      <th>ED</th>\n",
              "      <th>PXI</th>\n",
              "      <th>FFs</th>\n",
              "      <th>C_value</th>\n",
              "      <th>CF</th>\n",
              "      <th>Qcooling</th>\n",
              "      <th>UselessColumn</th>\n",
              "    </tr>\n",
              "    <tr>\n",
              "      <th>Name</th>\n",
              "      <th></th>\n",
              "      <th></th>\n",
              "      <th></th>\n",
              "      <th></th>\n",
              "      <th></th>\n",
              "      <th></th>\n",
              "      <th></th>\n",
              "      <th></th>\n",
              "      <th></th>\n",
              "      <th></th>\n",
              "      <th></th>\n",
              "      <th></th>\n",
              "      <th></th>\n",
              "      <th></th>\n",
              "      <th></th>\n",
              "      <th></th>\n",
              "      <th></th>\n",
              "      <th></th>\n",
              "      <th></th>\n",
              "      <th></th>\n",
              "      <th></th>\n",
              "      <th></th>\n",
              "      <th></th>\n",
              "      <th></th>\n",
              "      <th></th>\n",
              "      <th></th>\n",
              "      <th></th>\n",
              "      <th></th>\n",
              "    </tr>\n",
              "  </thead>\n",
              "  <tbody>\n",
              "    <tr>\n",
              "      <th>east</th>\n",
              "      <td>E</td>\n",
              "      <td>8</td>\n",
              "      <td>1.8</td>\n",
              "      <td>14.4</td>\n",
              "      <td>5c</td>\n",
              "      <td>Fixed</td>\n",
              "      <td>Wood</td>\n",
              "      <td>0</td>\n",
              "      <td>0</td>\n",
              "      <td>0</td>\n",
              "      <td>0</td>\n",
              "      <td>0</td>\n",
              "      <td>0.9</td>\n",
              "      <td>0.3</td>\n",
              "      <td>0</td>\n",
              "      <td>DrapesLightOpen</td>\n",
              "      <td>0.4</td>\n",
              "      <td>0.73</td>\n",
              "      <td>0</td>\n",
              "      <td>1.00</td>\n",
              "      <td>0</td>\n",
              "      <td>0</td>\n",
              "      <td>0</td>\n",
              "      <td>0</td>\n",
              "      <td>0</td>\n",
              "      <td>0</td>\n",
              "      <td>0</td>\n",
              "      <td>useless</td>\n",
              "    </tr>\n",
              "    <tr>\n",
              "      <th>west</th>\n",
              "      <td>W</td>\n",
              "      <td>8</td>\n",
              "      <td>1.8</td>\n",
              "      <td>14.4</td>\n",
              "      <td>5c</td>\n",
              "      <td>Fixed</td>\n",
              "      <td>Wood</td>\n",
              "      <td>0</td>\n",
              "      <td>0</td>\n",
              "      <td>0</td>\n",
              "      <td>0</td>\n",
              "      <td>0</td>\n",
              "      <td>0.9</td>\n",
              "      <td>0.3</td>\n",
              "      <td>0</td>\n",
              "      <td>DrapesLightOpen</td>\n",
              "      <td>0.4</td>\n",
              "      <td>0.73</td>\n",
              "      <td>0</td>\n",
              "      <td>1.00</td>\n",
              "      <td>0</td>\n",
              "      <td>0</td>\n",
              "      <td>0</td>\n",
              "      <td>0</td>\n",
              "      <td>0</td>\n",
              "      <td>0</td>\n",
              "      <td>0</td>\n",
              "      <td>useless</td>\n",
              "    </tr>\n",
              "    <tr>\n",
              "      <th>south-Fixed</th>\n",
              "      <td>S</td>\n",
              "      <td>2</td>\n",
              "      <td>1.8</td>\n",
              "      <td>3.6</td>\n",
              "      <td>5c</td>\n",
              "      <td>Fixed</td>\n",
              "      <td>Wood</td>\n",
              "      <td>0</td>\n",
              "      <td>0</td>\n",
              "      <td>0</td>\n",
              "      <td>0</td>\n",
              "      <td>0</td>\n",
              "      <td>0.9</td>\n",
              "      <td>0.3</td>\n",
              "      <td>0</td>\n",
              "      <td>DrapesLightOpen</td>\n",
              "      <td>0.4</td>\n",
              "      <td>0.73</td>\n",
              "      <td>0</td>\n",
              "      <td>1.00</td>\n",
              "      <td>0</td>\n",
              "      <td>0</td>\n",
              "      <td>0</td>\n",
              "      <td>0</td>\n",
              "      <td>0</td>\n",
              "      <td>0</td>\n",
              "      <td>0</td>\n",
              "      <td>useless</td>\n",
              "    </tr>\n",
              "    <tr>\n",
              "      <th>south-Operable</th>\n",
              "      <td>S</td>\n",
              "      <td>2</td>\n",
              "      <td>1.8</td>\n",
              "      <td>3.6</td>\n",
              "      <td>5c</td>\n",
              "      <td>Operable</td>\n",
              "      <td>Wood</td>\n",
              "      <td>0</td>\n",
              "      <td>0</td>\n",
              "      <td>0</td>\n",
              "      <td>0</td>\n",
              "      <td>0</td>\n",
              "      <td>0.9</td>\n",
              "      <td>0.3</td>\n",
              "      <td>0</td>\n",
              "      <td>DrapesLightOpen</td>\n",
              "      <td>0.4</td>\n",
              "      <td>0.73</td>\n",
              "      <td>0</td>\n",
              "      <td>0.64</td>\n",
              "      <td>0</td>\n",
              "      <td>0</td>\n",
              "      <td>0</td>\n",
              "      <td>0</td>\n",
              "      <td>0</td>\n",
              "      <td>0</td>\n",
              "      <td>0</td>\n",
              "      <td>useless</td>\n",
              "    </tr>\n",
              "  </tbody>\n",
              "</table>\n",
              "</div>"
            ],
            "text/plain": [
              "               Direction  width  Height  ...  CF Qcooling UselessColumn\n",
              "Name                                     ...                           \n",
              "east                   E      8     1.8  ...   0        0       useless\n",
              "west                   W      8     1.8  ...   0        0       useless\n",
              "south-Fixed            S      2     1.8  ...   0        0       useless\n",
              "south-Operable         S      2     1.8  ...   0        0       useless\n",
              "\n",
              "[4 rows x 28 columns]"
            ]
          },
          "metadata": {
            "tags": []
          },
          "execution_count": 28
        }
      ]
    },
    {
      "cell_type": "markdown",
      "metadata": {
        "id": "6d4LAJl_8X5O"
      },
      "source": [
        "We did a wrong assumption, our function was not receiving the intShadingID as an input, let's correct it!"
      ]
    },
    {
      "cell_type": "code",
      "metadata": {
        "id": "46_Akif-8NAM"
      },
      "source": [
        "def IAC_cl_finder_V2(windowID,IntShadingID):\n",
        "  IAC_cl_DF = pd.read_csv(\"IAC_cl.csv\",sep=\";\",index_col=1,header=0)\n",
        "  value_IAC_cl = IAC_cl_DF.loc[windowID,IntShadingID]\n",
        "  return value_IAC_cl"
      ],
      "execution_count": 29,
      "outputs": []
    },
    {
      "cell_type": "code",
      "metadata": {
        "id": "ISwXDtAB9gq7",
        "outputId": "c5188b3f-2427-4390-b2d4-2c95251ed3ab",
        "colab": {
          "base_uri": "https://localhost:8080/"
        }
      },
      "source": [
        "IAC_cl_finder_V2(\"5c\",\"RollerOpaqueDark\")"
      ],
      "execution_count": 30,
      "outputs": [
        {
          "output_type": "execute_result",
          "data": {
            "text/plain": [
              "0.77"
            ]
          },
          "metadata": {
            "tags": []
          },
          "execution_count": 30
        }
      ]
    },
    {
      "cell_type": "markdown",
      "metadata": {
        "id": "c2h2RWzo8p5z"
      },
      "source": [
        "The problem is that it is complicated to apply it on the DataFrame because your inputs are in two different columns!"
      ]
    },
    {
      "cell_type": "code",
      "metadata": {
        "id": "bCHVHNP49Xpe"
      },
      "source": [
        "def IAC_cl_finder(row):\n",
        "  window_ID = row[\"Window_ID\"]\n",
        "  IntShading_ID = row[\"IntShading_ID\"]\n",
        "  IAC_cl_DF = pd.read_csv(\"IAC_cl.csv\",sep=\";\",index_col=1,header=0)\n",
        "  value_IAC_cl = IAC_cl_DF.loc[windowID,IntShadingID]\n",
        "  return value_IAC_cl"
      ],
      "execution_count": 31,
      "outputs": []
    },
    {
      "cell_type": "code",
      "metadata": {
        "id": "ELJ4loZR9qZz",
        "outputId": "4db463e2-2870-4900-ce35-9fc784f22075",
        "colab": {
          "base_uri": "https://localhost:8080/"
        }
      },
      "source": [
        "window_DF.apply(IAC_cl_finder,axis=1)"
      ],
      "execution_count": 32,
      "outputs": [
        {
          "output_type": "execute_result",
          "data": {
            "text/plain": [
              "Name\n",
              "east              0.73\n",
              "west              0.73\n",
              "south-Fixed       0.73\n",
              "south-Operable    0.73\n",
              "dtype: float64"
            ]
          },
          "metadata": {
            "tags": []
          },
          "execution_count": 32
        }
      ]
    },
    {
      "cell_type": "code",
      "metadata": {
        "id": "QsWG85TA-CB4",
        "outputId": "13e2d76d-e8fd-443e-be9f-3d8f782de592",
        "colab": {
          "base_uri": "https://localhost:8080/",
          "height": 266
        }
      },
      "source": [
        "window_DF.loc[:,\"IAC_cl\"] = window_DF.loc[:,\"Window_ID\"].apply(IAC_cl_finder_DrapesLightOpen)\n",
        "window_DF"
      ],
      "execution_count": 33,
      "outputs": [
        {
          "output_type": "execute_result",
          "data": {
            "text/html": [
              "<div>\n",
              "<style scoped>\n",
              "    .dataframe tbody tr th:only-of-type {\n",
              "        vertical-align: middle;\n",
              "    }\n",
              "\n",
              "    .dataframe tbody tr th {\n",
              "        vertical-align: top;\n",
              "    }\n",
              "\n",
              "    .dataframe thead th {\n",
              "        text-align: right;\n",
              "    }\n",
              "</style>\n",
              "<table border=\"1\" class=\"dataframe\">\n",
              "  <thead>\n",
              "    <tr style=\"text-align: right;\">\n",
              "      <th></th>\n",
              "      <th>Direction</th>\n",
              "      <th>width</th>\n",
              "      <th>Height</th>\n",
              "      <th>Area</th>\n",
              "      <th>Window_ID</th>\n",
              "      <th>Frame_type</th>\n",
              "      <th>Frame_material</th>\n",
              "      <th>U</th>\n",
              "      <th>SHGC</th>\n",
              "      <th>HF</th>\n",
              "      <th>Q heating</th>\n",
              "      <th>SLF</th>\n",
              "      <th>Doh</th>\n",
              "      <th>Xoh</th>\n",
              "      <th>Fshd</th>\n",
              "      <th>IntShading_ID</th>\n",
              "      <th>IntShading_closeness</th>\n",
              "      <th>IAC_cl</th>\n",
              "      <th>IAC</th>\n",
              "      <th>Tx</th>\n",
              "      <th>Ed</th>\n",
              "      <th>ED</th>\n",
              "      <th>PXI</th>\n",
              "      <th>FFs</th>\n",
              "      <th>C_value</th>\n",
              "      <th>CF</th>\n",
              "      <th>Qcooling</th>\n",
              "      <th>UselessColumn</th>\n",
              "    </tr>\n",
              "    <tr>\n",
              "      <th>Name</th>\n",
              "      <th></th>\n",
              "      <th></th>\n",
              "      <th></th>\n",
              "      <th></th>\n",
              "      <th></th>\n",
              "      <th></th>\n",
              "      <th></th>\n",
              "      <th></th>\n",
              "      <th></th>\n",
              "      <th></th>\n",
              "      <th></th>\n",
              "      <th></th>\n",
              "      <th></th>\n",
              "      <th></th>\n",
              "      <th></th>\n",
              "      <th></th>\n",
              "      <th></th>\n",
              "      <th></th>\n",
              "      <th></th>\n",
              "      <th></th>\n",
              "      <th></th>\n",
              "      <th></th>\n",
              "      <th></th>\n",
              "      <th></th>\n",
              "      <th></th>\n",
              "      <th></th>\n",
              "      <th></th>\n",
              "      <th></th>\n",
              "    </tr>\n",
              "  </thead>\n",
              "  <tbody>\n",
              "    <tr>\n",
              "      <th>east</th>\n",
              "      <td>E</td>\n",
              "      <td>8</td>\n",
              "      <td>1.8</td>\n",
              "      <td>14.4</td>\n",
              "      <td>5c</td>\n",
              "      <td>Fixed</td>\n",
              "      <td>Wood</td>\n",
              "      <td>0</td>\n",
              "      <td>0</td>\n",
              "      <td>0</td>\n",
              "      <td>0</td>\n",
              "      <td>0</td>\n",
              "      <td>0.9</td>\n",
              "      <td>0.3</td>\n",
              "      <td>0</td>\n",
              "      <td>DrapesLightOpen</td>\n",
              "      <td>0.4</td>\n",
              "      <td>0.73</td>\n",
              "      <td>0</td>\n",
              "      <td>1.00</td>\n",
              "      <td>0</td>\n",
              "      <td>0</td>\n",
              "      <td>0</td>\n",
              "      <td>0</td>\n",
              "      <td>0</td>\n",
              "      <td>0</td>\n",
              "      <td>0</td>\n",
              "      <td>useless</td>\n",
              "    </tr>\n",
              "    <tr>\n",
              "      <th>west</th>\n",
              "      <td>W</td>\n",
              "      <td>8</td>\n",
              "      <td>1.8</td>\n",
              "      <td>14.4</td>\n",
              "      <td>5c</td>\n",
              "      <td>Fixed</td>\n",
              "      <td>Wood</td>\n",
              "      <td>0</td>\n",
              "      <td>0</td>\n",
              "      <td>0</td>\n",
              "      <td>0</td>\n",
              "      <td>0</td>\n",
              "      <td>0.9</td>\n",
              "      <td>0.3</td>\n",
              "      <td>0</td>\n",
              "      <td>DrapesLightOpen</td>\n",
              "      <td>0.4</td>\n",
              "      <td>0.73</td>\n",
              "      <td>0</td>\n",
              "      <td>1.00</td>\n",
              "      <td>0</td>\n",
              "      <td>0</td>\n",
              "      <td>0</td>\n",
              "      <td>0</td>\n",
              "      <td>0</td>\n",
              "      <td>0</td>\n",
              "      <td>0</td>\n",
              "      <td>useless</td>\n",
              "    </tr>\n",
              "    <tr>\n",
              "      <th>south-Fixed</th>\n",
              "      <td>S</td>\n",
              "      <td>2</td>\n",
              "      <td>1.8</td>\n",
              "      <td>3.6</td>\n",
              "      <td>5c</td>\n",
              "      <td>Fixed</td>\n",
              "      <td>Wood</td>\n",
              "      <td>0</td>\n",
              "      <td>0</td>\n",
              "      <td>0</td>\n",
              "      <td>0</td>\n",
              "      <td>0</td>\n",
              "      <td>0.9</td>\n",
              "      <td>0.3</td>\n",
              "      <td>0</td>\n",
              "      <td>DrapesLightOpen</td>\n",
              "      <td>0.4</td>\n",
              "      <td>0.73</td>\n",
              "      <td>0</td>\n",
              "      <td>1.00</td>\n",
              "      <td>0</td>\n",
              "      <td>0</td>\n",
              "      <td>0</td>\n",
              "      <td>0</td>\n",
              "      <td>0</td>\n",
              "      <td>0</td>\n",
              "      <td>0</td>\n",
              "      <td>useless</td>\n",
              "    </tr>\n",
              "    <tr>\n",
              "      <th>south-Operable</th>\n",
              "      <td>S</td>\n",
              "      <td>2</td>\n",
              "      <td>1.8</td>\n",
              "      <td>3.6</td>\n",
              "      <td>5c</td>\n",
              "      <td>Operable</td>\n",
              "      <td>Wood</td>\n",
              "      <td>0</td>\n",
              "      <td>0</td>\n",
              "      <td>0</td>\n",
              "      <td>0</td>\n",
              "      <td>0</td>\n",
              "      <td>0.9</td>\n",
              "      <td>0.3</td>\n",
              "      <td>0</td>\n",
              "      <td>DrapesLightOpen</td>\n",
              "      <td>0.4</td>\n",
              "      <td>0.73</td>\n",
              "      <td>0</td>\n",
              "      <td>0.64</td>\n",
              "      <td>0</td>\n",
              "      <td>0</td>\n",
              "      <td>0</td>\n",
              "      <td>0</td>\n",
              "      <td>0</td>\n",
              "      <td>0</td>\n",
              "      <td>0</td>\n",
              "      <td>useless</td>\n",
              "    </tr>\n",
              "  </tbody>\n",
              "</table>\n",
              "</div>"
            ],
            "text/plain": [
              "               Direction  width  Height  ...  CF Qcooling UselessColumn\n",
              "Name                                     ...                           \n",
              "east                   E      8     1.8  ...   0        0       useless\n",
              "west                   W      8     1.8  ...   0        0       useless\n",
              "south-Fixed            S      2     1.8  ...   0        0       useless\n",
              "south-Operable         S      2     1.8  ...   0        0       useless\n",
              "\n",
              "[4 rows x 28 columns]"
            ]
          },
          "metadata": {
            "tags": []
          },
          "execution_count": 33
        }
      ]
    },
    {
      "cell_type": "markdown",
      "metadata": {
        "id": "ABHmnvSYIcj3"
      },
      "source": [
        "IAC = 1 + (IAC_cl - 1) * closeness"
      ]
    },
    {
      "cell_type": "code",
      "metadata": {
        "id": "WzBI2NdyFi5x",
        "outputId": "76e5a645-7036-4ccd-a0e9-770923c7c726",
        "colab": {
          "base_uri": "https://localhost:8080/"
        }
      },
      "source": [
        "1 + (window_DF.loc[:,\"IAC_cl\"] - 1 ) * window_DF.loc[:,\"IntShading_closeness\"]"
      ],
      "execution_count": 34,
      "outputs": [
        {
          "output_type": "execute_result",
          "data": {
            "text/plain": [
              "Name\n",
              "east              0.892\n",
              "west              0.892\n",
              "south-Fixed       0.892\n",
              "south-Operable    0.892\n",
              "dtype: float64"
            ]
          },
          "metadata": {
            "tags": []
          },
          "execution_count": 34
        }
      ]
    },
    {
      "cell_type": "code",
      "metadata": {
        "id": "UNwqOLF2JRaZ"
      },
      "source": [
        "window_DF.loc[:,\"IAC\"] = 1 + (window_DF.loc[:,\"IAC_cl\"] - 1 ) * window_DF.loc[:,\"IntShading_closeness\"]"
      ],
      "execution_count": 35,
      "outputs": []
    },
    {
      "cell_type": "code",
      "metadata": {
        "id": "AlMl-BgsJdOL",
        "outputId": "10e7e395-0de1-4941-a9c1-e416ac06e1cc",
        "colab": {
          "base_uri": "https://localhost:8080/",
          "height": 266
        }
      },
      "source": [
        "window_DF"
      ],
      "execution_count": 36,
      "outputs": [
        {
          "output_type": "execute_result",
          "data": {
            "text/html": [
              "<div>\n",
              "<style scoped>\n",
              "    .dataframe tbody tr th:only-of-type {\n",
              "        vertical-align: middle;\n",
              "    }\n",
              "\n",
              "    .dataframe tbody tr th {\n",
              "        vertical-align: top;\n",
              "    }\n",
              "\n",
              "    .dataframe thead th {\n",
              "        text-align: right;\n",
              "    }\n",
              "</style>\n",
              "<table border=\"1\" class=\"dataframe\">\n",
              "  <thead>\n",
              "    <tr style=\"text-align: right;\">\n",
              "      <th></th>\n",
              "      <th>Direction</th>\n",
              "      <th>width</th>\n",
              "      <th>Height</th>\n",
              "      <th>Area</th>\n",
              "      <th>Window_ID</th>\n",
              "      <th>Frame_type</th>\n",
              "      <th>Frame_material</th>\n",
              "      <th>U</th>\n",
              "      <th>SHGC</th>\n",
              "      <th>HF</th>\n",
              "      <th>Q heating</th>\n",
              "      <th>SLF</th>\n",
              "      <th>Doh</th>\n",
              "      <th>Xoh</th>\n",
              "      <th>Fshd</th>\n",
              "      <th>IntShading_ID</th>\n",
              "      <th>IntShading_closeness</th>\n",
              "      <th>IAC_cl</th>\n",
              "      <th>IAC</th>\n",
              "      <th>Tx</th>\n",
              "      <th>Ed</th>\n",
              "      <th>ED</th>\n",
              "      <th>PXI</th>\n",
              "      <th>FFs</th>\n",
              "      <th>C_value</th>\n",
              "      <th>CF</th>\n",
              "      <th>Qcooling</th>\n",
              "      <th>UselessColumn</th>\n",
              "    </tr>\n",
              "    <tr>\n",
              "      <th>Name</th>\n",
              "      <th></th>\n",
              "      <th></th>\n",
              "      <th></th>\n",
              "      <th></th>\n",
              "      <th></th>\n",
              "      <th></th>\n",
              "      <th></th>\n",
              "      <th></th>\n",
              "      <th></th>\n",
              "      <th></th>\n",
              "      <th></th>\n",
              "      <th></th>\n",
              "      <th></th>\n",
              "      <th></th>\n",
              "      <th></th>\n",
              "      <th></th>\n",
              "      <th></th>\n",
              "      <th></th>\n",
              "      <th></th>\n",
              "      <th></th>\n",
              "      <th></th>\n",
              "      <th></th>\n",
              "      <th></th>\n",
              "      <th></th>\n",
              "      <th></th>\n",
              "      <th></th>\n",
              "      <th></th>\n",
              "      <th></th>\n",
              "    </tr>\n",
              "  </thead>\n",
              "  <tbody>\n",
              "    <tr>\n",
              "      <th>east</th>\n",
              "      <td>E</td>\n",
              "      <td>8</td>\n",
              "      <td>1.8</td>\n",
              "      <td>14.4</td>\n",
              "      <td>5c</td>\n",
              "      <td>Fixed</td>\n",
              "      <td>Wood</td>\n",
              "      <td>0</td>\n",
              "      <td>0</td>\n",
              "      <td>0</td>\n",
              "      <td>0</td>\n",
              "      <td>0</td>\n",
              "      <td>0.9</td>\n",
              "      <td>0.3</td>\n",
              "      <td>0</td>\n",
              "      <td>DrapesLightOpen</td>\n",
              "      <td>0.4</td>\n",
              "      <td>0.73</td>\n",
              "      <td>0.892</td>\n",
              "      <td>1.00</td>\n",
              "      <td>0</td>\n",
              "      <td>0</td>\n",
              "      <td>0</td>\n",
              "      <td>0</td>\n",
              "      <td>0</td>\n",
              "      <td>0</td>\n",
              "      <td>0</td>\n",
              "      <td>useless</td>\n",
              "    </tr>\n",
              "    <tr>\n",
              "      <th>west</th>\n",
              "      <td>W</td>\n",
              "      <td>8</td>\n",
              "      <td>1.8</td>\n",
              "      <td>14.4</td>\n",
              "      <td>5c</td>\n",
              "      <td>Fixed</td>\n",
              "      <td>Wood</td>\n",
              "      <td>0</td>\n",
              "      <td>0</td>\n",
              "      <td>0</td>\n",
              "      <td>0</td>\n",
              "      <td>0</td>\n",
              "      <td>0.9</td>\n",
              "      <td>0.3</td>\n",
              "      <td>0</td>\n",
              "      <td>DrapesLightOpen</td>\n",
              "      <td>0.4</td>\n",
              "      <td>0.73</td>\n",
              "      <td>0.892</td>\n",
              "      <td>1.00</td>\n",
              "      <td>0</td>\n",
              "      <td>0</td>\n",
              "      <td>0</td>\n",
              "      <td>0</td>\n",
              "      <td>0</td>\n",
              "      <td>0</td>\n",
              "      <td>0</td>\n",
              "      <td>useless</td>\n",
              "    </tr>\n",
              "    <tr>\n",
              "      <th>south-Fixed</th>\n",
              "      <td>S</td>\n",
              "      <td>2</td>\n",
              "      <td>1.8</td>\n",
              "      <td>3.6</td>\n",
              "      <td>5c</td>\n",
              "      <td>Fixed</td>\n",
              "      <td>Wood</td>\n",
              "      <td>0</td>\n",
              "      <td>0</td>\n",
              "      <td>0</td>\n",
              "      <td>0</td>\n",
              "      <td>0</td>\n",
              "      <td>0.9</td>\n",
              "      <td>0.3</td>\n",
              "      <td>0</td>\n",
              "      <td>DrapesLightOpen</td>\n",
              "      <td>0.4</td>\n",
              "      <td>0.73</td>\n",
              "      <td>0.892</td>\n",
              "      <td>1.00</td>\n",
              "      <td>0</td>\n",
              "      <td>0</td>\n",
              "      <td>0</td>\n",
              "      <td>0</td>\n",
              "      <td>0</td>\n",
              "      <td>0</td>\n",
              "      <td>0</td>\n",
              "      <td>useless</td>\n",
              "    </tr>\n",
              "    <tr>\n",
              "      <th>south-Operable</th>\n",
              "      <td>S</td>\n",
              "      <td>2</td>\n",
              "      <td>1.8</td>\n",
              "      <td>3.6</td>\n",
              "      <td>5c</td>\n",
              "      <td>Operable</td>\n",
              "      <td>Wood</td>\n",
              "      <td>0</td>\n",
              "      <td>0</td>\n",
              "      <td>0</td>\n",
              "      <td>0</td>\n",
              "      <td>0</td>\n",
              "      <td>0.9</td>\n",
              "      <td>0.3</td>\n",
              "      <td>0</td>\n",
              "      <td>DrapesLightOpen</td>\n",
              "      <td>0.4</td>\n",
              "      <td>0.73</td>\n",
              "      <td>0.892</td>\n",
              "      <td>0.64</td>\n",
              "      <td>0</td>\n",
              "      <td>0</td>\n",
              "      <td>0</td>\n",
              "      <td>0</td>\n",
              "      <td>0</td>\n",
              "      <td>0</td>\n",
              "      <td>0</td>\n",
              "      <td>useless</td>\n",
              "    </tr>\n",
              "  </tbody>\n",
              "</table>\n",
              "</div>"
            ],
            "text/plain": [
              "               Direction  width  Height  ...  CF Qcooling UselessColumn\n",
              "Name                                     ...                           \n",
              "east                   E      8     1.8  ...   0        0       useless\n",
              "west                   W      8     1.8  ...   0        0       useless\n",
              "south-Fixed            S      2     1.8  ...   0        0       useless\n",
              "south-Operable         S      2     1.8  ...   0        0       useless\n",
              "\n",
              "[4 rows x 28 columns]"
            ]
          },
          "metadata": {
            "tags": []
          },
          "execution_count": 36
        }
      ]
    },
    {
      "cell_type": "markdown",
      "metadata": {
        "id": "k-tIPsLlJsYB"
      },
      "source": [
        "How to see only some of the columns?\n",
        "(If the table is too big, it could help me visualize onyl the values i'm interested in)"
      ]
    },
    {
      "cell_type": "code",
      "metadata": {
        "id": "fwpm-180Jf07",
        "outputId": "646692be-8e19-4500-edff-e551b7941935",
        "colab": {
          "base_uri": "https://localhost:8080/",
          "height": 195
        }
      },
      "source": [
        "window_DF.loc[:,[\"IntShading_closeness\",\"IAC_cl\",\"IAC\"]]"
      ],
      "execution_count": 37,
      "outputs": [
        {
          "output_type": "execute_result",
          "data": {
            "text/html": [
              "<div>\n",
              "<style scoped>\n",
              "    .dataframe tbody tr th:only-of-type {\n",
              "        vertical-align: middle;\n",
              "    }\n",
              "\n",
              "    .dataframe tbody tr th {\n",
              "        vertical-align: top;\n",
              "    }\n",
              "\n",
              "    .dataframe thead th {\n",
              "        text-align: right;\n",
              "    }\n",
              "</style>\n",
              "<table border=\"1\" class=\"dataframe\">\n",
              "  <thead>\n",
              "    <tr style=\"text-align: right;\">\n",
              "      <th></th>\n",
              "      <th>IntShading_closeness</th>\n",
              "      <th>IAC_cl</th>\n",
              "      <th>IAC</th>\n",
              "    </tr>\n",
              "    <tr>\n",
              "      <th>Name</th>\n",
              "      <th></th>\n",
              "      <th></th>\n",
              "      <th></th>\n",
              "    </tr>\n",
              "  </thead>\n",
              "  <tbody>\n",
              "    <tr>\n",
              "      <th>east</th>\n",
              "      <td>0.4</td>\n",
              "      <td>0.73</td>\n",
              "      <td>0.892</td>\n",
              "    </tr>\n",
              "    <tr>\n",
              "      <th>west</th>\n",
              "      <td>0.4</td>\n",
              "      <td>0.73</td>\n",
              "      <td>0.892</td>\n",
              "    </tr>\n",
              "    <tr>\n",
              "      <th>south-Fixed</th>\n",
              "      <td>0.4</td>\n",
              "      <td>0.73</td>\n",
              "      <td>0.892</td>\n",
              "    </tr>\n",
              "    <tr>\n",
              "      <th>south-Operable</th>\n",
              "      <td>0.4</td>\n",
              "      <td>0.73</td>\n",
              "      <td>0.892</td>\n",
              "    </tr>\n",
              "  </tbody>\n",
              "</table>\n",
              "</div>"
            ],
            "text/plain": [
              "                IntShading_closeness  IAC_cl    IAC\n",
              "Name                                               \n",
              "east                             0.4    0.73  0.892\n",
              "west                             0.4    0.73  0.892\n",
              "south-Fixed                      0.4    0.73  0.892\n",
              "south-Operable                   0.4    0.73  0.892"
            ]
          },
          "metadata": {
            "tags": []
          },
          "execution_count": 37
        }
      ]
    },
    {
      "cell_type": "markdown",
      "metadata": {
        "id": "3stAeYmUKBnu"
      },
      "source": [
        "Assignment 7\n",
        "Use the same procedure that we employed in the lesson and write function that reads the diffuse radiation, the direct raditaion, the SLF, and F_shd and write the PXI and write them on the corresponding column on the window_DF"
      ]
    },
    {
      "cell_type": "code",
      "metadata": {
        "id": "BIYaBxMZJ9Ek"
      },
      "source": [
        ""
      ],
      "execution_count": 37,
      "outputs": []
    },
    {
      "cell_type": "markdown",
      "metadata": {
        "id": "nS45bh4MYWBK"
      },
      "source": [
        ""
      ]
    },
    {
      "cell_type": "markdown",
      "metadata": {
        "id": "VF-vsK0KYZ0w"
      },
      "source": [
        "# Assignment 7"
      ]
    },
    {
      "cell_type": "markdown",
      "metadata": {
        "id": "H2bdcF7jYg2Y"
      },
      "source": [
        "## Let's visualiza all the files we uploaded"
      ]
    },
    {
      "cell_type": "code",
      "metadata": {
        "id": "bTdUBVL4jscG"
      },
      "source": [
        "# Introduce the Latitude\n",
        "Latitude = str(45)"
      ],
      "execution_count": 68,
      "outputs": []
    },
    {
      "cell_type": "code",
      "metadata": {
        "id": "3ESNeqm4YbxC"
      },
      "source": [
        "BeamIrradiance_DF = pd.read_csv(\"BeamIrradiance.csv\", sep=\";\", index_col = 0, header=0) "
      ],
      "execution_count": 69,
      "outputs": []
    },
    {
      "cell_type": "code",
      "metadata": {
        "id": "mZ9OylsLb3ex"
      },
      "source": [
        "DiffuseIrradiance_DF = pd.read_csv(\"DiffuseIrradiance.csv\", sep=\";\", index_col = 0, header=0) "
      ],
      "execution_count": 70,
      "outputs": []
    },
    {
      "cell_type": "code",
      "metadata": {
        "id": "_fkfTrcbb_sK"
      },
      "source": [
        "FFs_DF = pd.read_csv(\"FFs.csv\", sep=\";\", index_col = 0, header=0) "
      ],
      "execution_count": 71,
      "outputs": []
    },
    {
      "cell_type": "code",
      "metadata": {
        "id": "vjOOPNmdcHEZ"
      },
      "source": [
        "SLF_DF = pd.read_csv(\"SLF.csv\", sep=\";\", index_col = 0, header=0) "
      ],
      "execution_count": 72,
      "outputs": []
    },
    {
      "cell_type": "markdown",
      "metadata": {
        "id": "6_jUTCnQeqJR"
      },
      "source": [
        "## Functions Definitions\n",
        "\n",
        "Let's define the functions that reads the table and provides the data from the uploaded tables for Direct Radiation (Beam Irradiance), Diffuse Radiation (Diffuse Irradiance) and the Shade Line Factors (SLF). Also let's define functions for calculating the Shading Fraction (F_shd) y Shaded Fenestration (PXI)."
      ]
    },
    {
      "cell_type": "code",
      "metadata": {
        "id": "M18G_EcHgbxy"
      },
      "source": [
        "def DirectRadiation_finder(row):\n",
        "  Direction = row[\"Direction\"]\n",
        "  DirectRadiation_DF = pd.read_csv(\"BeamIrradiance.csv\",sep=\";\",index_col=0,header=0)\n",
        "  value_DirectRadiation = DirectRadiation_DF.loc[Direction,Latitude]\n",
        "  return value_DirectRadiation"
      ],
      "execution_count": 73,
      "outputs": []
    },
    {
      "cell_type": "code",
      "metadata": {
        "id": "qoDmPQ0RlRkA"
      },
      "source": [
        "def DiffuseRadiation_finder(row):\n",
        "  Direction = row[\"Direction\"]\n",
        "  DiffuseRadiation_DF = pd.read_csv(\"DiffuseIrradiance.csv\",sep=\";\",index_col=0,header=0)\n",
        "  value_DiffuseRadiation = DiffuseRadiation_DF.loc[Direction,Latitude]\n",
        "  return value_DiffuseRadiation"
      ],
      "execution_count": 74,
      "outputs": []
    },
    {
      "cell_type": "code",
      "metadata": {
        "id": "3stJxk5pqFbL"
      },
      "source": [
        "def ShadeLineFactor_finder(row):\n",
        "  Direction = row[\"Direction\"]\n",
        "  ShadeLineFactor_DF = pd.read_csv(\"SLF.csv\",sep=\";\",index_col=0,header=0)\n",
        "  value_ShadeLineFactor = ShadeLineFactor_DF.loc[Direction,Latitude]\n",
        "  return value_ShadeLineFactor"
      ],
      "execution_count": 75,
      "outputs": []
    },
    {
      "cell_type": "code",
      "metadata": {
        "id": "7Ne7PpyJrGs3"
      },
      "source": [
        "def ShadingFraction(row):\n",
        "  SLF = row[\"SLF\"]\n",
        "  OverhangDepth = row[\"Doh\"]\n",
        "  VertDist = row[\"Xoh\"]\n",
        "  FenestHeight = row[\"Height\"]\n",
        "  F_shd = min(1,max(0,(SLF*OverhangDepth-VertDist)/FenestHeight))\n",
        "  return F_shd"
      ],
      "execution_count": 96,
      "outputs": []
    },
    {
      "cell_type": "code",
      "metadata": {
        "id": "RkhK3mjkTck8"
      },
      "source": [
        "def PeakIrradiance(row):\n",
        "  Tx = row[\"Tx\"]\n",
        "  Ed = row[\"Ed\"]\n",
        "  ED = row[\"ED\"]\n",
        "  F_shd = row[\"Fshd\"]\n",
        "  ET = Ed + ED\n",
        "  PXI = Tx * (Ed + (1 - F_shd)*ED)\n",
        "  return PXI"
      ],
      "execution_count": 91,
      "outputs": []
    },
    {
      "cell_type": "markdown",
      "metadata": {
        "id": "BXJd-GM5poib"
      },
      "source": [
        "## Update the Table\n",
        "\n",
        "Let's update the Data Frame Table with values of the Direct Raditaion, Diffuse radiation, Shading Fraction, the Shade Line Factor and Shaded Fenestration."
      ]
    },
    {
      "cell_type": "code",
      "metadata": {
        "id": "VVHkXUxJIqS3"
      },
      "source": [
        "window_DF.loc[:,\"ED\"] = window_DF.apply(DirectRadiation_finder,axis=1)"
      ],
      "execution_count": 82,
      "outputs": []
    },
    {
      "cell_type": "code",
      "metadata": {
        "id": "Bwqh4ijqlcsX"
      },
      "source": [
        "window_DF.loc[:,\"Ed\"] = window_DF.apply(DiffuseRadiation_finder,axis=1)"
      ],
      "execution_count": 83,
      "outputs": []
    },
    {
      "cell_type": "code",
      "metadata": {
        "id": "J01vtgYnnPSw"
      },
      "source": [
        "window_DF.loc[:,\"SLF\"] = window_DF.apply(ShadeLineFactor_finder,axis=1)"
      ],
      "execution_count": 84,
      "outputs": []
    },
    {
      "cell_type": "code",
      "metadata": {
        "id": "FvTjg5ymJgbT"
      },
      "source": [
        "window_DF.loc[:,\"Fshd\"] = window_DF.apply(ShadingFraction,axis=1)"
      ],
      "execution_count": 95,
      "outputs": []
    },
    {
      "cell_type": "code",
      "metadata": {
        "id": "d45G5G37JsLe"
      },
      "source": [
        "window_DF.loc[:,\"PXI\"] = window_DF.apply(PeakIrradiance,axis=1)"
      ],
      "execution_count": 93,
      "outputs": []
    },
    {
      "cell_type": "code",
      "metadata": {
        "id": "QQRL0d9SJ6X-",
        "outputId": "01d3021c-bbb6-4d47-a18e-b6dd05db2769",
        "colab": {
          "base_uri": "https://localhost:8080/",
          "height": 266
        }
      },
      "source": [
        "window_DF"
      ],
      "execution_count": 94,
      "outputs": [
        {
          "output_type": "execute_result",
          "data": {
            "text/html": [
              "<div>\n",
              "<style scoped>\n",
              "    .dataframe tbody tr th:only-of-type {\n",
              "        vertical-align: middle;\n",
              "    }\n",
              "\n",
              "    .dataframe tbody tr th {\n",
              "        vertical-align: top;\n",
              "    }\n",
              "\n",
              "    .dataframe thead th {\n",
              "        text-align: right;\n",
              "    }\n",
              "</style>\n",
              "<table border=\"1\" class=\"dataframe\">\n",
              "  <thead>\n",
              "    <tr style=\"text-align: right;\">\n",
              "      <th></th>\n",
              "      <th>Direction</th>\n",
              "      <th>width</th>\n",
              "      <th>Height</th>\n",
              "      <th>Area</th>\n",
              "      <th>Window_ID</th>\n",
              "      <th>Frame_type</th>\n",
              "      <th>Frame_material</th>\n",
              "      <th>U</th>\n",
              "      <th>SHGC</th>\n",
              "      <th>HF</th>\n",
              "      <th>Q heating</th>\n",
              "      <th>SLF</th>\n",
              "      <th>Doh</th>\n",
              "      <th>Xoh</th>\n",
              "      <th>Fshd</th>\n",
              "      <th>IntShading_ID</th>\n",
              "      <th>IntShading_closeness</th>\n",
              "      <th>IAC_cl</th>\n",
              "      <th>IAC</th>\n",
              "      <th>Tx</th>\n",
              "      <th>Ed</th>\n",
              "      <th>ED</th>\n",
              "      <th>PXI</th>\n",
              "      <th>FFs</th>\n",
              "      <th>C_value</th>\n",
              "      <th>CF</th>\n",
              "      <th>Qcooling</th>\n",
              "      <th>UselessColumn</th>\n",
              "    </tr>\n",
              "    <tr>\n",
              "      <th>Name</th>\n",
              "      <th></th>\n",
              "      <th></th>\n",
              "      <th></th>\n",
              "      <th></th>\n",
              "      <th></th>\n",
              "      <th></th>\n",
              "      <th></th>\n",
              "      <th></th>\n",
              "      <th></th>\n",
              "      <th></th>\n",
              "      <th></th>\n",
              "      <th></th>\n",
              "      <th></th>\n",
              "      <th></th>\n",
              "      <th></th>\n",
              "      <th></th>\n",
              "      <th></th>\n",
              "      <th></th>\n",
              "      <th></th>\n",
              "      <th></th>\n",
              "      <th></th>\n",
              "      <th></th>\n",
              "      <th></th>\n",
              "      <th></th>\n",
              "      <th></th>\n",
              "      <th></th>\n",
              "      <th></th>\n",
              "      <th></th>\n",
              "    </tr>\n",
              "  </thead>\n",
              "  <tbody>\n",
              "    <tr>\n",
              "      <th>east</th>\n",
              "      <td>E</td>\n",
              "      <td>8</td>\n",
              "      <td>1.8</td>\n",
              "      <td>14.4</td>\n",
              "      <td>5c</td>\n",
              "      <td>Fixed</td>\n",
              "      <td>Wood</td>\n",
              "      <td>0</td>\n",
              "      <td>0</td>\n",
              "      <td>0</td>\n",
              "      <td>0</td>\n",
              "      <td>1.0</td>\n",
              "      <td>0.9</td>\n",
              "      <td>0.3</td>\n",
              "      <td>0.333333</td>\n",
              "      <td>DrapesLightOpen</td>\n",
              "      <td>0.4</td>\n",
              "      <td>0.73</td>\n",
              "      <td>0.892</td>\n",
              "      <td>1.00</td>\n",
              "      <td>188</td>\n",
              "      <td>559</td>\n",
              "      <td>560.666667</td>\n",
              "      <td>0</td>\n",
              "      <td>0</td>\n",
              "      <td>0</td>\n",
              "      <td>0</td>\n",
              "      <td>useless</td>\n",
              "    </tr>\n",
              "    <tr>\n",
              "      <th>west</th>\n",
              "      <td>W</td>\n",
              "      <td>8</td>\n",
              "      <td>1.8</td>\n",
              "      <td>14.4</td>\n",
              "      <td>5c</td>\n",
              "      <td>Fixed</td>\n",
              "      <td>Wood</td>\n",
              "      <td>0</td>\n",
              "      <td>0</td>\n",
              "      <td>0</td>\n",
              "      <td>0</td>\n",
              "      <td>1.0</td>\n",
              "      <td>0.9</td>\n",
              "      <td>0.3</td>\n",
              "      <td>0.333333</td>\n",
              "      <td>DrapesLightOpen</td>\n",
              "      <td>0.4</td>\n",
              "      <td>0.73</td>\n",
              "      <td>0.892</td>\n",
              "      <td>1.00</td>\n",
              "      <td>188</td>\n",
              "      <td>559</td>\n",
              "      <td>560.666667</td>\n",
              "      <td>0</td>\n",
              "      <td>0</td>\n",
              "      <td>0</td>\n",
              "      <td>0</td>\n",
              "      <td>useless</td>\n",
              "    </tr>\n",
              "    <tr>\n",
              "      <th>south-Fixed</th>\n",
              "      <td>S</td>\n",
              "      <td>2</td>\n",
              "      <td>1.8</td>\n",
              "      <td>3.6</td>\n",
              "      <td>5c</td>\n",
              "      <td>Fixed</td>\n",
              "      <td>Wood</td>\n",
              "      <td>0</td>\n",
              "      <td>0</td>\n",
              "      <td>0</td>\n",
              "      <td>0</td>\n",
              "      <td>2.7</td>\n",
              "      <td>0.9</td>\n",
              "      <td>0.3</td>\n",
              "      <td>1.000000</td>\n",
              "      <td>DrapesLightOpen</td>\n",
              "      <td>0.4</td>\n",
              "      <td>0.73</td>\n",
              "      <td>0.892</td>\n",
              "      <td>1.00</td>\n",
              "      <td>209</td>\n",
              "      <td>348</td>\n",
              "      <td>209.000000</td>\n",
              "      <td>0</td>\n",
              "      <td>0</td>\n",
              "      <td>0</td>\n",
              "      <td>0</td>\n",
              "      <td>useless</td>\n",
              "    </tr>\n",
              "    <tr>\n",
              "      <th>south-Operable</th>\n",
              "      <td>S</td>\n",
              "      <td>2</td>\n",
              "      <td>1.8</td>\n",
              "      <td>3.6</td>\n",
              "      <td>5c</td>\n",
              "      <td>Operable</td>\n",
              "      <td>Wood</td>\n",
              "      <td>0</td>\n",
              "      <td>0</td>\n",
              "      <td>0</td>\n",
              "      <td>0</td>\n",
              "      <td>2.7</td>\n",
              "      <td>0.9</td>\n",
              "      <td>0.3</td>\n",
              "      <td>1.000000</td>\n",
              "      <td>DrapesLightOpen</td>\n",
              "      <td>0.4</td>\n",
              "      <td>0.73</td>\n",
              "      <td>0.892</td>\n",
              "      <td>0.64</td>\n",
              "      <td>209</td>\n",
              "      <td>348</td>\n",
              "      <td>133.760000</td>\n",
              "      <td>0</td>\n",
              "      <td>0</td>\n",
              "      <td>0</td>\n",
              "      <td>0</td>\n",
              "      <td>useless</td>\n",
              "    </tr>\n",
              "  </tbody>\n",
              "</table>\n",
              "</div>"
            ],
            "text/plain": [
              "               Direction  width  Height  ...  CF Qcooling UselessColumn\n",
              "Name                                     ...                           \n",
              "east                   E      8     1.8  ...   0        0       useless\n",
              "west                   W      8     1.8  ...   0        0       useless\n",
              "south-Fixed            S      2     1.8  ...   0        0       useless\n",
              "south-Operable         S      2     1.8  ...   0        0       useless\n",
              "\n",
              "[4 rows x 28 columns]"
            ]
          },
          "metadata": {
            "tags": []
          },
          "execution_count": 94
        }
      ]
    },
    {
      "cell_type": "code",
      "metadata": {
        "id": "VUPOUMm1KCrj"
      },
      "source": [
        ""
      ],
      "execution_count": null,
      "outputs": []
    }
  ]
}