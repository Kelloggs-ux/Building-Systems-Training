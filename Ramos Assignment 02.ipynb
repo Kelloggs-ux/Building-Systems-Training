{
  "nbformat": 4,
  "nbformat_minor": 0,
  "metadata": {
    "colab": {
      "name": "Ramos_Assigment 2.ipynb",
      "provenance": []
    },
    "kernelspec": {
      "name": "python3",
      "display_name": "Python 3"
    }
  },
  "cells": [
    {
      "cell_type": "markdown",
      "metadata": {
        "id": "IM4smNnnSJkS"
      },
      "source": [
        "# Data"
      ]
    },
    {
      "cell_type": "code",
      "metadata": {
        "id": "H_8epTfjP2rN"
      },
      "source": [
        "Area = round(0.8*1.5,4)\n",
        "R_int = [\"Internal Resistance\",\"convective\",10,Area]\n",
        "R_glass = [\"Glass Resistance\",\"conductive\",0.004,0.78,Area]\n",
        "R_air = [\"Air REsistance\",\"conductive\",0.01,0.026 ,Area]\n",
        "R_out = [\"External Resistance\",\"convective\",40,Area]\n",
        "\n",
        "T_out = -10\n",
        "T_in = 20\n",
        "\n",
        "ResistanceDoublePaneWindow = [R_int,R_glass,R_air,R_glass,R_out]"
      ],
      "execution_count": 28,
      "outputs": []
    },
    {
      "cell_type": "markdown",
      "metadata": {
        "id": "eh_LTP62SI3q"
      },
      "source": [
        "## Solving with For Loop\n",
        "\n",
        "### Steady Heat Transfer Rate Q"
      ]
    },
    {
      "cell_type": "code",
      "metadata": {
        "id": "AiHmfjDOQ3ql",
        "outputId": "3310c858-bf6a-418f-87fb-f56ce39c333d",
        "colab": {
          "base_uri": "https://localhost:8080/",
          "height": 34
        }
      },
      "source": [
        "R_tot = 0\n",
        "for i in ResistanceDoublePaneWindow:\n",
        "  if i[1] == \"conductive\":\n",
        "    RValue_i = float(i[2])/(i[3]*i[4])\n",
        "  elif i[1] == \"convective\":\n",
        "    RValue_i = 1/(i[2]*i[3])\n",
        "  i.append(round(RValue_i,4))\n",
        "  R_tot = R_tot + RValue_i\n",
        "\n",
        "deltaT = T_in - T_out\n",
        "Q = deltaT/R_tot\n",
        "\n",
        "print(\"The Total Resistance of the Double Pane Window is \"+str(round(R_tot,4))+\" °C/W. With a temperature gradient of \"+str(deltaT)+\" °C, we have a Steady Heat Transfer Rate of \"+str(round(Q,2))+\" Watts \")\n",
        "  "
      ],
      "execution_count": 33,
      "outputs": [
        {
          "output_type": "stream",
          "text": [
            "The Total Resistance of the Double Pane Window is 0.4332 °C/W. With a temperature gradient of 30 °C, we have a Steady Heat Transfer Rate of 69.25 Watts \n"
          ],
          "name": "stdout"
        }
      ]
    },
    {
      "cell_type": "markdown",
      "metadata": {
        "id": "1Roe63MTWDx9"
      },
      "source": [
        "### Temperature of the inner surface T1"
      ]
    },
    {
      "cell_type": "code",
      "metadata": {
        "id": "iQNI83R1Q6Y3",
        "outputId": "b6a0a155-3735-4f95-f485-34639197aa2a",
        "colab": {
          "base_uri": "https://localhost:8080/",
          "height": 34
        }
      },
      "source": [
        "T1 = T_in - Q*R_int[4]\n",
        "print(\"The Temperature of the inner surface is \"+str(round(T1,2))+\" °C\")"
      ],
      "execution_count": 35,
      "outputs": [
        {
          "output_type": "stream",
          "text": [
            "The Temperature of the inner surface is 14.23 °C\n"
          ],
          "name": "stdout"
        }
      ]
    },
    {
      "cell_type": "code",
      "metadata": {
        "id": "M1aXpYSUWzUf"
      },
      "source": [
        ""
      ],
      "execution_count": null,
      "outputs": []
    }
  ]
}