{
  "nbformat": 4,
  "nbformat_minor": 0,
  "metadata": {
    "colab": {
      "name": "Ramos_Assignment 9.ipynb",
      "provenance": [],
      "collapsed_sections": [
        "CD9itbnW8611",
        "alT8Ceo-8sys",
        "Uht4ndPF_Cje"
      ]
    },
    "kernelspec": {
      "name": "python3",
      "display_name": "Python 3"
    }
  },
  "cells": [
    {
      "cell_type": "markdown",
      "metadata": {
        "id": "DRyjTvkX3S3-"
      },
      "source": [
        "# Assignment 9"
      ]
    },
    {
      "cell_type": "markdown",
      "metadata": {
        "id": "X8mFQa203Vso"
      },
      "source": [
        "## Preparations"
      ]
    },
    {
      "cell_type": "markdown",
      "metadata": {
        "id": "CD9itbnW8611"
      },
      "source": [
        "### Installing PyDrive"
      ]
    },
    {
      "cell_type": "code",
      "metadata": {
        "id": "46L1Jdh08uQV"
      },
      "source": [
        "!pip install -U -q PyDrive\n",
        "\n"
      ],
      "execution_count": 12,
      "outputs": []
    },
    {
      "cell_type": "code",
      "metadata": {
        "id": "PfcKwm1284Ug"
      },
      "source": [
        "from pydrive.auth import GoogleAuth\n",
        "from pydrive.drive import GoogleDrive\n",
        "from google.colab import auth\n",
        "from oauth2client.client import GoogleCredentials\n",
        "auth.authenticate_user()\n",
        "gauth = GoogleAuth()\n",
        "gauth.credentials = GoogleCredentials.get_application_default()\n",
        "drive = GoogleDrive(gauth)\n",
        "\n",
        "\n",
        "def authorizeIfLoggedOut():\n",
        "  try:\n",
        "    file_list_GDrive = drive.ListFile({'q': \"'root' in parents and trashed=false\"}).GetList()\n",
        "\n",
        "  except:    \n",
        "    auth.authenticate_user()\n",
        "    gauth = GoogleAuth()\n",
        "    gauth.credentials = GoogleCredentials.get_application_default()\n",
        "    drive = GoogleDrive(gauth)\n"
      ],
      "execution_count": 13,
      "outputs": []
    },
    {
      "cell_type": "markdown",
      "metadata": {
        "id": "alT8Ceo-8sys"
      },
      "source": [
        "### Importing modules"
      ]
    },
    {
      "cell_type": "code",
      "metadata": {
        "id": "8X1fZOtP8syu"
      },
      "source": [
        "import pandas as pd\n",
        "import numpy as np\n",
        "import matplotlib.pyplot as plt\n",
        "import os"
      ],
      "execution_count": 14,
      "outputs": []
    },
    {
      "cell_type": "code",
      "metadata": {
        "colab": {
          "base_uri": "https://localhost:8080/"
        },
        "id": "3lYMgFyk9d4C",
        "outputId": "adbf4ae8-d5eb-4e20-964e-c7d01f1912ad"
      },
      "source": [
        "authorizeIfLoggedOut()\n",
        "\n",
        "file_list_GDrive = drive.ListFile({'q': \"'root' in parents and trashed=false\"}).GetList()\n",
        "\n",
        "for file1 in file_list_GDrive:  \n",
        "    if \"EETBS\" in file1['title']:\n",
        "        Folder_ID_Data_Driven_Building_Simulation= file1['id']\n",
        "\n",
        "print(Folder_ID_Data_Driven_Building_Simulation)\n",
        "\n",
        "file_list_Data_Driven_Building_Simulation = drive.ListFile({'q': \"'%s' in parents and trashed=false\" % Folder_ID_Data_Driven_Building_Simulation}).GetList()\n",
        "\n",
        "for file2 in file_list_Data_Driven_Building_Simulation:  \n",
        "    if \"Data\" in file2['title']:\n",
        "        Folder_ID_Data= file2['id']\n",
        "        \n",
        "for file4 in file_list_Data_Driven_Building_Simulation:\n",
        "  \n",
        "    if \"Figures\" in file4['title']:\n",
        "        Folder_ID_Figures= file4['id']        \n",
        "        \n",
        "        \n",
        "file_list_Data = drive.ListFile({'q': \"'%s' in parents and trashed=false\" % Folder_ID_Data}).GetList()\n",
        "\n",
        "for file3 in file_list_Data:  \n",
        "    if \"irradiance_2014_gen.csv\" in file3['title']:\n",
        "        print (\"irradiance_2014_gen.csv exists\")\n",
        "        ID_irradiance_2014_gen= file3['id']\n",
        "        file_irradiance_2014_gen = drive.CreateFile({'id': ID_irradiance_2014_gen})\n",
        "        file_irradiance_2014_gen.GetContentFile('irradiance_2014_gen.csv') \n",
        "    if \"consumption_5545.csv\" in file3['title']:\n",
        "        print (\"consumption_5545.csv exists\")\n",
        "        ID_consumption_5545= file3['id']\n",
        "        file_consumption_5545 = drive.CreateFile({'id': ID_consumption_5545})\n",
        "        file_consumption_5545.GetContentFile('consumption_5545.csv') \n",
        "    if \"Austin_weather_2014.csv\" in file3['title']:\n",
        "        print (\"Austin_weather_2014.csv exists\")\n",
        "        ID_Austin_weather_2014= file3['id']\n",
        "        file_Austin_weather_2014 = drive.CreateFile({'id': ID_Austin_weather_2014})\n",
        "        file_Austin_weather_2014.GetContentFile('Austin_weather_2014.csv')\n",
        "\n",
        "  "
      ],
      "execution_count": 17,
      "outputs": [
        {
          "output_type": "stream",
          "text": [
            "1caB1_U3vNNcNT6p9OE8ue7GbyOAxs2Oj\n",
            "irradiance_2014_gen.csv exists\n",
            "consumption_5545.csv exists\n",
            "Austin_weather_2014.csv exists\n"
          ],
          "name": "stdout"
        }
      ]
    },
    {
      "cell_type": "code",
      "metadata": {
        "id": "8Vo4QcmR4YBL"
      },
      "source": [
        "ConsumptionFileName= \"consumption_5545.csv\"\n",
        "TemperatureFileName= \"Austin_weather_2014.csv\"\n",
        "IrradianceFileName= \"irradiance_2014_gen.csv\""
      ],
      "execution_count": 18,
      "outputs": []
    },
    {
      "cell_type": "markdown",
      "metadata": {
        "id": "SLtm47OC4s3t"
      },
      "source": [
        "## Assignment"
      ]
    },
    {
      "cell_type": "code",
      "metadata": {
        "id": "UMbhumYe4qpW"
      },
      "source": [
        "DF_consumption=pd.read_csv(ConsumptionFileName,index_col=0)\n",
        "DF_weather = pd.read_csv(TemperatureFileName, sep=\";\",index_col=0)\n",
        "DF_irradianceSource = pd.read_csv(IrradianceFileName,sep=\";\",index_col=1)"
      ],
      "execution_count": 80,
      "outputs": []
    },
    {
      "cell_type": "code",
      "metadata": {
        "id": "6cWLkg3r49U7"
      },
      "source": [
        "previousIndex_consumption = DF_consumption.index\n",
        "newParsedIndex_consumption = pd.to_datetime(previousIndex_consumption,utc=True)\n",
        "DF_consumption.index = newParsedIndex_consumption\n",
        "\n",
        "previousIndex_weather = DF_weather.index\n",
        "newParsedIndex_weather = pd.to_datetime(previousIndex_weather,utc=True) #No UTC, it already has it\n",
        "DF_weather.index = newParsedIndex_weather\n",
        "\n",
        "previousIndex_irradianceSource = DF_irradianceSource.index\n",
        "newParsedIndex_irradianceSource = pd.to_datetime(previousIndex_irradianceSource,utc=True)\n",
        "DF_irradianceSource.index = newParsedIndex_irradianceSource"
      ],
      "execution_count": 81,
      "outputs": []
    },
    {
      "cell_type": "code",
      "metadata": {
        "id": "Hdt63LNL8X26"
      },
      "source": [
        "DF_consumption = DF_consumption.rename(columns={\"air conditioner_5545\":\"AC Consumtion [W]\"})"
      ],
      "execution_count": 82,
      "outputs": []
    },
    {
      "cell_type": "code",
      "metadata": {
        "id": "6YPPM1YB8nrN"
      },
      "source": [
        "DF_temperature = DF_weather[[\"temperature\"]]\n",
        "DF_temperature = DF_temperature.rename(columns={\"temperature\":\"Temperature [°F]\"})"
      ],
      "execution_count": 83,
      "outputs": []
    },
    {
      "cell_type": "code",
      "metadata": {
        "id": "oHZWkjHs9LQm"
      },
      "source": [
        "DF_irradiance = DF_irradianceSource[[\"gen\"]]\n",
        "DF_irradiance = DF_irradiance.rename(columns={\"gen\":\"Generation [??]\"})\n",
        "DF_irradiance.loc[DF_irradiance[\"Generation\"]<0,\"Generation\"] = 0"
      ],
      "execution_count": 84,
      "outputs": []
    },
    {
      "cell_type": "markdown",
      "metadata": {
        "id": "-X2B5_3l9uO-"
      },
      "source": [
        "### Point A: Plot"
      ]
    },
    {
      "cell_type": "markdown",
      "metadata": {
        "id": "Uht4ndPF_Cje"
      },
      "source": [
        "#### Data"
      ]
    },
    {
      "cell_type": "code",
      "metadata": {
        "id": "15G46uKD_I6t"
      },
      "source": [
        "PlotA_consumption = DF_consumption.loc[\"2014-07-10 08:00:00\":\"2014-07-10 21:00:00\"]\n",
        "PlotA_temperature = DF_temperature.loc[\"2014-07-10 08:00:00\":\"2014-07-10 21:00:00\"]\n",
        "PlotA_irradiance = DF_irradiance.loc[\"2014-07-10 08:00:00\":\"2014-07-10 21:00:00\"]"
      ],
      "execution_count": 95,
      "outputs": []
    },
    {
      "cell_type": "markdown",
      "metadata": {
        "id": "aDSLb4PW_E2o"
      },
      "source": [
        "#### Plots"
      ]
    },
    {
      "cell_type": "code",
      "metadata": {
        "colab": {
          "base_uri": "https://localhost:8080/",
          "height": 313
        },
        "id": "qdesYn236ui-",
        "outputId": "8170861e-71f8-4614-cb89-340118683b20"
      },
      "source": [
        "plt.figure()\n",
        "PlotA_consumption.plot(color=\"blue\")\n",
        "plt.xlabel(\"Time (hours)\")\n",
        "plt.ylabel(\"Consumtption (W)\")"
      ],
      "execution_count": 122,
      "outputs": [
        {
          "output_type": "execute_result",
          "data": {
            "text/plain": [
              "Text(0, 0.5, 'Consumtption (W)')"
            ]
          },
          "metadata": {
            "tags": []
          },
          "execution_count": 122
        },
        {
          "output_type": "display_data",
          "data": {
            "text/plain": [
              "<Figure size 432x288 with 0 Axes>"
            ]
          },
          "metadata": {
            "tags": []
          }
        },
        {
          "output_type": "display_data",
          "data": {
            "image/png": "[encoded data removed]",
            "text/plain": [
              "<Figure size 432x288 with 1 Axes>"
            ]
          },
          "metadata": {
            "tags": [],
            "needs_background": "light"
          }
        }
      ]
    },
    {
      "cell_type": "code",
      "metadata": {
        "colab": {
          "base_uri": "https://localhost:8080/",
          "height": 296
        },
        "id": "m37lCt6iI-Li",
        "outputId": "75aa98ae-09cf-4edc-dc6d-93a39b209de1"
      },
      "source": [
        "figure, axes = plt.subplots(2,1)\n",
        "PlotA_temperature.plot(ax=axes[0],color=\"red\")\n",
        "PlotA_irradiance.plot(ax=axes[1],color=\"green\")"
      ],
      "execution_count": 121,
      "outputs": [
        {
          "output_type": "execute_result",
          "data": {
            "text/plain": [
              "<matplotlib.axes._subplots.AxesSubplot at 0x7f7088a81e10>"
            ]
          },
          "metadata": {
            "tags": []
          },
          "execution_count": 121
        },
        {
          "output_type": "display_data",
          "data": {
            "image/png": "[encoded data removed]",
            "text/plain": [
              "<Figure size 432x288 with 2 Axes>"
            ]
          },
          "metadata": {
            "tags": [],
            "needs_background": "light"
          }
        }
      ]
    },
    {
      "cell_type": "markdown",
      "metadata": {
        "id": "seYxWDdzMEjb"
      },
      "source": [
        "### Point B: New Consumption Data Frame"
      ]
    },
    {
      "cell_type": "code",
      "metadata": {
        "colab": {
          "base_uri": "https://localhost:8080/",
          "height": 402
        },
        "id": "l24F8FRIMMgw",
        "outputId": "ce10247e-033e-4a8f-cef0-6d9758c04671"
      },
      "source": [
        "DF_consumption[\"Hours\"] = DF_consumption.index.hour\n",
        "DF_consumption[\"Day of the Week\"] = DF_consumption.index.isocalendar().day # Monday is 1\n",
        "DF_consumption[\"Month\"] = DF_consumption.index.month\n",
        "DF_consumption[\"Week of the Year\"] = DF_consumption.index.isocalendar().week # I don't understand why but this function considers the last three days of the years as part of the first week of the following year\n",
        "DF_consumption[\"Weekend Flag\"] = np.where(DF_consumption.index.dayofweek<5,0,1)\n",
        "\n",
        "DF_consumption"
      ],
      "execution_count": 179,
      "outputs": [
        {
          "output_type": "execute_result",
          "data": {
            "text/html": [
              "<div>\n",
              "<style scoped>\n",
              "    .dataframe tbody tr th:only-of-type {\n",
              "        vertical-align: middle;\n",
              "    }\n",
              "\n",
              "    .dataframe tbody tr th {\n",
              "        vertical-align: top;\n",
              "    }\n",
              "\n",
              "    .dataframe thead th {\n",
              "        text-align: right;\n",
              "    }\n",
              "</style>\n",
              "<table border=\"1\" class=\"dataframe\">\n",
              "  <thead>\n",
              "    <tr style=\"text-align: right;\">\n",
              "      <th></th>\n",
              "      <th>AC Consumtion</th>\n",
              "      <th>Hours</th>\n",
              "      <th>Day of the Week</th>\n",
              "      <th>Month</th>\n",
              "      <th>Week of the Year</th>\n",
              "      <th>Weekend Flag</th>\n",
              "    </tr>\n",
              "  </thead>\n",
              "  <tbody>\n",
              "    <tr>\n",
              "      <th>2014-01-01 06:00:00+00:00</th>\n",
              "      <td>0.0</td>\n",
              "      <td>6</td>\n",
              "      <td>3</td>\n",
              "      <td>1</td>\n",
              "      <td>1</td>\n",
              "      <td>0</td>\n",
              "    </tr>\n",
              "    <tr>\n",
              "      <th>2014-01-01 07:00:00+00:00</th>\n",
              "      <td>0.0</td>\n",
              "      <td>7</td>\n",
              "      <td>3</td>\n",
              "      <td>1</td>\n",
              "      <td>1</td>\n",
              "      <td>0</td>\n",
              "    </tr>\n",
              "    <tr>\n",
              "      <th>2014-01-01 08:00:00+00:00</th>\n",
              "      <td>0.0</td>\n",
              "      <td>8</td>\n",
              "      <td>3</td>\n",
              "      <td>1</td>\n",
              "      <td>1</td>\n",
              "      <td>0</td>\n",
              "    </tr>\n",
              "    <tr>\n",
              "      <th>2014-01-01 09:00:00+00:00</th>\n",
              "      <td>0.0</td>\n",
              "      <td>9</td>\n",
              "      <td>3</td>\n",
              "      <td>1</td>\n",
              "      <td>1</td>\n",
              "      <td>0</td>\n",
              "    </tr>\n",
              "    <tr>\n",
              "      <th>2014-01-01 10:00:00+00:00</th>\n",
              "      <td>0.0</td>\n",
              "      <td>10</td>\n",
              "      <td>3</td>\n",
              "      <td>1</td>\n",
              "      <td>1</td>\n",
              "      <td>0</td>\n",
              "    </tr>\n",
              "    <tr>\n",
              "      <th>...</th>\n",
              "      <td>...</td>\n",
              "      <td>...</td>\n",
              "      <td>...</td>\n",
              "      <td>...</td>\n",
              "      <td>...</td>\n",
              "      <td>...</td>\n",
              "    </tr>\n",
              "    <tr>\n",
              "      <th>2014-12-31 01:00:00+00:00</th>\n",
              "      <td>NaN</td>\n",
              "      <td>1</td>\n",
              "      <td>3</td>\n",
              "      <td>12</td>\n",
              "      <td>1</td>\n",
              "      <td>0</td>\n",
              "    </tr>\n",
              "    <tr>\n",
              "      <th>2014-12-31 02:00:00+00:00</th>\n",
              "      <td>NaN</td>\n",
              "      <td>2</td>\n",
              "      <td>3</td>\n",
              "      <td>12</td>\n",
              "      <td>1</td>\n",
              "      <td>0</td>\n",
              "    </tr>\n",
              "    <tr>\n",
              "      <th>2014-12-31 03:00:00+00:00</th>\n",
              "      <td>NaN</td>\n",
              "      <td>3</td>\n",
              "      <td>3</td>\n",
              "      <td>12</td>\n",
              "      <td>1</td>\n",
              "      <td>0</td>\n",
              "    </tr>\n",
              "    <tr>\n",
              "      <th>2014-12-31 04:00:00+00:00</th>\n",
              "      <td>NaN</td>\n",
              "      <td>4</td>\n",
              "      <td>3</td>\n",
              "      <td>12</td>\n",
              "      <td>1</td>\n",
              "      <td>0</td>\n",
              "    </tr>\n",
              "    <tr>\n",
              "      <th>2014-12-31 05:00:00+00:00</th>\n",
              "      <td>NaN</td>\n",
              "      <td>5</td>\n",
              "      <td>3</td>\n",
              "      <td>12</td>\n",
              "      <td>1</td>\n",
              "      <td>0</td>\n",
              "    </tr>\n",
              "  </tbody>\n",
              "</table>\n",
              "<p>8736 rows × 6 columns</p>\n",
              "</div>"
            ],
            "text/plain": [
              "                           AC Consumtion  Hours  ...  Week of the Year  Weekend Flag\n",
              "2014-01-01 06:00:00+00:00            0.0      6  ...                 1             0\n",
              "2014-01-01 07:00:00+00:00            0.0      7  ...                 1             0\n",
              "2014-01-01 08:00:00+00:00            0.0      8  ...                 1             0\n",
              "2014-01-01 09:00:00+00:00            0.0      9  ...                 1             0\n",
              "2014-01-01 10:00:00+00:00            0.0     10  ...                 1             0\n",
              "...                                  ...    ...  ...               ...           ...\n",
              "2014-12-31 01:00:00+00:00            NaN      1  ...                 1             0\n",
              "2014-12-31 02:00:00+00:00            NaN      2  ...                 1             0\n",
              "2014-12-31 03:00:00+00:00            NaN      3  ...                 1             0\n",
              "2014-12-31 04:00:00+00:00            NaN      4  ...                 1             0\n",
              "2014-12-31 05:00:00+00:00            NaN      5  ...                 1             0\n",
              "\n",
              "[8736 rows x 6 columns]"
            ]
          },
          "metadata": {
            "tags": []
          },
          "execution_count": 179
        }
      ]
    },
    {
      "cell_type": "code",
      "metadata": {
        "id": "emuTVFiqMTgA"
      },
      "source": [
        ""
      ],
      "execution_count": null,
      "outputs": []
    }
  ]
}