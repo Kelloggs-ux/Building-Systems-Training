{
  "nbformat": 4,
  "nbformat_minor": 0,
  "metadata": {
    "colab": {
      "name": "Ramos_Assignment 4.ipynb",
      "provenance": [],
      "collapsed_sections": [
        "mFFo2TmGZW9D",
        "hvRrQ_ZLeYQB",
        "Nnekp_Abeblw",
        "gmT_Hb8peeYE",
        "TydZ91bj5RDQ",
        "i-fUoXYL8nkC"
      ]
    },
    "kernelspec": {
      "name": "python3",
      "display_name": "Python 3"
    }
  },
  "cells": [
    {
      "cell_type": "markdown",
      "metadata": {
        "id": "JQx5VSECZPTT"
      },
      "source": [
        "# Assignment 4"
      ]
    },
    {
      "cell_type": "markdown",
      "metadata": {
        "id": "O5z70hzEZP-U"
      },
      "source": [
        "## Part A"
      ]
    },
    {
      "cell_type": "markdown",
      "metadata": {
        "id": "mFFo2TmGZW9D"
      },
      "source": [
        "### Data"
      ]
    },
    {
      "cell_type": "code",
      "metadata": {
        "id": "NNxUgcn2V96G"
      },
      "source": [
        "Area_House = 50*2.5\n",
        "T_in = 22\n",
        "T_out = -2\n",
        "GlazingPerc = 0.2\n",
        "Frame_InsulatedCavity=0.75\n",
        "Frame_Studs=0.21+0.04\n",
        "\n",
        "R_int = {\"Name\":\"Internal Resistance\",\"Type\":\"convective\",\"Component\":\"InsideSurface\"}\n",
        "R_Gypsum = {\"Name\":\"Gypsum Wallboard Resistance\",\"Type\":\"conductive\",\"Length\":0.013,\"Component\":\"GypsumBoard\"}\n",
        "R_WoodStuds = {\"Name\":\"Wood Studs Resistance\",\"Type\":\"conductive\",\"Length\":0.09,\"Component\":\"WoodStud_2in4\"}\n",
        "R_GlassFiber = {\"Name\":\"Glass Fiber Resistance\",\"Type\":\"conductive\",\"Length\":0.09,\"Component\":\"Insulation_GlassFiber\"}\n",
        "R_AirGap = {\"Name\":\"Air Gap Resistance\",\"Type\":\"air-gap\",\"Length\":0.04,\"Component\":\"air-gap\",\"Code\":\"VH_b_a\",\"Epsilon 1\":0.9,\"Epsilon 2\":0.05}\n",
        "R_WoodFiber = {\"Name\":\"Wood Fiberboard Resistance\",\"Type\":\"conductive\",\"Length\":0.013,\"Component\":\"WoodFiberboard\"}\n",
        "R_WoodBevel = {\"Name\":\"Wood Bevel Lapped Siding Resistance\",\"Type\":\"conductive\",\"Length\":0.013,\"Component\":\"WoodBevelLappedSiding\"}\n",
        "R_out = {\"Name\":\"External Resistance\",\"Type\":\"convective\",\"Component\":\"OutsideSurface_Winter\"}\n",
        "\n",
        "Resistance_List = [R_int,R_Gypsum,R_WoodStuds,R_GlassFiber,R_AirGap,R_WoodFiber,R_WoodBevel,R_out]\n",
        "Resistance_withWood = [R_int,R_Gypsum,R_WoodStuds,R_AirGap,R_WoodFiber,R_WoodBevel,R_out]\n",
        "Resistance_withInsulation = [R_int,R_Gypsum,R_GlassFiber,R_AirGap,R_WoodFiber,R_WoodBevel,R_out]"
      ],
      "execution_count": 42,
      "outputs": []
    },
    {
      "cell_type": "markdown",
      "metadata": {
        "id": "hvRrQ_ZLeYQB"
      },
      "source": [
        "### Libraries"
      ]
    },
    {
      "cell_type": "markdown",
      "metadata": {
        "id": "Nnekp_Abeblw"
      },
      "source": [
        "#### Materials"
      ]
    },
    {
      "cell_type": "code",
      "metadata": {
        "id": "PlkfnMDKeULH"
      },
      "source": [
        "OutsideSurface_Winter = {\"Unit Thermal Resistance\":0.03}\n",
        "OutsideSurface_Summer = {\"Unit Thermal Resistance\":0.044}\n",
        "InsideSurface = {\"Unit Thermal Resistance\":0.12}\n",
        "PAS_13 = {\"Standard Efficiency\":0.82,\"Unit Thermal Resistance\":0.16}\n",
        "PAS_20 = {\"Standard Efficiency\":0.82,\"Unit Thermal Resistance\":0.17}\n",
        "PAS_40 = {\"Standard Efficiency\":0.82,\"Unit Thermal Resistance\":0.16}\n",
        "PAS_90 = {\"Standard Efficiency\":0.82,\"Unit Thermal Resistance\":0.16}\n",
        "Insulation_GlassFiber = {\"Standard Length\":0.025,\"Unit Thermal Resistance\":0.7}\n",
        "Insulation_MineralFiberBatt = {\"Standard Length\":0.025,\"Unit Thermal Resistance\":0.66}\n",
        "Insulation_UrethaneRigidFoam = {\"Standard Length\":0.025,\"Unit Thermal Resistance\":0.98}\n",
        "Stucco = {\"Standard Length\":0.025,\"Unit Thermal Resistance\":0.037}\n",
        "FaceBrick = {\"Standard Length\":0.1,\"Unit Thermal Resistance\":0.075}\n",
        "CommonBrick = {\"Standard Length\":0.1,\"Unit Thermal Resistance\":0.12}\n",
        "SteelSiding = {\"Unit Thermal Resistance\":0.}\n",
        "Slag = {\"Standard Length\":0.013,\"Unit Thermal Resistance\":0.067}\n",
        "Wood = {\"Standard Length\":0.025,\"Unit Thermal Resistance\":0.22}\n",
        "WoodStud_2in4 = {\"Standard Length\":0.09,\"Unit Thermal Resistance\":0.63}\n",
        "WoodStud_2in6 = {\"Standard Length\":0.14,\"Unit Thermal Resistance\":0.98}\n",
        "ClayTile = {\"Standard Length\":0.1,\"Unit Thermal Resistance\":0.18}\n",
        "AcousticTile = {\"Unit Thermal Resistance\":0.32}\n",
        "AsphaltShingleRoofing = {\"Unit Thermal Resistance\":0.077}\n",
        "BuildingPaper = {\"Unit Thermal Resistance\":0.011}\n",
        "ConcreteBlock_Light = {\"Standard Length\":0.1,\"Unit Thermal Resistance\":0.27}\n",
        "ConcreteBlock_Heavy = {\"Standard Length\":0.1,\"Unit Thermal Resistance\":0.13}\n",
        "Plaster = {\"Standard Length\":0.013,\"Unit Thermal Resistance\":0.079}\n",
        "GypsumBoard = {\"Standard Length\":0.013,\"Unit Thermal Resistance\":0.079}\n",
        "WoodFiberboard= {\"Standard Length\":0.013,\"Unit Thermal Resistance\":0.23}\n",
        "Plywood = {\"Standard Length\":0.013,\"Unit Thermal Resistance\":0.11}\n",
        "Concrete_Light = {\"Standard Length\":0.2,\"Unit Thermal Resistance\":1.17}\n",
        "Concrete_Heavy = {\"Standard Length\":0.2,\"Unit Thermal Resistance\":0.12}\n",
        "CementMortar = {\"Standard Length\":0.013,\"Unit Thermal Resistance\":0.018}\n",
        "WBLS = {\"Standard Length\":0.013,\"Unit Thermal Resistance\":0.14}\n",
        "\n",
        "ThermalResistanceLibrary_Material = {\"OutsideSurface_Winter\":OutsideSurface_Winter,\"OutsideSurface_Summer\":OutsideSurface_Summer,\"InsideSurface\":InsideSurface,\n",
        "                                     \"PlaneAirSpace_13\":PAS_13,\"PlaneAirSpace_20\":PAS_20,\"PlaneAirSpace_40\":PAS_40,\"PlaneAirSpace_90\":PAS_90,\n",
        "                                     \"Insulation_GlassFiber\":Insulation_GlassFiber,\"Insulation_MineralFiberBatt\":Insulation_MineralFiberBatt,\n",
        "                                     \"Insulation_UrethaneRigidFoam\":Insulation_UrethaneRigidFoam,\"Stucco\":Stucco,\"FaceBrick\":FaceBrick,\"CommonBrick\":CommonBrick,\n",
        "                                     \"SteelSiding\":SteelSiding,\"Slag\":Slag,\"Wood\":Wood,\"WoodStud_2in4\":WoodStud_2in4,\"WoodStud_2in6\":WoodStud_2in6,\"ClayTile\":ClayTile,\n",
        "                                     \"AcousticTile\":AcousticTile,\"AsphaltShingleRoofing\":AsphaltShingleRoofing,\"BuildingPaper\":BuildingPaper,\n",
        "                                     \"ConcreteBlock_Light\":ConcreteBlock_Light,\"ConcreteBlock_Heavy\":ConcreteBlock_Heavy,\"Plaster\":Plaster,\"GypsumBoard\":GypsumBoard,\n",
        "                                     \"WoodFiberboard\":WoodFiberboard,\"Plywood\":Plywood,\"Concrete_Light\":Concrete_Light,\"Concrete_Heavy\":Concrete_Heavy,\n",
        "                                     \"CementMortar\":CementMortar,\"WoodBevelLappedSiding\":WBLS}"
      ],
      "execution_count": 43,
      "outputs": []
    },
    {
      "cell_type": "markdown",
      "metadata": {
        "id": "gmT_Hb8peeYE"
      },
      "source": [
        "#### Air-Gaps"
      ]
    },
    {
      "cell_type": "code",
      "metadata": {
        "id": "-pc0cQiyegD0"
      },
      "source": [
        "HU_a_a = {20:{0.03:0.41,0.05:0.39,0.5:0.18,0.82:0.13},40:{0.03:0.45,0.05:0.42,0.5:0.19,0.82:0.14},90:{0.03:0.50,0.05:0.47,0.5:0.20,0.82:0.14}}\n",
        "HU_b_b = {20:{0.03:0.30,0.05:0.29,0.5:0.17,0.82:0.14},40:{0.03:0.33,0.05:0.32,0.5:0.18,0.82:0.14},90:{0.03:0.27,0.05:0.35,0.5:0.19,0.82:0.15}}\n",
        "HU_b_a = {20:{0.03:0.40,0.05:0.39,0.5:0.20,0.82:0.15},40:{0.03:0.44,0.05:0.42,0.5:0.21,0.82:0.16},90:{0.03:0.49,0.05:0.47,0.5:0.23,0.82:0.16}}\n",
        "HU_c_c = {20:{0.03:0.32,0.05:0.32,0.5:0.20,0.82:0.16},40:{0.03:0.35,0.05:0.34,0.5:0.22,0.82:0.17},90:{0.03:0.40,0.05:0.38,0.5:0.23,0.82:0.18}}\n",
        "SU_a_a = {20:{0.03:0.52,0.05:0.49,0.5:0.20,0.82:0.14},40:{0.03:0.51,0.05:0.48,0.5:0.20,0.82:0.14},90:{0.03:0.56,0.05:0.52,0.5:0.21,0.82:0.14}}\n",
        "SU_b_b = {20:{0.03:0.35,0.05:0.34,0.5:0.19,0.82:0.14},40:{0.03:0.38,0.05:0.36,0.5:0.20,0.82:0.15},90:{0.03:0.40,0.05:0.38,0.5:0.20,0.82:0.15}}\n",
        "SU_b_a = {20:{0.03:0.51,0.05:0.48,0.5:0.23,0.82:0.17},40:{0.03:0.51,0.05:0.48,0.5:0.23,0.82:0.17},90:{0.03:0.55,0.05:0.52,0.5:0.24,0.82:0.17}}\n",
        "SU_c_c = {20:{0.03:0.37,0.05:0.36,0.5:0.23,0.82:0.18},40:{0.03:0.40,0.05:0.39,0.5:0.24,0.82:0.18},90:{0.03:0.43,0.05:0.41,0.5:0.24,0.82:0.19}}\n",
        "VH_a_a = {20:{0.03:0.62,0.05:0.57,0.5:0.21,0.82:0.15},40:{0.03:0.70,0.05:0.64,0.5:0.22,0.82:0.15},90:{0.03:0.65,0.05:0.60,0.5:0.22,0.82:0.15}}\n",
        "VH_b_b = {20:{0.03:0.51,0.05:0.49,0.5:0.23,0.82:0.17},40:{0.03:0.45,0.05:0.43,0.5:0.22,0.82:0.16},90:{0.03:0.47,0.05:0.45,0.5:0.22,0.82:0.16}}\n",
        "VH_b_a = {20:{0.03:0.65,0.05:0.61,0.5:0.25,0.82:0.18},40:{0.03:0.67,0.05:0.62,0.5:0.26,0.82:0.18},90:{0.03:0.64,0.05:0.60,0.5:0.25,0.82:0.18}}\n",
        "VH_c_c = {20:{0.03:0.55,0.05:0.53,0.5:0.28,0.82:0.21},40:{0.03:0.49,0.05:0.47,0.5:0.26,0.82:0.20},90:{0.03:0.51,0.05:0.49,0.5:0.27,0.82:0.20}}\n",
        "SD_a_a = {20:{0.03:0.62,0.05:0.58,0.5:0.21,0.82:0.15},40:{0.03:0.89,0.05:0.80,0.5:0.24,0.82:0.16},90:{0.03:0.85,0.05:0.76,0.5:0.24,0.82:0.16}}\n",
        "SD_b_b = {20:{0.03:0.51,0.05:0.57,0.5:0.24,0.82:0.17},40:{0.03:0.63,0.05:0.59,0.5:0.25,0.82:0.18},90:{0.03:0.62,0.05:0.58,0.5:0.25,0.82:0.18}}\n",
        "SD_b_a = {20:{0.03:0.65,0.05:0.63,0.5:0.26,0.82:0.18},40:{0.03:0.90,0.05:0.82,0.5:0.28,0.82:0.19},90:{0.03:0.83,0.05:0.77,0.5:0.28,0.82:0.19}}\n",
        "SD_c_c = {20:{0.03:0.55,0.05:0.63,0.5:0.30,0.82:0.22},40:{0.03:0.68,0.05:0.64,0.5:0.31,0.82:0.22},90:{0.03:0.67,0.05:0.64,0.5:0.31,0.82:0.22}}\n",
        "HD_a_a = {20:{0.03:0.62,0.05:0.58,0.5:0.21,0.82:0.15},40:{0.03:1.07,0.05:0.94,0.5:0.19,0.82:0.17},90:{0.03:1.77,0.05:1.44,0.5:0.28,0.82:0.18}}\n",
        "HD_b_b = {20:{0.03:0.60,0.05:0.62,0.5:0.25,0.82:0.18},40:{0.03:1.10,0.05:0.99,0.5:0.19,0.82:0.20},90:{0.03:1.69,0.05:1.44,0.5:0.33,0.82:0.21}}\n",
        "HD_b_a = {20:{0.03:0.67,0.05:0.63,0.5:0.26,0.82:0.18},40:{0.03:1.16,0.05:1.04,0.5:0.19,0.82:0.20},90:{0.03:1.96,0.05:1.63,0.5:0.34,0.82:0.22}}\n",
        "HD_c_c = {20:{0.03:0.66,0.05:0.70,0.5:0.32,0.82:0.23},40:{0.03:1.24,0.05:1.13,0.5:0.19,0.82:0.26},90:{0.03:1.92,0.05:1.68,0.5:0.43,0.82:0.29}}\n",
        "\n",
        "\n",
        "ThermalResistanceLibrary_AirGap = {\"HU_a_a\":HU_a_a,\"HU_b_b\":HU_b_b,\"HU_b_a\":HU_b_a,\"HU_c_c\":HU_c_c,\n",
        "                                   \"SU_a_a\":SU_a_a,\"HU_b_b\":SU_b_b,\"SU_b_a\":SU_b_a,\"SU_c_c\":SU_c_c,\n",
        "                                   \"VH_a_a\":VH_a_a,\"VH_b_b\":VH_b_b,\"VH_b_a\":VH_b_a,\"VH_c_c\":VH_c_c,\n",
        "                                   \"SD_a_a\":SD_a_a,\"SD_b_b\":SD_b_b,\"SD_b_a\":SD_b_a,\"SD_c_c\":SD_c_c,\n",
        "                                   \"HD_a_a\":HD_a_a,\"HD_b_b\":HD_b_b,\"HD_b_a\":HD_b_a,\"HD_c_c\":HD_c_c}"
      ],
      "execution_count": 44,
      "outputs": []
    },
    {
      "cell_type": "markdown",
      "metadata": {
        "id": "TydZ91bj5RDQ"
      },
      "source": [
        "### Functions"
      ]
    },
    {
      "cell_type": "code",
      "metadata": {
        "id": "et-zSy4k5T1w"
      },
      "source": [
        "def EpsilonEfficiency(ep1=0.9,ep2=0.9):\n",
        "  result = 0\n",
        "  result = 1/(1/ep1+1/ep2-1)\n",
        "  return result"
      ],
      "execution_count": 45,
      "outputs": []
    },
    {
      "cell_type": "markdown",
      "metadata": {
        "id": "NEdLsKUI3j6F"
      },
      "source": [
        "### Overall Unit Thermal Resistance and Unit Heat Transfer Coefficient"
      ]
    },
    {
      "cell_type": "markdown",
      "metadata": {
        "id": "0MEuNSME8Z6c"
      },
      "source": [
        "#### Assigning the Thermal Resistance to each Component"
      ]
    },
    {
      "cell_type": "code",
      "metadata": {
        "id": "yUjLkPAP1Cn1"
      },
      "source": [
        "for resist in Resistance_List:\n",
        "  if resist[\"Component\"] in ThermalResistanceLibrary_Material:\n",
        "    if resist[\"Type\"] == \"conductive\":\n",
        "      resist[\"Unit Thermal Resistance\"] = float(ThermalResistanceLibrary_Material[resist[\"Component\"]][\"Unit Thermal Resistance\"]*resist[\"Length\"])/(ThermalResistanceLibrary_Material[resist[\"Component\"]][\"Standard Length\"])\n",
        "    elif resist[\"Type\"] == \"convective\":\n",
        "      resist[\"Unit Thermal Resistance\"] = ThermalResistanceLibrary_Material[resist[\"Component\"]][\"Unit Thermal Resistance\"]\n",
        "    else:\n",
        "      print(\"I don't have data on this type of resistance\")\n",
        "  elif resist[\"Component\"] == \"air-gap\":\n",
        "    EffectiveEmissivity = round(EpsilonEfficiency(resist[\"Epsilon 1\"],resist[\"Epsilon 2\"]),2)\n",
        "    resist[\"Effective Emissivity\"] = EffectiveEmissivity\n",
        "    resist[\"Unit Thermal Resistance\"] = ThermalResistanceLibrary_AirGap[resist[\"Code\"]][resist[\"Length\"]*1000][resist[\"Effective Emissivity\"]]\n",
        "  else:\n",
        "    print(\"I don't have data on the compinent of this resistance\")"
      ],
      "execution_count": 46,
      "outputs": []
    },
    {
      "cell_type": "markdown",
      "metadata": {
        "id": "i-fUoXYL8nkC"
      },
      "source": [
        "### Results"
      ]
    },
    {
      "cell_type": "code",
      "metadata": {
        "id": "_wmegGvr8skI",
        "outputId": "2ec7dbbb-3db2-41ff-a66b-4809b25867bd",
        "colab": {
          "base_uri": "https://localhost:8080/",
          "height": 70
        }
      },
      "source": [
        "# Let's first calculate the Overall Thermal Resistance and Overall Heat Transfer Coefficient per square meter\n",
        "\n",
        "R_Tot_withWood = 0\n",
        "R_Tot_withInsulation = 0\n",
        "R_Tot = 0\n",
        "U_Tot = 0\n",
        "\n",
        "for i in Resistance_withWood:\n",
        "  R_Tot_withWood = R_Tot_withWood + i[\"Unit Thermal Resistance\"]\n",
        "\n",
        "for i in Resistance_withInsulation:\n",
        "  R_Tot_withInsulation = R_Tot_withInsulation + i[\"Unit Thermal Resistance\"]\n",
        "\n",
        "R_Tot = 1/(Frame_InsulatedCavity/R_Tot_withInsulation + Frame_Studs/R_Tot_withWood)\n",
        "U_Tot = 1/R_Tot\n",
        "\n",
        "print(\"The Overall Thermal Resistance of the wood frame considering it all made of wood is \"+str(round(R_Tot_withWood,4))+\" m\\u00b2°C/W and considering it all made of insulation is \"+str(round(R_Tot_withInsulation,4))+\"m\\u00b2°C/W\")\n",
        "print(\"Taking into account that the insulated cavity constitutes \"+str(100*Frame_InsulatedCavity)+\n",
        "      \"% of the heat transmission area and the rest can be treated as studs, the Overall Unit Thermal Resistance is \"+str(round(R_Tot,4))+\n",
        "      \" m\\u00b2°C/W and the Overall Unit Heat Transfer Coefficient \"+str(round(U_Tot,4))+\" W/m\\u00b2°C\")"
      ],
      "execution_count": 47,
      "outputs": [
        {
          "output_type": "stream",
          "text": [
            "The Overall Thermal Resistance of the wood frame considering it all made of wood is 1.849 m²°C/W and considering it all made of insulation is 3.739m²°C/W\n",
            "Taking into account that the insulated cavity constitutes 75.0% of the heat transmission area and the rest can be treated as studs, the Overall Unit Thermal Resistance is 2.978 m²°C/W and the Overall Unit Heat Transfer Coefficient 0.3358 W/m²°C\n"
          ],
          "name": "stdout"
        }
      ]
    },
    {
      "cell_type": "markdown",
      "metadata": {
        "id": "FzO1RgGO_1PS"
      },
      "source": [
        "#### Rate Heat Loss of the House in Winter\n",
        "\n",
        "We calculated the Overall Unit Heat Transfer Coefficient; to calculate the heat loss through the wall of the whole house we need to consider the total area of the walls, calculated using the perimiter of the house, the wall height and the percentage of glass."
      ]
    },
    {
      "cell_type": "code",
      "metadata": {
        "id": "mlXqvh5b_5dL",
        "outputId": "4c0e4b69-05fb-4f8d-ca28-5a35285397b2",
        "colab": {
          "base_uri": "https://localhost:8080/",
          "height": 34
        }
      },
      "source": [
        "A_Walls = Area_House * (1-GlazingPerc)\n",
        "deltaT = T_in - T_out\n",
        "\n",
        "Q = U_Tot * A_Walls * deltaT\n",
        "\n",
        "print(\"The Total Heat Loss through the walls is \"+str(round(Q,2))+\" Watts\")"
      ],
      "execution_count": 48,
      "outputs": [
        {
          "output_type": "stream",
          "text": [
            "The Total Heat Loss through the walls is 805.91 Watts\n"
          ],
          "name": "stdout"
        }
      ]
    },
    {
      "cell_type": "markdown",
      "metadata": {
        "id": "CkgRj21vAJkQ"
      },
      "source": [
        "## Part B"
      ]
    },
    {
      "cell_type": "code",
      "metadata": {
        "id": "i14pvEylAKxU"
      },
      "source": [
        "def ResistanceFunc (ResistList):\n",
        "  UnitThermalResistances = {}\n",
        "  UnitThermalResistances = {\"Resistances\":{},\"Total Thermal Resistance\":{}}\n",
        "  R_Total = 0\n",
        "  for resist in ResistList:\n",
        "    if resist[\"Component\"] in ThermalResistanceLibrary_Material:\n",
        "      if resist[\"Type\"] == \"conductive\":\n",
        "        resist[\"Unit Thermal Resistance\"] = float(ThermalResistanceLibrary_Material[resist[\"Component\"]][\"Unit Thermal Resistance\"]*resist[\"Length\"])/(ThermalResistanceLibrary_Material[resist[\"Component\"]][\"Standard Length\"])\n",
        "        UnitThermalResistances[\"Resistances\"][resist[\"Name\"]] = resist[\"Unit Thermal Resistance\"]\n",
        "      elif resist[\"Type\"] == \"convective\":\n",
        "        resist[\"Unit Thermal Resistance\"] = ThermalResistanceLibrary_Material[resist[\"Component\"]][\"Unit Thermal Resistance\"]\n",
        "        UnitThermalResistances[\"Resistances\"][resist[\"Name\"]] = resist[\"Unit Thermal Resistance\"]\n",
        "      else:\n",
        "        print(\"I don't have data on this type of resistance\")\n",
        "    elif resist[\"Component\"] == \"air-gap\":\n",
        "      EffectiveEmissivity = round(EpsilonEfficiency(resist[\"Epsilon 1\"],resist[\"Epsilon 2\"]),2)\n",
        "      resist[\"Effective Emissivity\"] = EffectiveEmissivity\n",
        "      resist[\"Unit Thermal Resistance\"] = ThermalResistanceLibrary_AirGap[resist[\"Code\"]][resist[\"Length\"]*1000][resist[\"Effective Emissivity\"]]\n",
        "      UnitThermalResistances[\"Resistances\"][resist[\"Name\"]] = resist[\"Unit Thermal Resistance\"]\n",
        "    else:\n",
        "      print(\"I don't have data on the compinent of this resistance\")\n",
        "  UnitThermalResistances[\"Total Thermal Resistance\"] = round(sum(UnitThermalResistances[\"Resistances\"].values()),3)\n",
        "  print(UnitThermalResistances)"
      ],
      "execution_count": 52,
      "outputs": []
    },
    {
      "cell_type": "code",
      "metadata": {
        "id": "sXJAl-aR97bs"
      },
      "source": [
        "Agga = Resistance_List"
      ],
      "execution_count": 53,
      "outputs": []
    },
    {
      "cell_type": "code",
      "metadata": {
        "id": "RfASb0x_EV5t",
        "outputId": "c0f6cc68-85d3-4245-a867-f91b670e8b9c",
        "colab": {
          "base_uri": "https://localhost:8080/",
          "height": 54
        }
      },
      "source": [
        "ResistanceFunc(Agga)"
      ],
      "execution_count": 54,
      "outputs": [
        {
          "output_type": "stream",
          "text": [
            "{'Resistances': {'Internal Resistance': 0.12, 'Gypsum Wallboard Resistance': 0.079, 'Wood Studs Resistance': 0.63, 'Glass Fiber Resistance': 2.52, 'Air Gap Resistance': 0.62, 'Wood Fiberboard Resistance': 0.23, 'Wood Bevel Lapped Siding Resistance': 0.14, 'External Resistance': 0.03}, 'Total Thermal Resistance': 4.369}\n"
          ],
          "name": "stdout"
        }
      ]
    },
    {
      "cell_type": "code",
      "metadata": {
        "id": "WaLxdM3zE_xh"
      },
      "source": [
        ""
      ],
      "execution_count": 51,
      "outputs": []
    }
  ]
}