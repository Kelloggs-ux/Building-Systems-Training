{
  "nbformat": 4,
  "nbformat_minor": 0,
  "metadata": {
    "colab": {
      "name": "Ramos_Assignment 5.ipynb",
      "provenance": [],
      "collapsed_sections": []
    },
    "kernelspec": {
      "name": "python3",
      "display_name": "Python 3"
    }
  },
  "cells": [
    {
      "cell_type": "markdown",
      "metadata": {
        "id": "Dej-oslH6GN_"
      },
      "source": [
        "# Assignment 5"
      ]
    },
    {
      "cell_type": "code",
      "metadata": {
        "id": "e87pR5Ct5sVQ"
      },
      "source": [
        "import numpy as np"
      ],
      "execution_count": 3,
      "outputs": []
    },
    {
      "cell_type": "markdown",
      "metadata": {
        "id": "lEZLh2sN6oG3"
      },
      "source": [
        "## Data"
      ]
    },
    {
      "cell_type": "code",
      "metadata": {
        "id": "i6BeTXVf6nr3"
      },
      "source": [
        "Wall_Heigh = 3\n",
        "Wall_Wide = 5\n",
        "Area_Total = Wall_Heigh * Wall_Wide\n",
        "Unit_Depth = 1\n",
        "Unit_Heigh = 0.25\n",
        "Unit_Area = Unit_Depth * Unit_Heigh\n",
        "Temperature_Indoor = 20\n",
        "Temperature_Outdoor = -10\n",
        "\n",
        "Resistances_Wall_Name = np.array([\"R_Internal\",\"R_Foam\",\"R_Plaster1\",\"R_Parallel\",\"R_Plaster2\",\"R_External\"])\n",
        "Resistances_Wall_Type = np.array([\"conv\",\"cond\",\"cond\",\"cond\",\"cond\",\"conv\"])\n",
        "Resistances_Wall_Area = np.array([Unit_Area,Unit_Area,Unit_Area,Unit_Area,Unit_Area,Unit_Area])\n",
        "Resistances_Wall_k = np.array([None,0.026,0.22,None,0.22,None])\n",
        "Resistances_Wall_L = np.array([None,0.03,0.02,0.16,0.02,None])\n",
        "Resistances_Wall_h = np.array([10,None,None,None,None,25])\n",
        "\n",
        "Resistance_Parallel_Names = np.array([\"R_Plaster_Brick1\",\"R_Brick\",\"R_Plaster_Brick2\"])\n",
        "Resistance_Parallel_Type = np.array([\"cond\",\"cond\",\"cond\"])\n",
        "Resistance_Parallel_Area = np.array([Unit_Depth*0.015,Unit_Depth*0.22,Unit_Depth*0.015])\n",
        "Resistance_Parallel_k = np.array([0.22,0.72,0.22])\n",
        "Resistance_Parallel_L = np.array([0.16,0.16,0.16])\n",
        "Resistance_Parallel_h = np.array([None,None,None])"
      ],
      "execution_count": 4,
      "outputs": []
    },
    {
      "cell_type": "markdown",
      "metadata": {
        "id": "P9Tfwf3VCPo2"
      },
      "source": [
        "### Calculating the Resistance Value of the Parallel Resistances"
      ]
    },
    {
      "cell_type": "code",
      "metadata": {
        "id": "cPj8ooq2CXde",
        "outputId": "3178adef-c898-4593-9e09-4c1c8c645469",
        "colab": {
          "base_uri": "https://localhost:8080/",
          "height": 34
        }
      },
      "source": [
        "Resistance_Parallel_RValues = np.zeros(3)\n",
        "RValue_Parallel = 0\n",
        "\n",
        "Resistance_Parallel_RValues = Resistance_Parallel_L / (Resistance_Parallel_Area * Resistance_Parallel_k)\n",
        "RValue_Parallel = 1/sum(np.power(Resistance_Parallel_RValues,-1))\n",
        "RValue_Parallel"
      ],
      "execution_count": 5,
      "outputs": [
        {
          "output_type": "execute_result",
          "data": {
            "text/plain": [
              "0.96969696969697"
            ]
          },
          "metadata": {
            "tags": []
          },
          "execution_count": 5
        }
      ]
    },
    {
      "cell_type": "code",
      "metadata": {
        "id": "_Xci9XtfGH3s"
      },
      "source": [
        "boolean_array_R_Parallel = Resistances_Wall_Name == \"R_Parallel\""
      ],
      "execution_count": 6,
      "outputs": []
    },
    {
      "cell_type": "markdown",
      "metadata": {
        "id": "ZlvWJLfaFx7X"
      },
      "source": [
        "### Calculating Rate of Heat Transfer Through the 1 Unit of Wall"
      ]
    },
    {
      "cell_type": "code",
      "metadata": {
        "id": "th_lS8xXDvBA"
      },
      "source": [
        "Resistances_Wall_RValues = np.zeros(6)\n",
        "Resistances_Wall_RValues2 = np.zeros(6)\n",
        "Resistances_Wall_RValues[boolean_array_R_Parallel] = RValue_Parallel"
      ],
      "execution_count": 7,
      "outputs": []
    },
    {
      "cell_type": "markdown",
      "metadata": {
        "id": "qlt5WjK5Kn2t"
      },
      "source": [
        "#### Conductive Resistances"
      ]
    },
    {
      "cell_type": "code",
      "metadata": {
        "id": "rYXQDKp8HAGZ"
      },
      "source": [
        "boolean_array_conductive = (Resistances_Wall_Type == \"cond\") & (Resistances_Wall_k != None)\n",
        "\n",
        "resistances_A_cond = Resistances_Wall_Area[boolean_array_conductive]\n",
        "resistances_k_cond = Resistances_Wall_k[boolean_array_conductive]\n",
        "resistances_L_cond = Resistances_Wall_L[boolean_array_conductive]"
      ],
      "execution_count": 8,
      "outputs": []
    },
    {
      "cell_type": "code",
      "metadata": {
        "id": "dBBPAvOtHmAw",
        "outputId": "ea98a9c0-c517-4155-9a91-31f69f7f29a2",
        "colab": {
          "base_uri": "https://localhost:8080/",
          "height": 50
        }
      },
      "source": [
        "resistances_R_cond = resistances_L_cond/(resistances_A_cond*resistances_k_cond)\n",
        "Resistances_Wall_RValues[boolean_array_conductive] = resistances_R_cond\n",
        "Resistances_Wall_RValues"
      ],
      "execution_count": 9,
      "outputs": [
        {
          "output_type": "execute_result",
          "data": {
            "text/plain": [
              "array([0.        , 4.61538462, 0.36363636, 0.96969697, 0.36363636,\n",
              "       0.        ])"
            ]
          },
          "metadata": {
            "tags": []
          },
          "execution_count": 9
        }
      ]
    },
    {
      "cell_type": "markdown",
      "metadata": {
        "id": "310hR5siKrFz"
      },
      "source": [
        "#### Convective Resistances"
      ]
    },
    {
      "cell_type": "code",
      "metadata": {
        "id": "pdSjDiBUKnKr"
      },
      "source": [
        "boolean_array_convective = Resistances_Wall_Type == \"conv\"\n",
        "\n",
        "resistances_A_conv = Resistances_Wall_Area[boolean_array_convective]\n",
        "resistances_h_conv = Resistances_Wall_h[boolean_array_convective]"
      ],
      "execution_count": 10,
      "outputs": []
    },
    {
      "cell_type": "code",
      "metadata": {
        "id": "Cv8PdtvAKQCJ"
      },
      "source": [
        "resistances_R_conv = 1/(resistances_A_conv*resistances_h_conv)\n",
        "Resistances_Wall_RValues[boolean_array_convective] = resistances_R_conv"
      ],
      "execution_count": 11,
      "outputs": []
    },
    {
      "cell_type": "markdown",
      "metadata": {
        "id": "eQiNUqVmNQwb"
      },
      "source": [
        "#### Rate Heat Transfer Through the Total Wall"
      ]
    },
    {
      "cell_type": "code",
      "metadata": {
        "id": "T3Ms9BSnMF3W",
        "outputId": "28e8cbce-95a1-4ceb-fa96-fafd443dcf83",
        "colab": {
          "base_uri": "https://localhost:8080/",
          "height": 34
        }
      },
      "source": [
        "R_Total=np.sum(Resistances_Wall_RValues)\n",
        "R_Total"
      ],
      "execution_count": 12,
      "outputs": [
        {
          "output_type": "execute_result",
          "data": {
            "text/plain": [
              "6.872354312354313"
            ]
          },
          "metadata": {
            "tags": []
          },
          "execution_count": 12
        }
      ]
    },
    {
      "cell_type": "code",
      "metadata": {
        "id": "ApRHX2Q_NcW9"
      },
      "source": [
        "Q_Unit = (Temperature_Indoor - Temperature_Outdoor)/R_Total\n",
        "Q_Total = Q_Unit * Wall_Heigh/Unit_Heigh * Wall_Wide"
      ],
      "execution_count": 13,
      "outputs": []
    },
    {
      "cell_type": "code",
      "metadata": {
        "id": "9SF2g38DN6tb",
        "outputId": "b736ba89-5b4c-41a2-e2af-3c68972abb75",
        "colab": {
          "base_uri": "https://localhost:8080/",
          "height": 34
        }
      },
      "source": [
        "print(\"The Rate of Heat Transfer through the wall is \"+str(round(Q_Total,2))+\" Watts\")"
      ],
      "execution_count": 14,
      "outputs": [
        {
          "output_type": "stream",
          "text": [
            "The Rate of Heat Transfer through the wall is 261.92 Watts\n"
          ],
          "name": "stdout"
        }
      ]
    }
  ]
}